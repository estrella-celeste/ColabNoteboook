{
  "nbformat": 4,
  "nbformat_minor": 0,
  "metadata": {
    "colab": {
      "provenance": [],
      "collapsed_sections": [
        "rwBk9yo3DYJp"
      ],
      "authorship_tag": "ABX9TyOAC/mI67heZNPRnThXekG2",
      "include_colab_link": true
    },
    "kernelspec": {
      "name": "python3",
      "display_name": "Python 3"
    },
    "language_info": {
      "name": "python"
    }
  },
  "cells": [
    {
      "cell_type": "markdown",
      "metadata": {
        "id": "view-in-github",
        "colab_type": "text"
      },
      "source": [
        "<a href=\"https://colab.research.google.com/github/estrella-celeste/ColabNoteboook/blob/main/EstrDiazU9proj.ipynb\" target=\"_parent\"><img src=\"https://colab.research.google.com/assets/colab-badge.svg\" alt=\"Open In Colab\"/></a>"
      ]
    },
    {
      "cell_type": "markdown",
      "source": [
        "### Importing Libraries"
      ],
      "metadata": {
        "id": "rwBk9yo3DYJp"
      }
    },
    {
      "cell_type": "code",
      "source": [
        "import torch\n",
        "import numpy as np\n",
        "from torch import nn\n",
        "import pandas as pd\n",
        "import sklearn\n",
        "import seaborn as sns\n",
        "from sklearn.model_selection import train_test_split\n",
        "from sklearn.preprocessing import StandardScaler\n",
        "import matplotlib.pyplot as plt"
      ],
      "metadata": {
        "id": "hT3YA5jgOGr-"
      },
      "execution_count": 1,
      "outputs": []
    },
    {
      "cell_type": "markdown",
      "source": [
        "# Unit 9 Project"
      ],
      "metadata": {
        "id": "TCmLcj-DDQ3D"
      }
    },
    {
      "cell_type": "markdown",
      "source": [
        "This [dataset](https://catalog.data.gov/dataset/water-quality-data-41c5e) has multiple numerical columns, so I hope this would be easy to use."
      ],
      "metadata": {
        "id": "itfY0gJGWZ0a"
      }
    },
    {
      "cell_type": "markdown",
      "source": [
        "### Background info on the dataset and setting up\n",
        "\n",
        "The dataset is from the Department of the Interior, which shows how the water quality (place is unspecied) over a period of time by salinity, dissolved oxygen, ph, secchi depth, water depth, water temp, and air temp."
      ],
      "metadata": {
        "id": "sKKPFd5iXIAy"
      }
    },
    {
      "cell_type": "code",
      "source": [
        "#importing the dataset\n",
        "water = pd.read_csv(\"waterdataset.csv\")"
      ],
      "metadata": {
        "id": "-Ov1RrN1Nr1X"
      },
      "execution_count": 2,
      "outputs": []
    },
    {
      "cell_type": "code",
      "source": [
        "#dataset\n",
        "water"
      ],
      "metadata": {
        "colab": {
          "base_uri": "https://localhost:8080/",
          "height": 565
        },
        "id": "Lnoke5FPO1z1",
        "outputId": "3db4a674-cbc0-4e67-90ac-d182c92e1490"
      },
      "execution_count": 3,
      "outputs": [
        {
          "output_type": "execute_result",
          "data": {
            "text/plain": [
              "     Site_Id Unit_Id   Read_Date  Salinity (ppt)  Dissolved Oxygen (mg/L)  \\\n",
              "0        Bay     NaN    1/3/1994             1.3                     11.7   \n",
              "1        Bay     NaN   1/31/1994             1.5                     12.0   \n",
              "2        Bay     NaN    2/7/1994             1.0                     10.5   \n",
              "3        Bay     NaN   2/23/1994             1.0                     10.1   \n",
              "4        Bay     NaN   2/28/1994             1.0                     12.6   \n",
              "...      ...     ...         ...             ...                      ...   \n",
              "2366     Bay     NaN  10/11/2018             1.9                      5.0   \n",
              "2367     Bay     NaN  10/24/2018             0.0                      9.0   \n",
              "2368     Bay     NaN  10/28/2018             0.9                      2.9   \n",
              "2369     Bay     NaN   11/7/2018             1.7                      NaN   \n",
              "2370     Bay     NaN  12/11/2018             0.1                      NaN   \n",
              "\n",
              "      pH (standard units)  Secchi Depth (m)  Water Depth (m)  Water Temp (?C)  \\\n",
              "0                     7.3              0.40             0.40              5.9   \n",
              "1                     7.4              0.20             0.35              3.0   \n",
              "2                     7.2              0.25             0.60              5.9   \n",
              "3                     7.4              0.35             0.50             10.0   \n",
              "4                     7.2              0.20             0.40              1.6   \n",
              "...                   ...               ...              ...              ...   \n",
              "2366                  7.0              4.00             1.20             25.0   \n",
              "2367                  7.0              0.30             0.60             18.0   \n",
              "2368                  7.0              0.40             0.90             13.0   \n",
              "2369                  7.0              0.45             0.90             20.0   \n",
              "2370                  7.0              0.10             0.10             10.0   \n",
              "\n",
              "      Air Temp-Celsius  Air Temp (?F) Time (24:00) Field_Tech DateVerified  \\\n",
              "0                  8.0          46.40        11:00        NaN          NaN   \n",
              "1                  2.6          36.68        11:30        NaN          NaN   \n",
              "2                  7.6          45.68         9:45        NaN          NaN   \n",
              "3                  2.7          36.86          NaN        NaN          NaN   \n",
              "4                  0.0          32.00        10:30        NaN          NaN   \n",
              "...                ...            ...          ...        ...          ...   \n",
              "2366               NaN          78.00        09:30    Sue Poe   11/13/2019   \n",
              "2367               NaN          58.00        09:30    Sue Poe   11/13/2019   \n",
              "2368               NaN          49.00        09:20    Sue Poe   11/13/2019   \n",
              "2369               NaN          65.00        09:45    Sue Poe   11/13/2019   \n",
              "2370               NaN          42.00        09:40    Sue Poe   11/13/2019   \n",
              "\n",
              "          WhoVerified  AirTemp (C)  Year  \n",
              "0                 NaN     8.000000  1994  \n",
              "1                 NaN     2.600000  1994  \n",
              "2                 NaN     7.600000  1994  \n",
              "3                 NaN     2.700000  1994  \n",
              "4                 NaN     0.000000  1994  \n",
              "...               ...          ...   ...  \n",
              "2366  Christine Folks    25.555556  2018  \n",
              "2367  Christine Folks    14.444444  2018  \n",
              "2368  Christine Folks     9.444444  2018  \n",
              "2369  Christine Folks    18.333333  2018  \n",
              "2370  Christine Folks     5.555556  2018  \n",
              "\n",
              "[2371 rows x 17 columns]"
            ],
            "text/html": [
              "\n",
              "  <div id=\"df-6569d378-5b14-4cfd-9da7-0e406b777f9e\" class=\"colab-df-container\">\n",
              "    <div>\n",
              "<style scoped>\n",
              "    .dataframe tbody tr th:only-of-type {\n",
              "        vertical-align: middle;\n",
              "    }\n",
              "\n",
              "    .dataframe tbody tr th {\n",
              "        vertical-align: top;\n",
              "    }\n",
              "\n",
              "    .dataframe thead th {\n",
              "        text-align: right;\n",
              "    }\n",
              "</style>\n",
              "<table border=\"1\" class=\"dataframe\">\n",
              "  <thead>\n",
              "    <tr style=\"text-align: right;\">\n",
              "      <th></th>\n",
              "      <th>Site_Id</th>\n",
              "      <th>Unit_Id</th>\n",
              "      <th>Read_Date</th>\n",
              "      <th>Salinity (ppt)</th>\n",
              "      <th>Dissolved Oxygen (mg/L)</th>\n",
              "      <th>pH (standard units)</th>\n",
              "      <th>Secchi Depth (m)</th>\n",
              "      <th>Water Depth (m)</th>\n",
              "      <th>Water Temp (?C)</th>\n",
              "      <th>Air Temp-Celsius</th>\n",
              "      <th>Air Temp (?F)</th>\n",
              "      <th>Time (24:00)</th>\n",
              "      <th>Field_Tech</th>\n",
              "      <th>DateVerified</th>\n",
              "      <th>WhoVerified</th>\n",
              "      <th>AirTemp (C)</th>\n",
              "      <th>Year</th>\n",
              "    </tr>\n",
              "  </thead>\n",
              "  <tbody>\n",
              "    <tr>\n",
              "      <th>0</th>\n",
              "      <td>Bay</td>\n",
              "      <td>NaN</td>\n",
              "      <td>1/3/1994</td>\n",
              "      <td>1.3</td>\n",
              "      <td>11.7</td>\n",
              "      <td>7.3</td>\n",
              "      <td>0.40</td>\n",
              "      <td>0.40</td>\n",
              "      <td>5.9</td>\n",
              "      <td>8.0</td>\n",
              "      <td>46.40</td>\n",
              "      <td>11:00</td>\n",
              "      <td>NaN</td>\n",
              "      <td>NaN</td>\n",
              "      <td>NaN</td>\n",
              "      <td>8.000000</td>\n",
              "      <td>1994</td>\n",
              "    </tr>\n",
              "    <tr>\n",
              "      <th>1</th>\n",
              "      <td>Bay</td>\n",
              "      <td>NaN</td>\n",
              "      <td>1/31/1994</td>\n",
              "      <td>1.5</td>\n",
              "      <td>12.0</td>\n",
              "      <td>7.4</td>\n",
              "      <td>0.20</td>\n",
              "      <td>0.35</td>\n",
              "      <td>3.0</td>\n",
              "      <td>2.6</td>\n",
              "      <td>36.68</td>\n",
              "      <td>11:30</td>\n",
              "      <td>NaN</td>\n",
              "      <td>NaN</td>\n",
              "      <td>NaN</td>\n",
              "      <td>2.600000</td>\n",
              "      <td>1994</td>\n",
              "    </tr>\n",
              "    <tr>\n",
              "      <th>2</th>\n",
              "      <td>Bay</td>\n",
              "      <td>NaN</td>\n",
              "      <td>2/7/1994</td>\n",
              "      <td>1.0</td>\n",
              "      <td>10.5</td>\n",
              "      <td>7.2</td>\n",
              "      <td>0.25</td>\n",
              "      <td>0.60</td>\n",
              "      <td>5.9</td>\n",
              "      <td>7.6</td>\n",
              "      <td>45.68</td>\n",
              "      <td>9:45</td>\n",
              "      <td>NaN</td>\n",
              "      <td>NaN</td>\n",
              "      <td>NaN</td>\n",
              "      <td>7.600000</td>\n",
              "      <td>1994</td>\n",
              "    </tr>\n",
              "    <tr>\n",
              "      <th>3</th>\n",
              "      <td>Bay</td>\n",
              "      <td>NaN</td>\n",
              "      <td>2/23/1994</td>\n",
              "      <td>1.0</td>\n",
              "      <td>10.1</td>\n",
              "      <td>7.4</td>\n",
              "      <td>0.35</td>\n",
              "      <td>0.50</td>\n",
              "      <td>10.0</td>\n",
              "      <td>2.7</td>\n",
              "      <td>36.86</td>\n",
              "      <td>NaN</td>\n",
              "      <td>NaN</td>\n",
              "      <td>NaN</td>\n",
              "      <td>NaN</td>\n",
              "      <td>2.700000</td>\n",
              "      <td>1994</td>\n",
              "    </tr>\n",
              "    <tr>\n",
              "      <th>4</th>\n",
              "      <td>Bay</td>\n",
              "      <td>NaN</td>\n",
              "      <td>2/28/1994</td>\n",
              "      <td>1.0</td>\n",
              "      <td>12.6</td>\n",
              "      <td>7.2</td>\n",
              "      <td>0.20</td>\n",
              "      <td>0.40</td>\n",
              "      <td>1.6</td>\n",
              "      <td>0.0</td>\n",
              "      <td>32.00</td>\n",
              "      <td>10:30</td>\n",
              "      <td>NaN</td>\n",
              "      <td>NaN</td>\n",
              "      <td>NaN</td>\n",
              "      <td>0.000000</td>\n",
              "      <td>1994</td>\n",
              "    </tr>\n",
              "    <tr>\n",
              "      <th>...</th>\n",
              "      <td>...</td>\n",
              "      <td>...</td>\n",
              "      <td>...</td>\n",
              "      <td>...</td>\n",
              "      <td>...</td>\n",
              "      <td>...</td>\n",
              "      <td>...</td>\n",
              "      <td>...</td>\n",
              "      <td>...</td>\n",
              "      <td>...</td>\n",
              "      <td>...</td>\n",
              "      <td>...</td>\n",
              "      <td>...</td>\n",
              "      <td>...</td>\n",
              "      <td>...</td>\n",
              "      <td>...</td>\n",
              "      <td>...</td>\n",
              "    </tr>\n",
              "    <tr>\n",
              "      <th>2366</th>\n",
              "      <td>Bay</td>\n",
              "      <td>NaN</td>\n",
              "      <td>10/11/2018</td>\n",
              "      <td>1.9</td>\n",
              "      <td>5.0</td>\n",
              "      <td>7.0</td>\n",
              "      <td>4.00</td>\n",
              "      <td>1.20</td>\n",
              "      <td>25.0</td>\n",
              "      <td>NaN</td>\n",
              "      <td>78.00</td>\n",
              "      <td>09:30</td>\n",
              "      <td>Sue Poe</td>\n",
              "      <td>11/13/2019</td>\n",
              "      <td>Christine Folks</td>\n",
              "      <td>25.555556</td>\n",
              "      <td>2018</td>\n",
              "    </tr>\n",
              "    <tr>\n",
              "      <th>2367</th>\n",
              "      <td>Bay</td>\n",
              "      <td>NaN</td>\n",
              "      <td>10/24/2018</td>\n",
              "      <td>0.0</td>\n",
              "      <td>9.0</td>\n",
              "      <td>7.0</td>\n",
              "      <td>0.30</td>\n",
              "      <td>0.60</td>\n",
              "      <td>18.0</td>\n",
              "      <td>NaN</td>\n",
              "      <td>58.00</td>\n",
              "      <td>09:30</td>\n",
              "      <td>Sue Poe</td>\n",
              "      <td>11/13/2019</td>\n",
              "      <td>Christine Folks</td>\n",
              "      <td>14.444444</td>\n",
              "      <td>2018</td>\n",
              "    </tr>\n",
              "    <tr>\n",
              "      <th>2368</th>\n",
              "      <td>Bay</td>\n",
              "      <td>NaN</td>\n",
              "      <td>10/28/2018</td>\n",
              "      <td>0.9</td>\n",
              "      <td>2.9</td>\n",
              "      <td>7.0</td>\n",
              "      <td>0.40</td>\n",
              "      <td>0.90</td>\n",
              "      <td>13.0</td>\n",
              "      <td>NaN</td>\n",
              "      <td>49.00</td>\n",
              "      <td>09:20</td>\n",
              "      <td>Sue Poe</td>\n",
              "      <td>11/13/2019</td>\n",
              "      <td>Christine Folks</td>\n",
              "      <td>9.444444</td>\n",
              "      <td>2018</td>\n",
              "    </tr>\n",
              "    <tr>\n",
              "      <th>2369</th>\n",
              "      <td>Bay</td>\n",
              "      <td>NaN</td>\n",
              "      <td>11/7/2018</td>\n",
              "      <td>1.7</td>\n",
              "      <td>NaN</td>\n",
              "      <td>7.0</td>\n",
              "      <td>0.45</td>\n",
              "      <td>0.90</td>\n",
              "      <td>20.0</td>\n",
              "      <td>NaN</td>\n",
              "      <td>65.00</td>\n",
              "      <td>09:45</td>\n",
              "      <td>Sue Poe</td>\n",
              "      <td>11/13/2019</td>\n",
              "      <td>Christine Folks</td>\n",
              "      <td>18.333333</td>\n",
              "      <td>2018</td>\n",
              "    </tr>\n",
              "    <tr>\n",
              "      <th>2370</th>\n",
              "      <td>Bay</td>\n",
              "      <td>NaN</td>\n",
              "      <td>12/11/2018</td>\n",
              "      <td>0.1</td>\n",
              "      <td>NaN</td>\n",
              "      <td>7.0</td>\n",
              "      <td>0.10</td>\n",
              "      <td>0.10</td>\n",
              "      <td>10.0</td>\n",
              "      <td>NaN</td>\n",
              "      <td>42.00</td>\n",
              "      <td>09:40</td>\n",
              "      <td>Sue Poe</td>\n",
              "      <td>11/13/2019</td>\n",
              "      <td>Christine Folks</td>\n",
              "      <td>5.555556</td>\n",
              "      <td>2018</td>\n",
              "    </tr>\n",
              "  </tbody>\n",
              "</table>\n",
              "<p>2371 rows × 17 columns</p>\n",
              "</div>\n",
              "    <div class=\"colab-df-buttons\">\n",
              "\n",
              "  <div class=\"colab-df-container\">\n",
              "    <button class=\"colab-df-convert\" onclick=\"convertToInteractive('df-6569d378-5b14-4cfd-9da7-0e406b777f9e')\"\n",
              "            title=\"Convert this dataframe to an interactive table.\"\n",
              "            style=\"display:none;\">\n",
              "\n",
              "  <svg xmlns=\"http://www.w3.org/2000/svg\" height=\"24px\" viewBox=\"0 -960 960 960\">\n",
              "    <path d=\"M120-120v-720h720v720H120Zm60-500h600v-160H180v160Zm220 220h160v-160H400v160Zm0 220h160v-160H400v160ZM180-400h160v-160H180v160Zm440 0h160v-160H620v160ZM180-180h160v-160H180v160Zm440 0h160v-160H620v160Z\"/>\n",
              "  </svg>\n",
              "    </button>\n",
              "\n",
              "  <style>\n",
              "    .colab-df-container {\n",
              "      display:flex;\n",
              "      gap: 12px;\n",
              "    }\n",
              "\n",
              "    .colab-df-convert {\n",
              "      background-color: #E8F0FE;\n",
              "      border: none;\n",
              "      border-radius: 50%;\n",
              "      cursor: pointer;\n",
              "      display: none;\n",
              "      fill: #1967D2;\n",
              "      height: 32px;\n",
              "      padding: 0 0 0 0;\n",
              "      width: 32px;\n",
              "    }\n",
              "\n",
              "    .colab-df-convert:hover {\n",
              "      background-color: #E2EBFA;\n",
              "      box-shadow: 0px 1px 2px rgba(60, 64, 67, 0.3), 0px 1px 3px 1px rgba(60, 64, 67, 0.15);\n",
              "      fill: #174EA6;\n",
              "    }\n",
              "\n",
              "    .colab-df-buttons div {\n",
              "      margin-bottom: 4px;\n",
              "    }\n",
              "\n",
              "    [theme=dark] .colab-df-convert {\n",
              "      background-color: #3B4455;\n",
              "      fill: #D2E3FC;\n",
              "    }\n",
              "\n",
              "    [theme=dark] .colab-df-convert:hover {\n",
              "      background-color: #434B5C;\n",
              "      box-shadow: 0px 1px 3px 1px rgba(0, 0, 0, 0.15);\n",
              "      filter: drop-shadow(0px 1px 2px rgba(0, 0, 0, 0.3));\n",
              "      fill: #FFFFFF;\n",
              "    }\n",
              "  </style>\n",
              "\n",
              "    <script>\n",
              "      const buttonEl =\n",
              "        document.querySelector('#df-6569d378-5b14-4cfd-9da7-0e406b777f9e button.colab-df-convert');\n",
              "      buttonEl.style.display =\n",
              "        google.colab.kernel.accessAllowed ? 'block' : 'none';\n",
              "\n",
              "      async function convertToInteractive(key) {\n",
              "        const element = document.querySelector('#df-6569d378-5b14-4cfd-9da7-0e406b777f9e');\n",
              "        const dataTable =\n",
              "          await google.colab.kernel.invokeFunction('convertToInteractive',\n",
              "                                                    [key], {});\n",
              "        if (!dataTable) return;\n",
              "\n",
              "        const docLinkHtml = 'Like what you see? Visit the ' +\n",
              "          '<a target=\"_blank\" href=https://colab.research.google.com/notebooks/data_table.ipynb>data table notebook</a>'\n",
              "          + ' to learn more about interactive tables.';\n",
              "        element.innerHTML = '';\n",
              "        dataTable['output_type'] = 'display_data';\n",
              "        await google.colab.output.renderOutput(dataTable, element);\n",
              "        const docLink = document.createElement('div');\n",
              "        docLink.innerHTML = docLinkHtml;\n",
              "        element.appendChild(docLink);\n",
              "      }\n",
              "    </script>\n",
              "  </div>\n",
              "\n",
              "\n",
              "    <div id=\"df-8491f63f-4faf-4735-8bda-26912c3dab61\">\n",
              "      <button class=\"colab-df-quickchart\" onclick=\"quickchart('df-8491f63f-4faf-4735-8bda-26912c3dab61')\"\n",
              "                title=\"Suggest charts\"\n",
              "                style=\"display:none;\">\n",
              "\n",
              "<svg xmlns=\"http://www.w3.org/2000/svg\" height=\"24px\"viewBox=\"0 0 24 24\"\n",
              "     width=\"24px\">\n",
              "    <g>\n",
              "        <path d=\"M19 3H5c-1.1 0-2 .9-2 2v14c0 1.1.9 2 2 2h14c1.1 0 2-.9 2-2V5c0-1.1-.9-2-2-2zM9 17H7v-7h2v7zm4 0h-2V7h2v10zm4 0h-2v-4h2v4z\"/>\n",
              "    </g>\n",
              "</svg>\n",
              "      </button>\n",
              "\n",
              "<style>\n",
              "  .colab-df-quickchart {\n",
              "      --bg-color: #E8F0FE;\n",
              "      --fill-color: #1967D2;\n",
              "      --hover-bg-color: #E2EBFA;\n",
              "      --hover-fill-color: #174EA6;\n",
              "      --disabled-fill-color: #AAA;\n",
              "      --disabled-bg-color: #DDD;\n",
              "  }\n",
              "\n",
              "  [theme=dark] .colab-df-quickchart {\n",
              "      --bg-color: #3B4455;\n",
              "      --fill-color: #D2E3FC;\n",
              "      --hover-bg-color: #434B5C;\n",
              "      --hover-fill-color: #FFFFFF;\n",
              "      --disabled-bg-color: #3B4455;\n",
              "      --disabled-fill-color: #666;\n",
              "  }\n",
              "\n",
              "  .colab-df-quickchart {\n",
              "    background-color: var(--bg-color);\n",
              "    border: none;\n",
              "    border-radius: 50%;\n",
              "    cursor: pointer;\n",
              "    display: none;\n",
              "    fill: var(--fill-color);\n",
              "    height: 32px;\n",
              "    padding: 0;\n",
              "    width: 32px;\n",
              "  }\n",
              "\n",
              "  .colab-df-quickchart:hover {\n",
              "    background-color: var(--hover-bg-color);\n",
              "    box-shadow: 0 1px 2px rgba(60, 64, 67, 0.3), 0 1px 3px 1px rgba(60, 64, 67, 0.15);\n",
              "    fill: var(--button-hover-fill-color);\n",
              "  }\n",
              "\n",
              "  .colab-df-quickchart-complete:disabled,\n",
              "  .colab-df-quickchart-complete:disabled:hover {\n",
              "    background-color: var(--disabled-bg-color);\n",
              "    fill: var(--disabled-fill-color);\n",
              "    box-shadow: none;\n",
              "  }\n",
              "\n",
              "  .colab-df-spinner {\n",
              "    border: 2px solid var(--fill-color);\n",
              "    border-color: transparent;\n",
              "    border-bottom-color: var(--fill-color);\n",
              "    animation:\n",
              "      spin 1s steps(1) infinite;\n",
              "  }\n",
              "\n",
              "  @keyframes spin {\n",
              "    0% {\n",
              "      border-color: transparent;\n",
              "      border-bottom-color: var(--fill-color);\n",
              "      border-left-color: var(--fill-color);\n",
              "    }\n",
              "    20% {\n",
              "      border-color: transparent;\n",
              "      border-left-color: var(--fill-color);\n",
              "      border-top-color: var(--fill-color);\n",
              "    }\n",
              "    30% {\n",
              "      border-color: transparent;\n",
              "      border-left-color: var(--fill-color);\n",
              "      border-top-color: var(--fill-color);\n",
              "      border-right-color: var(--fill-color);\n",
              "    }\n",
              "    40% {\n",
              "      border-color: transparent;\n",
              "      border-right-color: var(--fill-color);\n",
              "      border-top-color: var(--fill-color);\n",
              "    }\n",
              "    60% {\n",
              "      border-color: transparent;\n",
              "      border-right-color: var(--fill-color);\n",
              "    }\n",
              "    80% {\n",
              "      border-color: transparent;\n",
              "      border-right-color: var(--fill-color);\n",
              "      border-bottom-color: var(--fill-color);\n",
              "    }\n",
              "    90% {\n",
              "      border-color: transparent;\n",
              "      border-bottom-color: var(--fill-color);\n",
              "    }\n",
              "  }\n",
              "</style>\n",
              "\n",
              "      <script>\n",
              "        async function quickchart(key) {\n",
              "          const quickchartButtonEl =\n",
              "            document.querySelector('#' + key + ' button');\n",
              "          quickchartButtonEl.disabled = true;  // To prevent multiple clicks.\n",
              "          quickchartButtonEl.classList.add('colab-df-spinner');\n",
              "          try {\n",
              "            const charts = await google.colab.kernel.invokeFunction(\n",
              "                'suggestCharts', [key], {});\n",
              "          } catch (error) {\n",
              "            console.error('Error during call to suggestCharts:', error);\n",
              "          }\n",
              "          quickchartButtonEl.classList.remove('colab-df-spinner');\n",
              "          quickchartButtonEl.classList.add('colab-df-quickchart-complete');\n",
              "        }\n",
              "        (() => {\n",
              "          let quickchartButtonEl =\n",
              "            document.querySelector('#df-8491f63f-4faf-4735-8bda-26912c3dab61 button');\n",
              "          quickchartButtonEl.style.display =\n",
              "            google.colab.kernel.accessAllowed ? 'block' : 'none';\n",
              "        })();\n",
              "      </script>\n",
              "    </div>\n",
              "\n",
              "  <div id=\"id_21c93aad-f8fc-43f2-bd43-6e9c30858f48\">\n",
              "    <style>\n",
              "      .colab-df-generate {\n",
              "        background-color: #E8F0FE;\n",
              "        border: none;\n",
              "        border-radius: 50%;\n",
              "        cursor: pointer;\n",
              "        display: none;\n",
              "        fill: #1967D2;\n",
              "        height: 32px;\n",
              "        padding: 0 0 0 0;\n",
              "        width: 32px;\n",
              "      }\n",
              "\n",
              "      .colab-df-generate:hover {\n",
              "        background-color: #E2EBFA;\n",
              "        box-shadow: 0px 1px 2px rgba(60, 64, 67, 0.3), 0px 1px 3px 1px rgba(60, 64, 67, 0.15);\n",
              "        fill: #174EA6;\n",
              "      }\n",
              "\n",
              "      [theme=dark] .colab-df-generate {\n",
              "        background-color: #3B4455;\n",
              "        fill: #D2E3FC;\n",
              "      }\n",
              "\n",
              "      [theme=dark] .colab-df-generate:hover {\n",
              "        background-color: #434B5C;\n",
              "        box-shadow: 0px 1px 3px 1px rgba(0, 0, 0, 0.15);\n",
              "        filter: drop-shadow(0px 1px 2px rgba(0, 0, 0, 0.3));\n",
              "        fill: #FFFFFF;\n",
              "      }\n",
              "    </style>\n",
              "    <button class=\"colab-df-generate\" onclick=\"generateWithVariable('water')\"\n",
              "            title=\"Generate code using this dataframe.\"\n",
              "            style=\"display:none;\">\n",
              "\n",
              "  <svg xmlns=\"http://www.w3.org/2000/svg\" height=\"24px\"viewBox=\"0 0 24 24\"\n",
              "       width=\"24px\">\n",
              "    <path d=\"M7,19H8.4L18.45,9,17,7.55,7,17.6ZM5,21V16.75L18.45,3.32a2,2,0,0,1,2.83,0l1.4,1.43a1.91,1.91,0,0,1,.58,1.4,1.91,1.91,0,0,1-.58,1.4L9.25,21ZM18.45,9,17,7.55Zm-12,3A5.31,5.31,0,0,0,4.9,8.1,5.31,5.31,0,0,0,1,6.5,5.31,5.31,0,0,0,4.9,4.9,5.31,5.31,0,0,0,6.5,1,5.31,5.31,0,0,0,8.1,4.9,5.31,5.31,0,0,0,12,6.5,5.46,5.46,0,0,0,6.5,12Z\"/>\n",
              "  </svg>\n",
              "    </button>\n",
              "    <script>\n",
              "      (() => {\n",
              "      const buttonEl =\n",
              "        document.querySelector('#id_21c93aad-f8fc-43f2-bd43-6e9c30858f48 button.colab-df-generate');\n",
              "      buttonEl.style.display =\n",
              "        google.colab.kernel.accessAllowed ? 'block' : 'none';\n",
              "\n",
              "      buttonEl.onclick = () => {\n",
              "        google.colab.notebook.generateWithVariable('water');\n",
              "      }\n",
              "      })();\n",
              "    </script>\n",
              "  </div>\n",
              "\n",
              "    </div>\n",
              "  </div>\n"
            ],
            "application/vnd.google.colaboratory.intrinsic+json": {
              "type": "dataframe",
              "variable_name": "water",
              "summary": "{\n  \"name\": \"water\",\n  \"rows\": 2371,\n  \"fields\": [\n    {\n      \"column\": \"Site_Id\",\n      \"properties\": {\n        \"dtype\": \"category\",\n        \"num_unique_values\": 6,\n        \"samples\": [\n          \"Bay\",\n          \"A\",\n          \"d\"\n        ],\n        \"semantic_type\": \"\",\n        \"description\": \"\"\n      }\n    },\n    {\n      \"column\": \"Unit_Id\",\n      \"properties\": {\n        \"dtype\": \"category\",\n        \"num_unique_values\": 2,\n        \"samples\": [\n          \"01csv\",\n          \"01CSV\"\n        ],\n        \"semantic_type\": \"\",\n        \"description\": \"\"\n      }\n    },\n    {\n      \"column\": \"Read_Date\",\n      \"properties\": {\n        \"dtype\": \"object\",\n        \"num_unique_values\": 801,\n        \"samples\": [\n          \"10/7/2014\",\n          \"6/25/2013\"\n        ],\n        \"semantic_type\": \"\",\n        \"description\": \"\"\n      }\n    },\n    {\n      \"column\": \"Salinity (ppt)\",\n      \"properties\": {\n        \"dtype\": \"number\",\n        \"std\": 1.2308186950436513,\n        \"min\": 0.0,\n        \"max\": 9.0,\n        \"num_unique_values\": 61,\n        \"samples\": [\n          1.3,\n          2.0\n        ],\n        \"semantic_type\": \"\",\n        \"description\": \"\"\n      }\n    },\n    {\n      \"column\": \"Dissolved Oxygen (mg/L)\",\n      \"properties\": {\n        \"dtype\": \"number\",\n        \"std\": 2.506607538624756,\n        \"min\": 0.0,\n        \"max\": 15.1,\n        \"num_unique_values\": 154,\n        \"samples\": [\n          9.4,\n          2.6\n        ],\n        \"semantic_type\": \"\",\n        \"description\": \"\"\n      }\n    },\n    {\n      \"column\": \"pH (standard units)\",\n      \"properties\": {\n        \"dtype\": \"number\",\n        \"std\": 0.7884851582635792,\n        \"min\": 0.3,\n        \"max\": 9.9,\n        \"num_unique_values\": 48,\n        \"samples\": [\n          8.2,\n          9.8\n        ],\n        \"semantic_type\": \"\",\n        \"description\": \"\"\n      }\n    },\n    {\n      \"column\": \"Secchi Depth (m)\",\n      \"properties\": {\n        \"dtype\": \"number\",\n        \"std\": 0.4736633926786803,\n        \"min\": 0.0,\n        \"max\": 9.0,\n        \"num_unique_values\": 77,\n        \"samples\": [\n          0.15,\n          0.95\n        ],\n        \"semantic_type\": \"\",\n        \"description\": \"\"\n      }\n    },\n    {\n      \"column\": \"Water Depth (m)\",\n      \"properties\": {\n        \"dtype\": \"number\",\n        \"std\": 0.6211403896690009,\n        \"min\": 0.01,\n        \"max\": 12.0,\n        \"num_unique_values\": 114,\n        \"samples\": [\n          0.23,\n          0.9\n        ],\n        \"semantic_type\": \"\",\n        \"description\": \"\"\n      }\n    },\n    {\n      \"column\": \"Water Temp (?C)\",\n      \"properties\": {\n        \"dtype\": \"number\",\n        \"std\": 8.298246066490846,\n        \"min\": 0.0,\n        \"max\": 74.0,\n        \"num_unique_values\": 114,\n        \"samples\": [\n          0.0,\n          9.7\n        ],\n        \"semantic_type\": \"\",\n        \"description\": \"\"\n      }\n    },\n    {\n      \"column\": \"Air Temp-Celsius\",\n      \"properties\": {\n        \"dtype\": \"number\",\n        \"std\": 11.754137837481785,\n        \"min\": 0.0,\n        \"max\": 74.0,\n        \"num_unique_values\": 45,\n        \"samples\": [\n          7.0,\n          27.0\n        ],\n        \"semantic_type\": \"\",\n        \"description\": \"\"\n      }\n    },\n    {\n      \"column\": \"Air Temp (?F)\",\n      \"properties\": {\n        \"dtype\": \"number\",\n        \"std\": 15.492236371583388,\n        \"min\": 10.5,\n        \"max\": 92.3,\n        \"num_unique_values\": 225,\n        \"samples\": [\n          55.4,\n          37.0\n        ],\n        \"semantic_type\": \"\",\n        \"description\": \"\"\n      }\n    },\n    {\n      \"column\": \"Time (24:00)\",\n      \"properties\": {\n        \"dtype\": \"category\",\n        \"num_unique_values\": 99,\n        \"samples\": [\n          \"10:25\",\n          \"3:21\"\n        ],\n        \"semantic_type\": \"\",\n        \"description\": \"\"\n      }\n    },\n    {\n      \"column\": \"Field_Tech\",\n      \"properties\": {\n        \"dtype\": \"category\",\n        \"num_unique_values\": 14,\n        \"samples\": [\n          \"Sue Poe\",\n          \"Susan Poe\"\n        ],\n        \"semantic_type\": \"\",\n        \"description\": \"\"\n      }\n    },\n    {\n      \"column\": \"DateVerified\",\n      \"properties\": {\n        \"dtype\": \"date\",\n        \"min\": \"2014-03-27 00:00:00\",\n        \"max\": \"2019-11-13 00:00:00\",\n        \"num_unique_values\": 44,\n        \"samples\": [\n          \"10/23/2019\",\n          \"1/15/2016\"\n        ],\n        \"semantic_type\": \"\",\n        \"description\": \"\"\n      }\n    },\n    {\n      \"column\": \"WhoVerified\",\n      \"properties\": {\n        \"dtype\": \"category\",\n        \"num_unique_values\": 12,\n        \"samples\": [\n          \"Carly Sibilia\",\n          \"Erin Bailey\"\n        ],\n        \"semantic_type\": \"\",\n        \"description\": \"\"\n      }\n    },\n    {\n      \"column\": \"AirTemp (C)\",\n      \"properties\": {\n        \"dtype\": \"number\",\n        \"std\": 10.314719945259741,\n        \"min\": -17.77777778,\n        \"max\": 33.5,\n        \"num_unique_values\": 226,\n        \"samples\": [\n          13.0,\n          8.777777778\n        ],\n        \"semantic_type\": \"\",\n        \"description\": \"\"\n      }\n    },\n    {\n      \"column\": \"Year\",\n      \"properties\": {\n        \"dtype\": \"number\",\n        \"std\": 9,\n        \"min\": 1899,\n        \"max\": 2019,\n        \"num_unique_values\": 32,\n        \"samples\": [\n          2017,\n          2004\n        ],\n        \"semantic_type\": \"\",\n        \"description\": \"\"\n      }\n    }\n  ]\n}"
            }
          },
          "metadata": {},
          "execution_count": 3
        }
      ]
    },
    {
      "cell_type": "code",
      "source": [
        "#dropping columns that not numerical or useless\n",
        "water = water.drop(columns=['Site_Id', 'Unit_Id', 'Read_Date','Time (24:00)', 'Field_Tech', 'DateVerified', 'WhoVerified', 'Air Temp-Celsius'])"
      ],
      "metadata": {
        "id": "qLPqwbNhS17k"
      },
      "execution_count": 4,
      "outputs": []
    },
    {
      "cell_type": "code",
      "source": [
        "#water"
      ],
      "metadata": {
        "id": "9VMCdiwJTO58"
      },
      "execution_count": 5,
      "outputs": []
    },
    {
      "cell_type": "code",
      "source": [
        "#Just there to look at the columns\n",
        "#water.columns"
      ],
      "metadata": {
        "id": "NkjyIBmT4KVZ"
      },
      "execution_count": 6,
      "outputs": []
    },
    {
      "cell_type": "code",
      "source": [
        "#renaming columns\n",
        "water = water.rename(columns={\"Salinity (ppt)\": \"Salinity\", \"Dissolved Oxygen (mg/L)\": \"DissolvedOxygen\", \"pH (standard units)\": \"pH\",  'Secchi Depth (m)': \"SecchiDepth\", 'Water Depth (m)': \"WaterDepth\", 'Water Temp (?C)': \"WaterTempC\", 'Air Temp (?F)': \"AirTempF\", 'AirTemp (C)': \"AirTempC\"})"
      ],
      "metadata": {
        "id": "KWKtVs824twy"
      },
      "execution_count": 7,
      "outputs": []
    },
    {
      "cell_type": "code",
      "source": [
        "#removes the row where there is no points of data\n",
        "water = water.dropna()"
      ],
      "metadata": {
        "id": "1f51zSqEVVSC"
      },
      "execution_count": 8,
      "outputs": []
    },
    {
      "cell_type": "code",
      "source": [
        "water"
      ],
      "metadata": {
        "id": "yQq3H0CjZVy7",
        "colab": {
          "base_uri": "https://localhost:8080/",
          "height": 424
        },
        "outputId": "7c5664ad-105c-48ef-ee23-5f4d26a5269d"
      },
      "execution_count": 9,
      "outputs": [
        {
          "output_type": "execute_result",
          "data": {
            "text/plain": [
              "      Salinity  DissolvedOxygen   pH  SecchiDepth  WaterDepth  WaterTempC  \\\n",
              "0          1.3             11.7  7.3         0.40        0.40         5.9   \n",
              "1          1.5             12.0  7.4         0.20        0.35         3.0   \n",
              "2          1.0             10.5  7.2         0.25        0.60         5.9   \n",
              "3          1.0             10.1  7.4         0.35        0.50        10.0   \n",
              "4          1.0             12.6  7.2         0.20        0.40         1.6   \n",
              "...        ...              ...  ...          ...         ...         ...   \n",
              "2361       0.0              6.0  6.5         0.70        1.20        26.0   \n",
              "2364       0.0              6.9  6.5         0.90        1.30        20.0   \n",
              "2366       1.9              5.0  7.0         4.00        1.20        25.0   \n",
              "2367       0.0              9.0  7.0         0.30        0.60        18.0   \n",
              "2368       0.9              2.9  7.0         0.40        0.90        13.0   \n",
              "\n",
              "      AirTempF   AirTempC  Year  \n",
              "0        46.40   8.000000  1994  \n",
              "1        36.68   2.600000  1994  \n",
              "2        45.68   7.600000  1994  \n",
              "3        36.86   2.700000  1994  \n",
              "4        32.00   0.000000  1994  \n",
              "...        ...        ...   ...  \n",
              "2361     78.00  25.555556  2018  \n",
              "2364     65.00  18.333333  2018  \n",
              "2366     78.00  25.555556  2018  \n",
              "2367     58.00  14.444444  2018  \n",
              "2368     49.00   9.444444  2018  \n",
              "\n",
              "[1276 rows x 9 columns]"
            ],
            "text/html": [
              "\n",
              "  <div id=\"df-afc974de-eec3-4057-9e5a-dc9ff51582ce\" class=\"colab-df-container\">\n",
              "    <div>\n",
              "<style scoped>\n",
              "    .dataframe tbody tr th:only-of-type {\n",
              "        vertical-align: middle;\n",
              "    }\n",
              "\n",
              "    .dataframe tbody tr th {\n",
              "        vertical-align: top;\n",
              "    }\n",
              "\n",
              "    .dataframe thead th {\n",
              "        text-align: right;\n",
              "    }\n",
              "</style>\n",
              "<table border=\"1\" class=\"dataframe\">\n",
              "  <thead>\n",
              "    <tr style=\"text-align: right;\">\n",
              "      <th></th>\n",
              "      <th>Salinity</th>\n",
              "      <th>DissolvedOxygen</th>\n",
              "      <th>pH</th>\n",
              "      <th>SecchiDepth</th>\n",
              "      <th>WaterDepth</th>\n",
              "      <th>WaterTempC</th>\n",
              "      <th>AirTempF</th>\n",
              "      <th>AirTempC</th>\n",
              "      <th>Year</th>\n",
              "    </tr>\n",
              "  </thead>\n",
              "  <tbody>\n",
              "    <tr>\n",
              "      <th>0</th>\n",
              "      <td>1.3</td>\n",
              "      <td>11.7</td>\n",
              "      <td>7.3</td>\n",
              "      <td>0.40</td>\n",
              "      <td>0.40</td>\n",
              "      <td>5.9</td>\n",
              "      <td>46.40</td>\n",
              "      <td>8.000000</td>\n",
              "      <td>1994</td>\n",
              "    </tr>\n",
              "    <tr>\n",
              "      <th>1</th>\n",
              "      <td>1.5</td>\n",
              "      <td>12.0</td>\n",
              "      <td>7.4</td>\n",
              "      <td>0.20</td>\n",
              "      <td>0.35</td>\n",
              "      <td>3.0</td>\n",
              "      <td>36.68</td>\n",
              "      <td>2.600000</td>\n",
              "      <td>1994</td>\n",
              "    </tr>\n",
              "    <tr>\n",
              "      <th>2</th>\n",
              "      <td>1.0</td>\n",
              "      <td>10.5</td>\n",
              "      <td>7.2</td>\n",
              "      <td>0.25</td>\n",
              "      <td>0.60</td>\n",
              "      <td>5.9</td>\n",
              "      <td>45.68</td>\n",
              "      <td>7.600000</td>\n",
              "      <td>1994</td>\n",
              "    </tr>\n",
              "    <tr>\n",
              "      <th>3</th>\n",
              "      <td>1.0</td>\n",
              "      <td>10.1</td>\n",
              "      <td>7.4</td>\n",
              "      <td>0.35</td>\n",
              "      <td>0.50</td>\n",
              "      <td>10.0</td>\n",
              "      <td>36.86</td>\n",
              "      <td>2.700000</td>\n",
              "      <td>1994</td>\n",
              "    </tr>\n",
              "    <tr>\n",
              "      <th>4</th>\n",
              "      <td>1.0</td>\n",
              "      <td>12.6</td>\n",
              "      <td>7.2</td>\n",
              "      <td>0.20</td>\n",
              "      <td>0.40</td>\n",
              "      <td>1.6</td>\n",
              "      <td>32.00</td>\n",
              "      <td>0.000000</td>\n",
              "      <td>1994</td>\n",
              "    </tr>\n",
              "    <tr>\n",
              "      <th>...</th>\n",
              "      <td>...</td>\n",
              "      <td>...</td>\n",
              "      <td>...</td>\n",
              "      <td>...</td>\n",
              "      <td>...</td>\n",
              "      <td>...</td>\n",
              "      <td>...</td>\n",
              "      <td>...</td>\n",
              "      <td>...</td>\n",
              "    </tr>\n",
              "    <tr>\n",
              "      <th>2361</th>\n",
              "      <td>0.0</td>\n",
              "      <td>6.0</td>\n",
              "      <td>6.5</td>\n",
              "      <td>0.70</td>\n",
              "      <td>1.20</td>\n",
              "      <td>26.0</td>\n",
              "      <td>78.00</td>\n",
              "      <td>25.555556</td>\n",
              "      <td>2018</td>\n",
              "    </tr>\n",
              "    <tr>\n",
              "      <th>2364</th>\n",
              "      <td>0.0</td>\n",
              "      <td>6.9</td>\n",
              "      <td>6.5</td>\n",
              "      <td>0.90</td>\n",
              "      <td>1.30</td>\n",
              "      <td>20.0</td>\n",
              "      <td>65.00</td>\n",
              "      <td>18.333333</td>\n",
              "      <td>2018</td>\n",
              "    </tr>\n",
              "    <tr>\n",
              "      <th>2366</th>\n",
              "      <td>1.9</td>\n",
              "      <td>5.0</td>\n",
              "      <td>7.0</td>\n",
              "      <td>4.00</td>\n",
              "      <td>1.20</td>\n",
              "      <td>25.0</td>\n",
              "      <td>78.00</td>\n",
              "      <td>25.555556</td>\n",
              "      <td>2018</td>\n",
              "    </tr>\n",
              "    <tr>\n",
              "      <th>2367</th>\n",
              "      <td>0.0</td>\n",
              "      <td>9.0</td>\n",
              "      <td>7.0</td>\n",
              "      <td>0.30</td>\n",
              "      <td>0.60</td>\n",
              "      <td>18.0</td>\n",
              "      <td>58.00</td>\n",
              "      <td>14.444444</td>\n",
              "      <td>2018</td>\n",
              "    </tr>\n",
              "    <tr>\n",
              "      <th>2368</th>\n",
              "      <td>0.9</td>\n",
              "      <td>2.9</td>\n",
              "      <td>7.0</td>\n",
              "      <td>0.40</td>\n",
              "      <td>0.90</td>\n",
              "      <td>13.0</td>\n",
              "      <td>49.00</td>\n",
              "      <td>9.444444</td>\n",
              "      <td>2018</td>\n",
              "    </tr>\n",
              "  </tbody>\n",
              "</table>\n",
              "<p>1276 rows × 9 columns</p>\n",
              "</div>\n",
              "    <div class=\"colab-df-buttons\">\n",
              "\n",
              "  <div class=\"colab-df-container\">\n",
              "    <button class=\"colab-df-convert\" onclick=\"convertToInteractive('df-afc974de-eec3-4057-9e5a-dc9ff51582ce')\"\n",
              "            title=\"Convert this dataframe to an interactive table.\"\n",
              "            style=\"display:none;\">\n",
              "\n",
              "  <svg xmlns=\"http://www.w3.org/2000/svg\" height=\"24px\" viewBox=\"0 -960 960 960\">\n",
              "    <path d=\"M120-120v-720h720v720H120Zm60-500h600v-160H180v160Zm220 220h160v-160H400v160Zm0 220h160v-160H400v160ZM180-400h160v-160H180v160Zm440 0h160v-160H620v160ZM180-180h160v-160H180v160Zm440 0h160v-160H620v160Z\"/>\n",
              "  </svg>\n",
              "    </button>\n",
              "\n",
              "  <style>\n",
              "    .colab-df-container {\n",
              "      display:flex;\n",
              "      gap: 12px;\n",
              "    }\n",
              "\n",
              "    .colab-df-convert {\n",
              "      background-color: #E8F0FE;\n",
              "      border: none;\n",
              "      border-radius: 50%;\n",
              "      cursor: pointer;\n",
              "      display: none;\n",
              "      fill: #1967D2;\n",
              "      height: 32px;\n",
              "      padding: 0 0 0 0;\n",
              "      width: 32px;\n",
              "    }\n",
              "\n",
              "    .colab-df-convert:hover {\n",
              "      background-color: #E2EBFA;\n",
              "      box-shadow: 0px 1px 2px rgba(60, 64, 67, 0.3), 0px 1px 3px 1px rgba(60, 64, 67, 0.15);\n",
              "      fill: #174EA6;\n",
              "    }\n",
              "\n",
              "    .colab-df-buttons div {\n",
              "      margin-bottom: 4px;\n",
              "    }\n",
              "\n",
              "    [theme=dark] .colab-df-convert {\n",
              "      background-color: #3B4455;\n",
              "      fill: #D2E3FC;\n",
              "    }\n",
              "\n",
              "    [theme=dark] .colab-df-convert:hover {\n",
              "      background-color: #434B5C;\n",
              "      box-shadow: 0px 1px 3px 1px rgba(0, 0, 0, 0.15);\n",
              "      filter: drop-shadow(0px 1px 2px rgba(0, 0, 0, 0.3));\n",
              "      fill: #FFFFFF;\n",
              "    }\n",
              "  </style>\n",
              "\n",
              "    <script>\n",
              "      const buttonEl =\n",
              "        document.querySelector('#df-afc974de-eec3-4057-9e5a-dc9ff51582ce button.colab-df-convert');\n",
              "      buttonEl.style.display =\n",
              "        google.colab.kernel.accessAllowed ? 'block' : 'none';\n",
              "\n",
              "      async function convertToInteractive(key) {\n",
              "        const element = document.querySelector('#df-afc974de-eec3-4057-9e5a-dc9ff51582ce');\n",
              "        const dataTable =\n",
              "          await google.colab.kernel.invokeFunction('convertToInteractive',\n",
              "                                                    [key], {});\n",
              "        if (!dataTable) return;\n",
              "\n",
              "        const docLinkHtml = 'Like what you see? Visit the ' +\n",
              "          '<a target=\"_blank\" href=https://colab.research.google.com/notebooks/data_table.ipynb>data table notebook</a>'\n",
              "          + ' to learn more about interactive tables.';\n",
              "        element.innerHTML = '';\n",
              "        dataTable['output_type'] = 'display_data';\n",
              "        await google.colab.output.renderOutput(dataTable, element);\n",
              "        const docLink = document.createElement('div');\n",
              "        docLink.innerHTML = docLinkHtml;\n",
              "        element.appendChild(docLink);\n",
              "      }\n",
              "    </script>\n",
              "  </div>\n",
              "\n",
              "\n",
              "    <div id=\"df-8d400a69-3706-4b37-a3da-d4aae2a2d7f1\">\n",
              "      <button class=\"colab-df-quickchart\" onclick=\"quickchart('df-8d400a69-3706-4b37-a3da-d4aae2a2d7f1')\"\n",
              "                title=\"Suggest charts\"\n",
              "                style=\"display:none;\">\n",
              "\n",
              "<svg xmlns=\"http://www.w3.org/2000/svg\" height=\"24px\"viewBox=\"0 0 24 24\"\n",
              "     width=\"24px\">\n",
              "    <g>\n",
              "        <path d=\"M19 3H5c-1.1 0-2 .9-2 2v14c0 1.1.9 2 2 2h14c1.1 0 2-.9 2-2V5c0-1.1-.9-2-2-2zM9 17H7v-7h2v7zm4 0h-2V7h2v10zm4 0h-2v-4h2v4z\"/>\n",
              "    </g>\n",
              "</svg>\n",
              "      </button>\n",
              "\n",
              "<style>\n",
              "  .colab-df-quickchart {\n",
              "      --bg-color: #E8F0FE;\n",
              "      --fill-color: #1967D2;\n",
              "      --hover-bg-color: #E2EBFA;\n",
              "      --hover-fill-color: #174EA6;\n",
              "      --disabled-fill-color: #AAA;\n",
              "      --disabled-bg-color: #DDD;\n",
              "  }\n",
              "\n",
              "  [theme=dark] .colab-df-quickchart {\n",
              "      --bg-color: #3B4455;\n",
              "      --fill-color: #D2E3FC;\n",
              "      --hover-bg-color: #434B5C;\n",
              "      --hover-fill-color: #FFFFFF;\n",
              "      --disabled-bg-color: #3B4455;\n",
              "      --disabled-fill-color: #666;\n",
              "  }\n",
              "\n",
              "  .colab-df-quickchart {\n",
              "    background-color: var(--bg-color);\n",
              "    border: none;\n",
              "    border-radius: 50%;\n",
              "    cursor: pointer;\n",
              "    display: none;\n",
              "    fill: var(--fill-color);\n",
              "    height: 32px;\n",
              "    padding: 0;\n",
              "    width: 32px;\n",
              "  }\n",
              "\n",
              "  .colab-df-quickchart:hover {\n",
              "    background-color: var(--hover-bg-color);\n",
              "    box-shadow: 0 1px 2px rgba(60, 64, 67, 0.3), 0 1px 3px 1px rgba(60, 64, 67, 0.15);\n",
              "    fill: var(--button-hover-fill-color);\n",
              "  }\n",
              "\n",
              "  .colab-df-quickchart-complete:disabled,\n",
              "  .colab-df-quickchart-complete:disabled:hover {\n",
              "    background-color: var(--disabled-bg-color);\n",
              "    fill: var(--disabled-fill-color);\n",
              "    box-shadow: none;\n",
              "  }\n",
              "\n",
              "  .colab-df-spinner {\n",
              "    border: 2px solid var(--fill-color);\n",
              "    border-color: transparent;\n",
              "    border-bottom-color: var(--fill-color);\n",
              "    animation:\n",
              "      spin 1s steps(1) infinite;\n",
              "  }\n",
              "\n",
              "  @keyframes spin {\n",
              "    0% {\n",
              "      border-color: transparent;\n",
              "      border-bottom-color: var(--fill-color);\n",
              "      border-left-color: var(--fill-color);\n",
              "    }\n",
              "    20% {\n",
              "      border-color: transparent;\n",
              "      border-left-color: var(--fill-color);\n",
              "      border-top-color: var(--fill-color);\n",
              "    }\n",
              "    30% {\n",
              "      border-color: transparent;\n",
              "      border-left-color: var(--fill-color);\n",
              "      border-top-color: var(--fill-color);\n",
              "      border-right-color: var(--fill-color);\n",
              "    }\n",
              "    40% {\n",
              "      border-color: transparent;\n",
              "      border-right-color: var(--fill-color);\n",
              "      border-top-color: var(--fill-color);\n",
              "    }\n",
              "    60% {\n",
              "      border-color: transparent;\n",
              "      border-right-color: var(--fill-color);\n",
              "    }\n",
              "    80% {\n",
              "      border-color: transparent;\n",
              "      border-right-color: var(--fill-color);\n",
              "      border-bottom-color: var(--fill-color);\n",
              "    }\n",
              "    90% {\n",
              "      border-color: transparent;\n",
              "      border-bottom-color: var(--fill-color);\n",
              "    }\n",
              "  }\n",
              "</style>\n",
              "\n",
              "      <script>\n",
              "        async function quickchart(key) {\n",
              "          const quickchartButtonEl =\n",
              "            document.querySelector('#' + key + ' button');\n",
              "          quickchartButtonEl.disabled = true;  // To prevent multiple clicks.\n",
              "          quickchartButtonEl.classList.add('colab-df-spinner');\n",
              "          try {\n",
              "            const charts = await google.colab.kernel.invokeFunction(\n",
              "                'suggestCharts', [key], {});\n",
              "          } catch (error) {\n",
              "            console.error('Error during call to suggestCharts:', error);\n",
              "          }\n",
              "          quickchartButtonEl.classList.remove('colab-df-spinner');\n",
              "          quickchartButtonEl.classList.add('colab-df-quickchart-complete');\n",
              "        }\n",
              "        (() => {\n",
              "          let quickchartButtonEl =\n",
              "            document.querySelector('#df-8d400a69-3706-4b37-a3da-d4aae2a2d7f1 button');\n",
              "          quickchartButtonEl.style.display =\n",
              "            google.colab.kernel.accessAllowed ? 'block' : 'none';\n",
              "        })();\n",
              "      </script>\n",
              "    </div>\n",
              "\n",
              "  <div id=\"id_e63b0a30-a915-4fc9-921c-484919529bcf\">\n",
              "    <style>\n",
              "      .colab-df-generate {\n",
              "        background-color: #E8F0FE;\n",
              "        border: none;\n",
              "        border-radius: 50%;\n",
              "        cursor: pointer;\n",
              "        display: none;\n",
              "        fill: #1967D2;\n",
              "        height: 32px;\n",
              "        padding: 0 0 0 0;\n",
              "        width: 32px;\n",
              "      }\n",
              "\n",
              "      .colab-df-generate:hover {\n",
              "        background-color: #E2EBFA;\n",
              "        box-shadow: 0px 1px 2px rgba(60, 64, 67, 0.3), 0px 1px 3px 1px rgba(60, 64, 67, 0.15);\n",
              "        fill: #174EA6;\n",
              "      }\n",
              "\n",
              "      [theme=dark] .colab-df-generate {\n",
              "        background-color: #3B4455;\n",
              "        fill: #D2E3FC;\n",
              "      }\n",
              "\n",
              "      [theme=dark] .colab-df-generate:hover {\n",
              "        background-color: #434B5C;\n",
              "        box-shadow: 0px 1px 3px 1px rgba(0, 0, 0, 0.15);\n",
              "        filter: drop-shadow(0px 1px 2px rgba(0, 0, 0, 0.3));\n",
              "        fill: #FFFFFF;\n",
              "      }\n",
              "    </style>\n",
              "    <button class=\"colab-df-generate\" onclick=\"generateWithVariable('water')\"\n",
              "            title=\"Generate code using this dataframe.\"\n",
              "            style=\"display:none;\">\n",
              "\n",
              "  <svg xmlns=\"http://www.w3.org/2000/svg\" height=\"24px\"viewBox=\"0 0 24 24\"\n",
              "       width=\"24px\">\n",
              "    <path d=\"M7,19H8.4L18.45,9,17,7.55,7,17.6ZM5,21V16.75L18.45,3.32a2,2,0,0,1,2.83,0l1.4,1.43a1.91,1.91,0,0,1,.58,1.4,1.91,1.91,0,0,1-.58,1.4L9.25,21ZM18.45,9,17,7.55Zm-12,3A5.31,5.31,0,0,0,4.9,8.1,5.31,5.31,0,0,0,1,6.5,5.31,5.31,0,0,0,4.9,4.9,5.31,5.31,0,0,0,6.5,1,5.31,5.31,0,0,0,8.1,4.9,5.31,5.31,0,0,0,12,6.5,5.46,5.46,0,0,0,6.5,12Z\"/>\n",
              "  </svg>\n",
              "    </button>\n",
              "    <script>\n",
              "      (() => {\n",
              "      const buttonEl =\n",
              "        document.querySelector('#id_e63b0a30-a915-4fc9-921c-484919529bcf button.colab-df-generate');\n",
              "      buttonEl.style.display =\n",
              "        google.colab.kernel.accessAllowed ? 'block' : 'none';\n",
              "\n",
              "      buttonEl.onclick = () => {\n",
              "        google.colab.notebook.generateWithVariable('water');\n",
              "      }\n",
              "      })();\n",
              "    </script>\n",
              "  </div>\n",
              "\n",
              "    </div>\n",
              "  </div>\n"
            ],
            "application/vnd.google.colaboratory.intrinsic+json": {
              "type": "dataframe",
              "variable_name": "water",
              "summary": "{\n  \"name\": \"water\",\n  \"rows\": 1276,\n  \"fields\": [\n    {\n      \"column\": \"Salinity\",\n      \"properties\": {\n        \"dtype\": \"number\",\n        \"std\": 1.3819722616317613,\n        \"min\": 0.0,\n        \"max\": 9.0,\n        \"num_unique_values\": 58,\n        \"samples\": [\n          1.3,\n          2.0,\n          1.6\n        ],\n        \"semantic_type\": \"\",\n        \"description\": \"\"\n      }\n    },\n    {\n      \"column\": \"DissolvedOxygen\",\n      \"properties\": {\n        \"dtype\": \"number\",\n        \"std\": 2.4913864025548236,\n        \"min\": 0.0,\n        \"max\": 15.1,\n        \"num_unique_values\": 145,\n        \"samples\": [\n          9.71,\n          10.3,\n          9.7\n        ],\n        \"semantic_type\": \"\",\n        \"description\": \"\"\n      }\n    },\n    {\n      \"column\": \"pH\",\n      \"properties\": {\n        \"dtype\": \"number\",\n        \"std\": 0.8020360437136326,\n        \"min\": 0.3,\n        \"max\": 9.9,\n        \"num_unique_values\": 46,\n        \"samples\": [\n          0.3,\n          8.3,\n          8.2\n        ],\n        \"semantic_type\": \"\",\n        \"description\": \"\"\n      }\n    },\n    {\n      \"column\": \"SecchiDepth\",\n      \"properties\": {\n        \"dtype\": \"number\",\n        \"std\": 0.45894577268256675,\n        \"min\": 0.0,\n        \"max\": 7.4,\n        \"num_unique_values\": 65,\n        \"samples\": [\n          1.9,\n          0.17,\n          0.4\n        ],\n        \"semantic_type\": \"\",\n        \"description\": \"\"\n      }\n    },\n    {\n      \"column\": \"WaterDepth\",\n      \"properties\": {\n        \"dtype\": \"number\",\n        \"std\": 0.563468885455218,\n        \"min\": 0.01,\n        \"max\": 7.5,\n        \"num_unique_values\": 93,\n        \"samples\": [\n          1.025,\n          1.0,\n          1.02\n        ],\n        \"semantic_type\": \"\",\n        \"description\": \"\"\n      }\n    },\n    {\n      \"column\": \"WaterTempC\",\n      \"properties\": {\n        \"dtype\": \"number\",\n        \"std\": 8.30538756380324,\n        \"min\": 0.0,\n        \"max\": 74.0,\n        \"num_unique_values\": 104,\n        \"samples\": [\n          13.0,\n          12.1,\n          17.3\n        ],\n        \"semantic_type\": \"\",\n        \"description\": \"\"\n      }\n    },\n    {\n      \"column\": \"AirTempF\",\n      \"properties\": {\n        \"dtype\": \"number\",\n        \"std\": 15.22934099512711,\n        \"min\": 11.5,\n        \"max\": 92.3,\n        \"num_unique_values\": 206,\n        \"samples\": [\n          78.26,\n          55.4,\n          87.0\n        ],\n        \"semantic_type\": \"\",\n        \"description\": \"\"\n      }\n    },\n    {\n      \"column\": \"AirTempC\",\n      \"properties\": {\n        \"dtype\": \"number\",\n        \"std\": 8.46074499732076,\n        \"min\": -11.38888889,\n        \"max\": 33.5,\n        \"num_unique_values\": 206,\n        \"samples\": [\n          25.7,\n          13.0,\n          30.55555556\n        ],\n        \"semantic_type\": \"\",\n        \"description\": \"\"\n      }\n    },\n    {\n      \"column\": \"Year\",\n      \"properties\": {\n        \"dtype\": \"number\",\n        \"std\": 8,\n        \"min\": 1899,\n        \"max\": 2019,\n        \"num_unique_values\": 31,\n        \"samples\": [\n          1899,\n          2005,\n          2013\n        ],\n        \"semantic_type\": \"\",\n        \"description\": \"\"\n      }\n    }\n  ]\n}"
            }
          },
          "metadata": {},
          "execution_count": 9
        }
      ]
    },
    {
      "cell_type": "markdown",
      "source": [
        "### Water Temperature and Air Temperature"
      ],
      "metadata": {
        "id": "EaPkr6uzYwls"
      }
    },
    {
      "cell_type": "markdown",
      "source": [
        "I am going to create a nonlinear multi-layer neural network to analyze water temperature and air temperature and find if there is a correlation."
      ],
      "metadata": {
        "id": "tBTX2PwCZ0xR"
      }
    },
    {
      "cell_type": "code",
      "source": [
        "#scatter plot of the air temperature and the water temperature in celcius\n",
        "water.plot(x=\"AirTempC\", y=\"WaterTempC\", kind=\"scatter\")"
      ],
      "metadata": {
        "colab": {
          "base_uri": "https://localhost:8080/",
          "height": 466
        },
        "id": "AujtLIuYKFkf",
        "outputId": "89905809-bcd3-4f62-bb6d-1c9630f7ace7"
      },
      "execution_count": 10,
      "outputs": [
        {
          "output_type": "execute_result",
          "data": {
            "text/plain": [
              "<Axes: xlabel='AirTempC', ylabel='WaterTempC'>"
            ]
          },
          "metadata": {},
          "execution_count": 10
        },
        {
          "output_type": "display_data",
          "data": {
            "text/plain": [
              "<Figure size 640x480 with 1 Axes>"
            ],
            "image/png": "[encoded data removed]"
          },
          "metadata": {}
        }
      ]
    },
    {
      "cell_type": "markdown",
      "source": [
        "I plotted WaterTempC and AirTempC to visualize and get a feeling how the data points look in a graph. This is also a way for me to keep up that AirTempC is on the x-axis and that WaterTempC is on the y-axis. Also, these temperatures are in Celsius accoridng to the orginal column names before I renamed them."
      ],
      "metadata": {
        "id": "zCsR8FUvOh6V"
      }
    },
    {
      "cell_type": "markdown",
      "source": [
        "The next following pieces of code is the model. The model used is a multi-layer nonlinear neural network. This multi-layer neural network is a model that uses a form of matrix multiplication to make predictions on a data set."
      ],
      "metadata": {
        "id": "9atlRQxaP43F"
      }
    },
    {
      "cell_type": "code",
      "source": [
        "#convert to a PyTorch tensor\n",
        "w = water.WaterTempC.to_numpy()\n",
        "wTemp = torch.from_numpy(w)\n",
        "a = water.AirTempC.to_numpy()\n",
        "aTemp = torch.from_numpy(a)"
      ],
      "metadata": {
        "id": "x9fIwsc8fRy5"
      },
      "execution_count": 11,
      "outputs": []
    },
    {
      "cell_type": "code",
      "source": [
        "X = aTemp.unsqueeze(dim=1) #use air temperature in Celsius as a predictor\n",
        "y = wTemp.unsqueeze(dim=1) #water temperature in Celsius is the estimand, the thing we're predicting."
      ],
      "metadata": {
        "id": "jgq3_tLgIEv0"
      },
      "execution_count": 12,
      "outputs": []
    },
    {
      "cell_type": "code",
      "source": [
        "# Scale the air temperature using standardization\n",
        "scaler = StandardScaler()\n",
        "aTemp_scaled = scaler.fit_transform(\n",
        "    aTemp.reshape(-1, 1) #makes it a column vector\n",
        "    )\n",
        "\n",
        "# Split data into training and testing sets\n",
        "X_train, X_test, y_train, y_test = train_test_split(\n",
        "    aTemp_scaled, wTemp, test_size=0.2,\n",
        ")\n",
        "\n",
        "# Convert to PyTorch tensors\n",
        "X_train = torch.tensor(X_train, dtype=torch.float32)\n",
        "y_train = torch.tensor(y_train, dtype=torch.float32)\n",
        "X_test = torch.tensor(X_test, dtype=torch.float32)\n",
        "y_test = torch.tensor(y_test, dtype=torch.float32)"
      ],
      "metadata": {
        "colab": {
          "base_uri": "https://localhost:8080/"
        },
        "id": "uPaD6UByIYNE",
        "outputId": "3bc742bc-7124-45e1-ee46-ce3f97ed6424"
      },
      "execution_count": 13,
      "outputs": [
        {
          "output_type": "stream",
          "name": "stderr",
          "text": [
            "<ipython-input-13-300c7a05c49d>:14: UserWarning: To copy construct from a tensor, it is recommended to use sourceTensor.clone().detach() or sourceTensor.clone().detach().requires_grad_(True), rather than torch.tensor(sourceTensor).\n",
            "  y_train = torch.tensor(y_train, dtype=torch.float32)\n",
            "<ipython-input-13-300c7a05c49d>:16: UserWarning: To copy construct from a tensor, it is recommended to use sourceTensor.clone().detach() or sourceTensor.clone().detach().requires_grad_(True), rather than torch.tensor(sourceTensor).\n",
            "  y_test = torch.tensor(y_test, dtype=torch.float32)\n"
          ]
        }
      ]
    },
    {
      "cell_type": "code",
      "source": [
        "# Two layer nn with nn.Sequential\n",
        "model_1 = nn.Sequential(\n",
        "    #our input is a vector, so 1 diminsion.\n",
        "    nn.Linear(in_features=1, out_features=32,),\n",
        "    nn.RReLU(),\n",
        "\n",
        "    #hidden layer with 32 nodes\n",
        "    nn.Linear(in_features=32, out_features=16, ),\n",
        "    nn.RReLU(),\n",
        "\n",
        "    #moves to hidden layer with 16 nodes\n",
        "    nn.Linear(in_features=16, out_features=8, ),\n",
        "    nn.RReLU(),\n",
        "\n",
        "    #hidden layer with 8 nodes\n",
        "    nn.Linear(in_features=8, out_features=4, ),\n",
        "    nn.RReLU(),\n",
        "\n",
        "    #hidden layer with 4 nodes\n",
        "    nn.Linear(in_features=4, out_features=1, ),\n",
        "    #outputs a vector of predicted weights\n",
        ")"
      ],
      "metadata": {
        "id": "ZWGvZ4LhI49D"
      },
      "execution_count": 14,
      "outputs": []
    },
    {
      "cell_type": "code",
      "source": [
        "# Create a loss function\n",
        "loss_fn = nn.MSELoss()\n",
        "\n",
        "# Create an optimizer; SGD is stochastic gradient decent\n",
        "optimizer = torch.optim.SGD(params=model_1.parameters(),\n",
        "                            lr=0.0001) #this is how fast it optimizes; smaller is slower, but more consistent"
      ],
      "metadata": {
        "id": "qha2r8i_JQqu"
      },
      "execution_count": 15,
      "outputs": []
    },
    {
      "cell_type": "code",
      "source": [
        "# Set the number of epochs; this is how many times we update our model\n",
        "epochs = 2000\n",
        "\n",
        "for epoch in range(epochs):\n",
        "    ### Training\n",
        "\n",
        "    #this allows our matrices to update\n",
        "    model_1.train()\n",
        "\n",
        "    # 1. Forward pass; makes predictions\n",
        "    y_pred = model_1(X_train)\n",
        "\n",
        "    # 2. Calculate loss; how bad were our predictions?\n",
        "    loss = loss_fn(y_pred.squeeze(), y_train)\n",
        "\n",
        "    # 3. Optimizer zero grad; resets how we change our model\n",
        "    optimizer.zero_grad()\n",
        "\n",
        "    # 4. Loss backwards; determines how to change our weights matrix\n",
        "    loss.backward()\n",
        "\n",
        "    # 5. Optimizer step; changes our weights matrix based on .backward()\n",
        "    optimizer.step()\n",
        "\n",
        "    ### Testing\n",
        "    model_1.eval() #forces our matrices to stay the same\n",
        "    with torch.inference_mode():\n",
        "      # 1. Forward pass; makes predictions, but with test data\n",
        "      test_pred = model_1(X_test)\n",
        "      # 2. Calculate the loss, but with test data\n",
        "      test_loss = loss_fn(test_pred, y_test)\n",
        "\n",
        "    # Print out what's happening\n",
        "    if epoch % 200 == 0: #prints every 200 epochs\n",
        "        print(f\"Epoch: {epoch} | Train loss: {loss:.5f}, Test loss: {test_loss:.5f}\")"
      ],
      "metadata": {
        "colab": {
          "base_uri": "https://localhost:8080/"
        },
        "id": "R_u_vKweJTe7",
        "outputId": "29b02eb5-f77e-4867-8bf8-96c5b27741d5"
      },
      "execution_count": 16,
      "outputs": [
        {
          "output_type": "stream",
          "name": "stderr",
          "text": [
            "/usr/local/lib/python3.11/dist-packages/torch/nn/modules/loss.py:610: UserWarning: Using a target size (torch.Size([256])) that is different to the input size (torch.Size([256, 1])). This will likely lead to incorrect results due to broadcasting. Please ensure they have the same size.\n",
            "  return F.mse_loss(input, target, reduction=self.reduction)\n"
          ]
        },
        {
          "output_type": "stream",
          "name": "stdout",
          "text": [
            "Epoch: 0 | Train loss: 376.23544, Test loss: 367.33423\n",
            "Epoch: 200 | Train loss: 341.59332, Test loss: 333.50803\n",
            "Epoch: 400 | Train loss: 246.60370, Test loss: 245.85789\n",
            "Epoch: 600 | Train loss: 18.08335, Test loss: 117.87608\n",
            "Epoch: 800 | Train loss: 17.97522, Test loss: 122.16595\n",
            "Epoch: 1000 | Train loss: 17.89807, Test loss: 122.78978\n",
            "Epoch: 1200 | Train loss: 17.93307, Test loss: 122.87970\n",
            "Epoch: 1400 | Train loss: 17.92547, Test loss: 122.88742\n",
            "Epoch: 1600 | Train loss: 17.89905, Test loss: 122.87209\n",
            "Epoch: 1800 | Train loss: 17.90220, Test loss: 122.85407\n"
          ]
        }
      ]
    },
    {
      "cell_type": "code",
      "source": [
        "# Turn on evaluation mode\n",
        "model_1.eval()\n",
        "\n",
        "# Make predictions (inference)\n",
        "with torch.inference_mode():\n",
        "    y_preds = model_1(X_test)"
      ],
      "metadata": {
        "id": "MQqWgKBgJYxc"
      },
      "execution_count": 17,
      "outputs": []
    },
    {
      "cell_type": "code",
      "source": [
        "#plots predictions--remember, our model has never seen X_test\n",
        "plt.scatter(X_test.detach().numpy(),y_preds.detach().numpy())\n",
        "\n",
        "#plots test data\n",
        "plt.scatter(X_test.detach().numpy(),y_test.detach().numpy())\n",
        "\n",
        "plt.figure(figsize=(12, 9))"
      ],
      "metadata": {
        "colab": {
          "base_uri": "https://localhost:8080/",
          "height": 465
        },
        "id": "5wZjmuQOJa_a",
        "outputId": "c2c41dd1-238e-4303-90ad-41a85d8f9814"
      },
      "execution_count": 18,
      "outputs": [
        {
          "output_type": "execute_result",
          "data": {
            "text/plain": [
              "<Figure size 1200x900 with 0 Axes>"
            ]
          },
          "metadata": {},
          "execution_count": 18
        },
        {
          "output_type": "display_data",
          "data": {
            "text/plain": [
              "<Figure size 640x480 with 1 Axes>"
            ],
            "image/png": "[encoded data removed]"
          },
          "metadata": {}
        },
        {
          "output_type": "display_data",
          "data": {
            "text/plain": [
              "<Figure size 1200x900 with 0 Axes>"
            ]
          },
          "metadata": {}
        }
      ]
    },
    {
      "cell_type": "markdown",
      "source": [
        "My thoughts on this model is that the model is working very well, but I think that the predictions of the left part of the graph may be off due to the outliers affecting the data."
      ],
      "metadata": {
        "id": "EcDWxB-FGmgq"
      }
    },
    {
      "cell_type": "markdown",
      "source": [
        "Based on the model, the air temperature and the water temperature are almost proportional. So when the water air temperature lowers, the water temperature also lowers."
      ],
      "metadata": {
        "id": "qzcXK4vVN_E1"
      }
    },
    {
      "cell_type": "markdown",
      "source": [
        "### Water Depth and Water Temperature"
      ],
      "metadata": {
        "id": "uky2_6vPQXgd"
      }
    },
    {
      "cell_type": "markdown",
      "source": [
        "In this next model I will predicting if there is a correlation between water depth and water temperature. The model used is a nonlinear multilayer neural network."
      ],
      "metadata": {
        "id": "boLYC42pQfKU"
      }
    },
    {
      "cell_type": "markdown",
      "source": [
        "I will plot how the data set looks like. I made it bigger to show clearly the clustered data."
      ],
      "metadata": {
        "id": "wSVW3VV4REar"
      }
    },
    {
      "cell_type": "code",
      "source": [
        "#scatter plot of the air temperature and the water temperature in celcius\n",
        "water.plot(x=\"WaterDepth\", y=\"WaterTempC\", kind=\"scatter\", figsize=(12, 9))"
      ],
      "metadata": {
        "colab": {
          "base_uri": "https://localhost:8080/",
          "height": 667
        },
        "id": "mzP5aJXWRKGa",
        "outputId": "e1f5f96d-633b-4f76-bca5-29c97814b0b4"
      },
      "execution_count": 20,
      "outputs": [
        {
          "output_type": "execute_result",
          "data": {
            "text/plain": [
              "<Axes: xlabel='WaterDepth', ylabel='WaterTempC'>"
            ]
          },
          "metadata": {},
          "execution_count": 20
        },
        {
          "output_type": "display_data",
          "data": {
            "text/plain": [
              "<Figure size 1200x900 with 1 Axes>"
            ],
            "image/png": "[encoded data removed]"
          },
          "metadata": {}
        }
      ]
    },
    {
      "cell_type": "code",
      "source": [
        "#convert to a PyTorch tensor\n",
        "d = water.WaterDepth.to_numpy()\n",
        "depth = torch.from_numpy(d)\n",
        "w2 = water.WaterTempC.to_numpy()\n",
        "wTemp2 = torch.from_numpy(w2)"
      ],
      "metadata": {
        "id": "49eIJQKIRvdI"
      },
      "execution_count": 21,
      "outputs": []
    },
    {
      "cell_type": "code",
      "source": [
        "X = depth.unsqueeze(dim=1) #use depth of water as a predictor\n",
        "y = wTemp2.unsqueeze(dim=1) #water temperature in Celsius is the estimand, the thing we're predicting."
      ],
      "metadata": {
        "id": "rkkO0XHdSH-W"
      },
      "execution_count": 22,
      "outputs": []
    },
    {
      "cell_type": "code",
      "source": [
        "# Scale the air temperature using standardization\n",
        "scaler = StandardScaler()\n",
        "depth_scaled = scaler.fit_transform(\n",
        "    depth.reshape(-1, 1) #makes it a column vector\n",
        "    )\n",
        "\n",
        "# Split data into training and testing sets\n",
        "X_train, X_test, y_train, y_test = train_test_split(\n",
        "    depth_scaled, wTemp2, test_size=0.2,\n",
        ")\n",
        "\n",
        "# Convert to PyTorch tensors\n",
        "X_train = torch.tensor(X_train, dtype=torch.float32)\n",
        "y_train = torch.tensor(y_train, dtype=torch.float32)\n",
        "X_test = torch.tensor(X_test, dtype=torch.float32)\n",
        "y_test = torch.tensor(y_test, dtype=torch.float32)"
      ],
      "metadata": {
        "colab": {
          "base_uri": "https://localhost:8080/"
        },
        "id": "K-tyLh6tSNl2",
        "outputId": "864c9fa1-f71d-44fe-88f1-16461fbe876e"
      },
      "execution_count": 23,
      "outputs": [
        {
          "output_type": "stream",
          "name": "stderr",
          "text": [
            "<ipython-input-23-6639a8cd545c>:14: UserWarning: To copy construct from a tensor, it is recommended to use sourceTensor.clone().detach() or sourceTensor.clone().detach().requires_grad_(True), rather than torch.tensor(sourceTensor).\n",
            "  y_train = torch.tensor(y_train, dtype=torch.float32)\n",
            "<ipython-input-23-6639a8cd545c>:16: UserWarning: To copy construct from a tensor, it is recommended to use sourceTensor.clone().detach() or sourceTensor.clone().detach().requires_grad_(True), rather than torch.tensor(sourceTensor).\n",
            "  y_test = torch.tensor(y_test, dtype=torch.float32)\n"
          ]
        }
      ]
    },
    {
      "cell_type": "code",
      "source": [
        "# Two layer nn with nn.Sequential\n",
        "model_1 = nn.Sequential(\n",
        "    #our input is a vector, so 1 diminsion.\n",
        "    nn.Linear(in_features=1, out_features=32,),\n",
        "    nn.RReLU(),\n",
        "\n",
        "    #hidden layer with 32 nodes\n",
        "    nn.Linear(in_features=32, out_features=16, ),\n",
        "    nn.RReLU(),\n",
        "\n",
        "    #moves to hidden layer with 16 nodes\n",
        "    nn.Linear(in_features=16, out_features=8, ),\n",
        "    nn.RReLU(),\n",
        "\n",
        "    #hidden layer with 8 nodes\n",
        "    nn.Linear(in_features=8, out_features=4, ),\n",
        "    nn.RReLU(),\n",
        "\n",
        "    #hidden layer with 4 nodes\n",
        "    nn.Linear(in_features=4, out_features=1, ),\n",
        "    #outputs a vector of predicted weights\n",
        ")"
      ],
      "metadata": {
        "id": "cHk0kayJSXbl"
      },
      "execution_count": 24,
      "outputs": []
    },
    {
      "cell_type": "code",
      "source": [
        "# Create a loss function\n",
        "loss_fn = nn.MSELoss()\n",
        "\n",
        "# Create an optimizer; SGD is stochastic gradient decent\n",
        "optimizer = torch.optim.SGD(params=model_1.parameters(),\n",
        "                            lr=0.0001) #this is how fast it optimizes; smaller is slower, but more consistent"
      ],
      "metadata": {
        "id": "4OjVpn2lSQZ1"
      },
      "execution_count": 25,
      "outputs": []
    },
    {
      "cell_type": "code",
      "source": [
        "# Set the number of epochs; this is how many times we update our model\n",
        "epochs = 2000\n",
        "\n",
        "for epoch in range(epochs):\n",
        "    ### Training\n",
        "\n",
        "    #this allows our matrices to update\n",
        "    model_1.train()\n",
        "\n",
        "    # 1. Forward pass; makes predictions\n",
        "    y_pred = model_1(X_train)\n",
        "\n",
        "    # 2. Calculate loss; how bad were our predictions?\n",
        "    loss = loss_fn(y_pred.squeeze(), y_train)\n",
        "\n",
        "    # 3. Optimizer zero grad; resets how we change our model\n",
        "    optimizer.zero_grad()\n",
        "\n",
        "    # 4. Loss backwards; determines how to change our weights matrix\n",
        "    loss.backward()\n",
        "\n",
        "    # 5. Optimizer step; changes our weights matrix based on .backward()\n",
        "    optimizer.step()\n",
        "\n",
        "    ### Testing\n",
        "    model_1.eval() #forces our matrices to stay the same\n",
        "    with torch.inference_mode():\n",
        "      # 1. Forward pass; makes predictions, but with test data\n",
        "      test_pred = model_1(X_test)\n",
        "      # 2. Calculate the loss, but with test data\n",
        "      test_loss = loss_fn(test_pred, y_test)\n",
        "\n",
        "    # Print out what's happening\n",
        "    if epoch % 200 == 0: #prints every 200 epochs\n",
        "        print(f\"Epoch: {epoch} | Train loss: {loss:.5f}, Test loss: {test_loss:.5f}\")"
      ],
      "metadata": {
        "colab": {
          "base_uri": "https://localhost:8080/"
        },
        "id": "C7QVDawWSbVN",
        "outputId": "60627143-7d2f-4e89-8f0e-3e11af9cf805"
      },
      "execution_count": 26,
      "outputs": [
        {
          "output_type": "stream",
          "name": "stderr",
          "text": [
            "/usr/local/lib/python3.11/dist-packages/torch/nn/modules/loss.py:610: UserWarning: Using a target size (torch.Size([256])) that is different to the input size (torch.Size([256, 1])). This will likely lead to incorrect results due to broadcasting. Please ensure they have the same size.\n",
            "  return F.mse_loss(input, target, reduction=self.reduction)\n"
          ]
        },
        {
          "output_type": "stream",
          "name": "stdout",
          "text": [
            "Epoch: 0 | Train loss: 382.65570, Test loss: 376.38287\n",
            "Epoch: 200 | Train loss: 352.71625, Test loss: 346.74643\n",
            "Epoch: 400 | Train loss: 293.76944, Test loss: 287.98700\n",
            "Epoch: 600 | Train loss: 70.04622, Test loss: 71.45127\n",
            "Epoch: 800 | Train loss: 69.36256, Test loss: 70.66853\n",
            "Epoch: 1000 | Train loss: 68.84151, Test loss: 70.28613\n",
            "Epoch: 1200 | Train loss: 68.35036, Test loss: 70.09373\n",
            "Epoch: 1400 | Train loss: 68.01929, Test loss: 70.01080\n",
            "Epoch: 1600 | Train loss: 67.99767, Test loss: 69.99203\n",
            "Epoch: 1800 | Train loss: 67.84413, Test loss: 70.00471\n"
          ]
        }
      ]
    },
    {
      "cell_type": "code",
      "source": [
        "# Turn on evaluation mode\n",
        "model_1.eval()\n",
        "\n",
        "# Make predictions (inference)\n",
        "with torch.inference_mode():\n",
        "    y_preds = model_1(X_test)"
      ],
      "metadata": {
        "id": "Mo3FOKveSfed"
      },
      "execution_count": 27,
      "outputs": []
    },
    {
      "cell_type": "code",
      "source": [
        "#plots predictions--remember, our model has never seen X_test\n",
        "plt.scatter(X_test.detach().numpy(),y_preds.detach().numpy())\n",
        "\n",
        "#plots test data\n",
        "plt.scatter(X_test.detach().numpy(),y_test.detach().numpy())\n",
        "\n",
        "plt.figure(figsize=(12, 9))"
      ],
      "metadata": {
        "colab": {
          "base_uri": "https://localhost:8080/",
          "height": 465
        },
        "id": "8W2_K4HQSiaN",
        "outputId": "081a8c9b-a68d-4419-f4ae-529392e3ff65"
      },
      "execution_count": 28,
      "outputs": [
        {
          "output_type": "execute_result",
          "data": {
            "text/plain": [
              "<Figure size 1200x900 with 0 Axes>"
            ]
          },
          "metadata": {},
          "execution_count": 28
        },
        {
          "output_type": "display_data",
          "data": {
            "text/plain": [
              "<Figure size 640x480 with 1 Axes>"
            ],
            "image/png": "[encoded data removed]"
          },
          "metadata": {}
        },
        {
          "output_type": "display_data",
          "data": {
            "text/plain": [
              "<Figure size 1200x900 with 0 Axes>"
            ]
          },
          "metadata": {}
        }
      ]
    },
    {
      "cell_type": "markdown",
      "source": [
        "The model looks like it tried its best to include all datapoints in its predictions and in the end it looks wonky. Though it looks linear, it is not linear hence the small curve in the middle. i don't think the model is completely correct but it slightly captures the pattern shown in the data."
      ],
      "metadata": {
        "id": "rpuHP6wPTIdT"
      }
    },
    {
      "cell_type": "markdown",
      "source": [
        "According to the predicted model, no matter the depth of the\n",
        "water, the water temperature is in different ranges from very hot to very cold. I forgot to take account that the data was recorded through multiple years and during different times of the year, so the model is recording the average of the hottest temperature and the lowest temperature and creating the average temperature based on depth."
      ],
      "metadata": {
        "id": "K2he_6T2U8Ug"
      }
    }
  ]
}