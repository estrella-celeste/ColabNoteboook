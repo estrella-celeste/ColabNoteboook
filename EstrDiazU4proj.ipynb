{
  "cells": [
    {
      "cell_type": "markdown",
      "metadata": {
        "id": "view-in-github",
        "colab_type": "text"
      },
      "source": [
        "<a href=\"https://colab.research.google.com/github/estrella-celeste/ColabNoteboook/blob/main/EstrDiazU4proj.ipynb\" target=\"_parent\"><img src=\"https://colab.research.google.com/assets/colab-badge.svg\" alt=\"Open In Colab\"/></a>"
      ]
    },
    {
      "cell_type": "code",
      "execution_count": 1,
      "metadata": {
        "colab": {
          "base_uri": "https://localhost:8080/"
        },
        "id": "ftpPlc2p1hT9",
        "outputId": "1aac374c-344a-40fb-f177-5058eda4c8f7"
      },
      "outputs": [
        {
          "output_type": "stream",
          "name": "stdout",
          "text": [
            "Collecting preliz\n",
            "  Downloading preliz-0.11.0-py3-none-any.whl.metadata (6.1 kB)\n",
            "Requirement already satisfied: matplotlib>=3.5 in /usr/local/lib/python3.10/dist-packages (from preliz) (3.8.0)\n",
            "Requirement already satisfied: numba>=0.59 in /usr/local/lib/python3.10/dist-packages (from preliz) (0.60.0)\n",
            "Requirement already satisfied: numpy>=1.22 in /usr/local/lib/python3.10/dist-packages (from preliz) (1.26.4)\n",
            "Collecting scipy<1.13,>=1.9.1 (from preliz)\n",
            "  Downloading scipy-1.12.0-cp310-cp310-manylinux_2_17_x86_64.manylinux2014_x86_64.whl.metadata (60 kB)\n",
            "\u001b[2K     \u001b[90m━━━━━━━━━━━━━━━━━━━━━━━━━━━━━━━━━━━━━━━━\u001b[0m \u001b[32m60.4/60.4 kB\u001b[0m \u001b[31m4.2 MB/s\u001b[0m eta \u001b[36m0:00:00\u001b[0m\n",
            "\u001b[?25hRequirement already satisfied: contourpy>=1.0.1 in /usr/local/lib/python3.10/dist-packages (from matplotlib>=3.5->preliz) (1.3.1)\n",
            "Requirement already satisfied: cycler>=0.10 in /usr/local/lib/python3.10/dist-packages (from matplotlib>=3.5->preliz) (0.12.1)\n",
            "Requirement already satisfied: fonttools>=4.22.0 in /usr/local/lib/python3.10/dist-packages (from matplotlib>=3.5->preliz) (4.55.0)\n",
            "Requirement already satisfied: kiwisolver>=1.0.1 in /usr/local/lib/python3.10/dist-packages (from matplotlib>=3.5->preliz) (1.4.7)\n",
            "Requirement already satisfied: packaging>=20.0 in /usr/local/lib/python3.10/dist-packages (from matplotlib>=3.5->preliz) (24.2)\n",
            "Requirement already satisfied: pillow>=6.2.0 in /usr/local/lib/python3.10/dist-packages (from matplotlib>=3.5->preliz) (11.0.0)\n",
            "Requirement already satisfied: pyparsing>=2.3.1 in /usr/local/lib/python3.10/dist-packages (from matplotlib>=3.5->preliz) (3.2.0)\n",
            "Requirement already satisfied: python-dateutil>=2.7 in /usr/local/lib/python3.10/dist-packages (from matplotlib>=3.5->preliz) (2.8.2)\n",
            "Requirement already satisfied: llvmlite<0.44,>=0.43.0dev0 in /usr/local/lib/python3.10/dist-packages (from numba>=0.59->preliz) (0.43.0)\n",
            "Requirement already satisfied: six>=1.5 in /usr/local/lib/python3.10/dist-packages (from python-dateutil>=2.7->matplotlib>=3.5->preliz) (1.16.0)\n",
            "Downloading preliz-0.11.0-py3-none-any.whl (514 kB)\n",
            "\u001b[2K   \u001b[90m━━━━━━━━━━━━━━━━━━━━━━━━━━━━━━━━━━━━━━━━\u001b[0m \u001b[32m514.2/514.2 kB\u001b[0m \u001b[31m29.2 MB/s\u001b[0m eta \u001b[36m0:00:00\u001b[0m\n",
            "\u001b[?25hDownloading scipy-1.12.0-cp310-cp310-manylinux_2_17_x86_64.manylinux2014_x86_64.whl (38.4 MB)\n",
            "\u001b[2K   \u001b[90m━━━━━━━━━━━━━━━━━━━━━━━━━━━━━━━━━━━━━━━━\u001b[0m \u001b[32m38.4/38.4 MB\u001b[0m \u001b[31m31.1 MB/s\u001b[0m eta \u001b[36m0:00:00\u001b[0m\n",
            "\u001b[?25hInstalling collected packages: scipy, preliz\n",
            "  Attempting uninstall: scipy\n",
            "    Found existing installation: scipy 1.13.1\n",
            "    Uninstalling scipy-1.13.1:\n",
            "      Successfully uninstalled scipy-1.13.1\n",
            "Successfully installed preliz-0.11.0 scipy-1.12.0\n"
          ]
        }
      ],
      "source": [
        "!pip install preliz"
      ]
    },
    {
      "cell_type": "code",
      "execution_count": 2,
      "metadata": {
        "id": "8s4_YKfeuRGL"
      },
      "outputs": [],
      "source": [
        "import numpy as np\n",
        "from matplotlib import pyplot as plt\n",
        "import seaborn as sns\n",
        "import pandas as pd\n",
        "import arviz as az\n",
        "import pymc as pm"
      ]
    },
    {
      "cell_type": "markdown",
      "metadata": {
        "id": "DgmGSvyaNayf"
      },
      "source": [
        "# Unit 4 Project"
      ]
    },
    {
      "cell_type": "markdown",
      "metadata": {
        "id": "iw949BygD_SL"
      },
      "source": [
        "# Introduction and data set up"
      ]
    },
    {
      "cell_type": "markdown",
      "metadata": {
        "id": "bPcTLLVt_A9C"
      },
      "source": [
        "Not a sports person.\n",
        "\n",
        "I'm not excited, nor I hate it."
      ]
    },
    {
      "cell_type": "markdown",
      "metadata": {
        "id": "BhZgWZbQ-ZDA"
      },
      "source": [
        "Lacking time towards\n",
        "\n",
        "finding suitable data\n",
        "\n",
        "Stuck with baskeball"
      ]
    },
    {
      "cell_type": "markdown",
      "metadata": {
        "id": "hEPEVwdb_axM"
      },
      "source": [
        "Maybe I'll find it interesting."
      ]
    },
    {
      "cell_type": "markdown",
      "metadata": {
        "id": "DN2SmvSj8qt0"
      },
      "source": [
        "Basketball project\n",
        "\n",
        "Imagine that this is fun\n",
        "\n",
        "maybe worth the pain"
      ]
    },
    {
      "cell_type": "markdown",
      "metadata": {
        "id": "bczM7fasg1jT"
      },
      "source": [
        "So lets get started..."
      ]
    },
    {
      "cell_type": "markdown",
      "metadata": {
        "id": "J2I4Lq3dhBfk"
      },
      "source": [
        "Setting up..."
      ]
    },
    {
      "cell_type": "code",
      "execution_count": 3,
      "metadata": {
        "id": "2ZN_uoUNti8u"
      },
      "outputs": [],
      "source": [
        "#Import NBA player data from the 2023-2024 season\n",
        "#Reminder to use the raw data when importing from github\n",
        "url_cs ='https://raw.githubusercontent.com/thedarredondo/data-science-fundamentals/refs/heads/main/Data/basketball2324.csv'\n",
        "basketball = pd.read_csv(url_cs)"
      ]
    },
    {
      "cell_type": "code",
      "execution_count": 4,
      "metadata": {
        "id": "dxMcygk591Vb"
      },
      "outputs": [],
      "source": [
        "#Turns the position column into a categorical variable\n",
        "basketball = pd.read_csv(url_cs,dtype={'Pos':'category'})\n",
        "basketball=basketball.query(\"MP>300\")"
      ]
    },
    {
      "cell_type": "markdown",
      "metadata": {
        "id": "ivh_o31lyORK"
      },
      "source": [
        " **DATA SET KEY *This is For Personal Reference***\n",
        "* Player = player's name\n",
        "* Age = player's age\n",
        "*Pos = position\n",
        "*Tm = Team\n",
        "*G = games\n",
        "*GS = game started\n",
        "*MP = Minutes Played\n",
        "*FG = Field Goal makes\n",
        "*FGA = Field Goal Attempts\n",
        "*FG% = FG percentage\n",
        "*3P = 3 point makes\n",
        "*3PA = 3 point attempts\n",
        "*3P% = 3 point percentage\n",
        "*2P = 2 point makes\n",
        "*2PA = 2 point attempts\n",
        "*2P% = 2 point percentage\n",
        "*eFG% = effective field goal percentage\n",
        "*FT = free throw makes\n",
        "*FTA = free throw attempted\n",
        "*FT% = free throw percentage\n",
        "*ORB = offensive rebounds by team\n",
        "*DRB = defensive rebounds by team\n",
        "*TRB = total rebounds by team\n",
        "*AST = total assists by team\n",
        "*STL = steals by team\n",
        "*BLK = blocks by team\n",
        "*TOV = turnovers by team\n",
        "*PF = personal fouls by team\n",
        "*PTS = points"
      ]
    },
    {
      "cell_type": "markdown",
      "metadata": {
        "id": "L7Fz5tP7hhQp"
      },
      "source": [
        "Aaaand ... Finished setting up.\n",
        "\n",
        "Behold, the breathtaking raw data!"
      ]
    },
    {
      "cell_type": "code",
      "execution_count": 5,
      "metadata": {
        "colab": {
          "base_uri": "https://localhost:8080/",
          "height": 424
        },
        "id": "0CcG4ZdBwMwq",
        "outputId": "c139869a-3a3c-421f-d5e8-1e4a7acf603f"
      },
      "outputs": [
        {
          "output_type": "execute_result",
          "data": {
            "text/plain": [
              "                       Player   Pos  Age   Tm   G  GS    MP   FG   FGA    FG%  \\\n",
              "0            Precious Achiuwa  PF-C   24  TOT  74  18  1624  235   469  0.501   \n",
              "1                 Bam Adebayo     C   26  MIA  71  71  2416  530  1017  0.521   \n",
              "2                Ochai Agbaji    SG   23  TOT  78  28  1641  178   433  0.411   \n",
              "3                Santi Aldama    PF   23  MEM  61  35  1618  247   568  0.435   \n",
              "4    Nickeil Alexander-Walker    SG   25  MIN  82  20  1921  236   538  0.439   \n",
              "..                        ...   ...  ...  ...  ..  ..   ...  ...   ...    ...   \n",
              "567            Thaddeus Young    PF   35  TOT  33   6   439   65   108  0.602   \n",
              "568                Trae Young    PG   25  ATL  54  54  1942  433  1008  0.430   \n",
              "569            Omer Yurtseven     C   25  UTA  48  12   545   99   184  0.538   \n",
              "570               Cody Zeller     C   31  NOP  43   0   320   26    62  0.419   \n",
              "571               Ivica Zubac     C   26  LAC  68  68  1794  337   519  0.649   \n",
              "\n",
              "     ...  ORB  DRB  TRB  AST  STL  BLK  TOV   PF   PTS  Player-additional  \n",
              "0    ...  191  296  487   97   46   68   83  143   565          achiupr01  \n",
              "1    ...  159  578  737  278   81   66  162  159  1367          adebaba01  \n",
              "2    ...   74  142  216   83   47   44   64  117   455          agbajoc01  \n",
              "3    ...   72  280  352  138   43   54   69   89   654          aldamsa01  \n",
              "4    ...   35  132  167  204   64   42   76  143   655          alexani01  \n",
              "..   ...  ...  ...  ...  ...  ...  ...  ...  ...   ...                ...  \n",
              "567  ...   46   57  103   57   23    5   15   49   137          youngth01  \n",
              "568  ...   23  126  149  583   72   11  235  109  1389          youngtr01  \n",
              "569  ...   72  136  208   29    8   18   37   52   222          yurtsom01  \n",
              "570  ...   48   64  112   39    9    5   16   45    76          zelleco01  \n",
              "571  ...  196  430  626   93   22   83   79  180   794          zubaciv01  \n",
              "\n",
              "[413 rows x 30 columns]"
            ],
            "text/html": [
              "\n",
              "  <div id=\"df-69c489af-dd52-40aa-8272-f5a98fca449c\" class=\"colab-df-container\">\n",
              "    <div>\n",
              "<style scoped>\n",
              "    .dataframe tbody tr th:only-of-type {\n",
              "        vertical-align: middle;\n",
              "    }\n",
              "\n",
              "    .dataframe tbody tr th {\n",
              "        vertical-align: top;\n",
              "    }\n",
              "\n",
              "    .dataframe thead th {\n",
              "        text-align: right;\n",
              "    }\n",
              "</style>\n",
              "<table border=\"1\" class=\"dataframe\">\n",
              "  <thead>\n",
              "    <tr style=\"text-align: right;\">\n",
              "      <th></th>\n",
              "      <th>Player</th>\n",
              "      <th>Pos</th>\n",
              "      <th>Age</th>\n",
              "      <th>Tm</th>\n",
              "      <th>G</th>\n",
              "      <th>GS</th>\n",
              "      <th>MP</th>\n",
              "      <th>FG</th>\n",
              "      <th>FGA</th>\n",
              "      <th>FG%</th>\n",
              "      <th>...</th>\n",
              "      <th>ORB</th>\n",
              "      <th>DRB</th>\n",
              "      <th>TRB</th>\n",
              "      <th>AST</th>\n",
              "      <th>STL</th>\n",
              "      <th>BLK</th>\n",
              "      <th>TOV</th>\n",
              "      <th>PF</th>\n",
              "      <th>PTS</th>\n",
              "      <th>Player-additional</th>\n",
              "    </tr>\n",
              "  </thead>\n",
              "  <tbody>\n",
              "    <tr>\n",
              "      <th>0</th>\n",
              "      <td>Precious Achiuwa</td>\n",
              "      <td>PF-C</td>\n",
              "      <td>24</td>\n",
              "      <td>TOT</td>\n",
              "      <td>74</td>\n",
              "      <td>18</td>\n",
              "      <td>1624</td>\n",
              "      <td>235</td>\n",
              "      <td>469</td>\n",
              "      <td>0.501</td>\n",
              "      <td>...</td>\n",
              "      <td>191</td>\n",
              "      <td>296</td>\n",
              "      <td>487</td>\n",
              "      <td>97</td>\n",
              "      <td>46</td>\n",
              "      <td>68</td>\n",
              "      <td>83</td>\n",
              "      <td>143</td>\n",
              "      <td>565</td>\n",
              "      <td>achiupr01</td>\n",
              "    </tr>\n",
              "    <tr>\n",
              "      <th>1</th>\n",
              "      <td>Bam Adebayo</td>\n",
              "      <td>C</td>\n",
              "      <td>26</td>\n",
              "      <td>MIA</td>\n",
              "      <td>71</td>\n",
              "      <td>71</td>\n",
              "      <td>2416</td>\n",
              "      <td>530</td>\n",
              "      <td>1017</td>\n",
              "      <td>0.521</td>\n",
              "      <td>...</td>\n",
              "      <td>159</td>\n",
              "      <td>578</td>\n",
              "      <td>737</td>\n",
              "      <td>278</td>\n",
              "      <td>81</td>\n",
              "      <td>66</td>\n",
              "      <td>162</td>\n",
              "      <td>159</td>\n",
              "      <td>1367</td>\n",
              "      <td>adebaba01</td>\n",
              "    </tr>\n",
              "    <tr>\n",
              "      <th>2</th>\n",
              "      <td>Ochai Agbaji</td>\n",
              "      <td>SG</td>\n",
              "      <td>23</td>\n",
              "      <td>TOT</td>\n",
              "      <td>78</td>\n",
              "      <td>28</td>\n",
              "      <td>1641</td>\n",
              "      <td>178</td>\n",
              "      <td>433</td>\n",
              "      <td>0.411</td>\n",
              "      <td>...</td>\n",
              "      <td>74</td>\n",
              "      <td>142</td>\n",
              "      <td>216</td>\n",
              "      <td>83</td>\n",
              "      <td>47</td>\n",
              "      <td>44</td>\n",
              "      <td>64</td>\n",
              "      <td>117</td>\n",
              "      <td>455</td>\n",
              "      <td>agbajoc01</td>\n",
              "    </tr>\n",
              "    <tr>\n",
              "      <th>3</th>\n",
              "      <td>Santi Aldama</td>\n",
              "      <td>PF</td>\n",
              "      <td>23</td>\n",
              "      <td>MEM</td>\n",
              "      <td>61</td>\n",
              "      <td>35</td>\n",
              "      <td>1618</td>\n",
              "      <td>247</td>\n",
              "      <td>568</td>\n",
              "      <td>0.435</td>\n",
              "      <td>...</td>\n",
              "      <td>72</td>\n",
              "      <td>280</td>\n",
              "      <td>352</td>\n",
              "      <td>138</td>\n",
              "      <td>43</td>\n",
              "      <td>54</td>\n",
              "      <td>69</td>\n",
              "      <td>89</td>\n",
              "      <td>654</td>\n",
              "      <td>aldamsa01</td>\n",
              "    </tr>\n",
              "    <tr>\n",
              "      <th>4</th>\n",
              "      <td>Nickeil Alexander-Walker</td>\n",
              "      <td>SG</td>\n",
              "      <td>25</td>\n",
              "      <td>MIN</td>\n",
              "      <td>82</td>\n",
              "      <td>20</td>\n",
              "      <td>1921</td>\n",
              "      <td>236</td>\n",
              "      <td>538</td>\n",
              "      <td>0.439</td>\n",
              "      <td>...</td>\n",
              "      <td>35</td>\n",
              "      <td>132</td>\n",
              "      <td>167</td>\n",
              "      <td>204</td>\n",
              "      <td>64</td>\n",
              "      <td>42</td>\n",
              "      <td>76</td>\n",
              "      <td>143</td>\n",
              "      <td>655</td>\n",
              "      <td>alexani01</td>\n",
              "    </tr>\n",
              "    <tr>\n",
              "      <th>...</th>\n",
              "      <td>...</td>\n",
              "      <td>...</td>\n",
              "      <td>...</td>\n",
              "      <td>...</td>\n",
              "      <td>...</td>\n",
              "      <td>...</td>\n",
              "      <td>...</td>\n",
              "      <td>...</td>\n",
              "      <td>...</td>\n",
              "      <td>...</td>\n",
              "      <td>...</td>\n",
              "      <td>...</td>\n",
              "      <td>...</td>\n",
              "      <td>...</td>\n",
              "      <td>...</td>\n",
              "      <td>...</td>\n",
              "      <td>...</td>\n",
              "      <td>...</td>\n",
              "      <td>...</td>\n",
              "      <td>...</td>\n",
              "      <td>...</td>\n",
              "    </tr>\n",
              "    <tr>\n",
              "      <th>567</th>\n",
              "      <td>Thaddeus Young</td>\n",
              "      <td>PF</td>\n",
              "      <td>35</td>\n",
              "      <td>TOT</td>\n",
              "      <td>33</td>\n",
              "      <td>6</td>\n",
              "      <td>439</td>\n",
              "      <td>65</td>\n",
              "      <td>108</td>\n",
              "      <td>0.602</td>\n",
              "      <td>...</td>\n",
              "      <td>46</td>\n",
              "      <td>57</td>\n",
              "      <td>103</td>\n",
              "      <td>57</td>\n",
              "      <td>23</td>\n",
              "      <td>5</td>\n",
              "      <td>15</td>\n",
              "      <td>49</td>\n",
              "      <td>137</td>\n",
              "      <td>youngth01</td>\n",
              "    </tr>\n",
              "    <tr>\n",
              "      <th>568</th>\n",
              "      <td>Trae Young</td>\n",
              "      <td>PG</td>\n",
              "      <td>25</td>\n",
              "      <td>ATL</td>\n",
              "      <td>54</td>\n",
              "      <td>54</td>\n",
              "      <td>1942</td>\n",
              "      <td>433</td>\n",
              "      <td>1008</td>\n",
              "      <td>0.430</td>\n",
              "      <td>...</td>\n",
              "      <td>23</td>\n",
              "      <td>126</td>\n",
              "      <td>149</td>\n",
              "      <td>583</td>\n",
              "      <td>72</td>\n",
              "      <td>11</td>\n",
              "      <td>235</td>\n",
              "      <td>109</td>\n",
              "      <td>1389</td>\n",
              "      <td>youngtr01</td>\n",
              "    </tr>\n",
              "    <tr>\n",
              "      <th>569</th>\n",
              "      <td>Omer Yurtseven</td>\n",
              "      <td>C</td>\n",
              "      <td>25</td>\n",
              "      <td>UTA</td>\n",
              "      <td>48</td>\n",
              "      <td>12</td>\n",
              "      <td>545</td>\n",
              "      <td>99</td>\n",
              "      <td>184</td>\n",
              "      <td>0.538</td>\n",
              "      <td>...</td>\n",
              "      <td>72</td>\n",
              "      <td>136</td>\n",
              "      <td>208</td>\n",
              "      <td>29</td>\n",
              "      <td>8</td>\n",
              "      <td>18</td>\n",
              "      <td>37</td>\n",
              "      <td>52</td>\n",
              "      <td>222</td>\n",
              "      <td>yurtsom01</td>\n",
              "    </tr>\n",
              "    <tr>\n",
              "      <th>570</th>\n",
              "      <td>Cody Zeller</td>\n",
              "      <td>C</td>\n",
              "      <td>31</td>\n",
              "      <td>NOP</td>\n",
              "      <td>43</td>\n",
              "      <td>0</td>\n",
              "      <td>320</td>\n",
              "      <td>26</td>\n",
              "      <td>62</td>\n",
              "      <td>0.419</td>\n",
              "      <td>...</td>\n",
              "      <td>48</td>\n",
              "      <td>64</td>\n",
              "      <td>112</td>\n",
              "      <td>39</td>\n",
              "      <td>9</td>\n",
              "      <td>5</td>\n",
              "      <td>16</td>\n",
              "      <td>45</td>\n",
              "      <td>76</td>\n",
              "      <td>zelleco01</td>\n",
              "    </tr>\n",
              "    <tr>\n",
              "      <th>571</th>\n",
              "      <td>Ivica Zubac</td>\n",
              "      <td>C</td>\n",
              "      <td>26</td>\n",
              "      <td>LAC</td>\n",
              "      <td>68</td>\n",
              "      <td>68</td>\n",
              "      <td>1794</td>\n",
              "      <td>337</td>\n",
              "      <td>519</td>\n",
              "      <td>0.649</td>\n",
              "      <td>...</td>\n",
              "      <td>196</td>\n",
              "      <td>430</td>\n",
              "      <td>626</td>\n",
              "      <td>93</td>\n",
              "      <td>22</td>\n",
              "      <td>83</td>\n",
              "      <td>79</td>\n",
              "      <td>180</td>\n",
              "      <td>794</td>\n",
              "      <td>zubaciv01</td>\n",
              "    </tr>\n",
              "  </tbody>\n",
              "</table>\n",
              "<p>413 rows × 30 columns</p>\n",
              "</div>\n",
              "    <div class=\"colab-df-buttons\">\n",
              "\n",
              "  <div class=\"colab-df-container\">\n",
              "    <button class=\"colab-df-convert\" onclick=\"convertToInteractive('df-69c489af-dd52-40aa-8272-f5a98fca449c')\"\n",
              "            title=\"Convert this dataframe to an interactive table.\"\n",
              "            style=\"display:none;\">\n",
              "\n",
              "  <svg xmlns=\"http://www.w3.org/2000/svg\" height=\"24px\" viewBox=\"0 -960 960 960\">\n",
              "    <path d=\"M120-120v-720h720v720H120Zm60-500h600v-160H180v160Zm220 220h160v-160H400v160Zm0 220h160v-160H400v160ZM180-400h160v-160H180v160Zm440 0h160v-160H620v160ZM180-180h160v-160H180v160Zm440 0h160v-160H620v160Z\"/>\n",
              "  </svg>\n",
              "    </button>\n",
              "\n",
              "  <style>\n",
              "    .colab-df-container {\n",
              "      display:flex;\n",
              "      gap: 12px;\n",
              "    }\n",
              "\n",
              "    .colab-df-convert {\n",
              "      background-color: #E8F0FE;\n",
              "      border: none;\n",
              "      border-radius: 50%;\n",
              "      cursor: pointer;\n",
              "      display: none;\n",
              "      fill: #1967D2;\n",
              "      height: 32px;\n",
              "      padding: 0 0 0 0;\n",
              "      width: 32px;\n",
              "    }\n",
              "\n",
              "    .colab-df-convert:hover {\n",
              "      background-color: #E2EBFA;\n",
              "      box-shadow: 0px 1px 2px rgba(60, 64, 67, 0.3), 0px 1px 3px 1px rgba(60, 64, 67, 0.15);\n",
              "      fill: #174EA6;\n",
              "    }\n",
              "\n",
              "    .colab-df-buttons div {\n",
              "      margin-bottom: 4px;\n",
              "    }\n",
              "\n",
              "    [theme=dark] .colab-df-convert {\n",
              "      background-color: #3B4455;\n",
              "      fill: #D2E3FC;\n",
              "    }\n",
              "\n",
              "    [theme=dark] .colab-df-convert:hover {\n",
              "      background-color: #434B5C;\n",
              "      box-shadow: 0px 1px 3px 1px rgba(0, 0, 0, 0.15);\n",
              "      filter: drop-shadow(0px 1px 2px rgba(0, 0, 0, 0.3));\n",
              "      fill: #FFFFFF;\n",
              "    }\n",
              "  </style>\n",
              "\n",
              "    <script>\n",
              "      const buttonEl =\n",
              "        document.querySelector('#df-69c489af-dd52-40aa-8272-f5a98fca449c button.colab-df-convert');\n",
              "      buttonEl.style.display =\n",
              "        google.colab.kernel.accessAllowed ? 'block' : 'none';\n",
              "\n",
              "      async function convertToInteractive(key) {\n",
              "        const element = document.querySelector('#df-69c489af-dd52-40aa-8272-f5a98fca449c');\n",
              "        const dataTable =\n",
              "          await google.colab.kernel.invokeFunction('convertToInteractive',\n",
              "                                                    [key], {});\n",
              "        if (!dataTable) return;\n",
              "\n",
              "        const docLinkHtml = 'Like what you see? Visit the ' +\n",
              "          '<a target=\"_blank\" href=https://colab.research.google.com/notebooks/data_table.ipynb>data table notebook</a>'\n",
              "          + ' to learn more about interactive tables.';\n",
              "        element.innerHTML = '';\n",
              "        dataTable['output_type'] = 'display_data';\n",
              "        await google.colab.output.renderOutput(dataTable, element);\n",
              "        const docLink = document.createElement('div');\n",
              "        docLink.innerHTML = docLinkHtml;\n",
              "        element.appendChild(docLink);\n",
              "      }\n",
              "    </script>\n",
              "  </div>\n",
              "\n",
              "\n",
              "<div id=\"df-9f9c925d-3d6c-4959-b8b1-b2f7e1638d0c\">\n",
              "  <button class=\"colab-df-quickchart\" onclick=\"quickchart('df-9f9c925d-3d6c-4959-b8b1-b2f7e1638d0c')\"\n",
              "            title=\"Suggest charts\"\n",
              "            style=\"display:none;\">\n",
              "\n",
              "<svg xmlns=\"http://www.w3.org/2000/svg\" height=\"24px\"viewBox=\"0 0 24 24\"\n",
              "     width=\"24px\">\n",
              "    <g>\n",
              "        <path d=\"M19 3H5c-1.1 0-2 .9-2 2v14c0 1.1.9 2 2 2h14c1.1 0 2-.9 2-2V5c0-1.1-.9-2-2-2zM9 17H7v-7h2v7zm4 0h-2V7h2v10zm4 0h-2v-4h2v4z\"/>\n",
              "    </g>\n",
              "</svg>\n",
              "  </button>\n",
              "\n",
              "<style>\n",
              "  .colab-df-quickchart {\n",
              "      --bg-color: #E8F0FE;\n",
              "      --fill-color: #1967D2;\n",
              "      --hover-bg-color: #E2EBFA;\n",
              "      --hover-fill-color: #174EA6;\n",
              "      --disabled-fill-color: #AAA;\n",
              "      --disabled-bg-color: #DDD;\n",
              "  }\n",
              "\n",
              "  [theme=dark] .colab-df-quickchart {\n",
              "      --bg-color: #3B4455;\n",
              "      --fill-color: #D2E3FC;\n",
              "      --hover-bg-color: #434B5C;\n",
              "      --hover-fill-color: #FFFFFF;\n",
              "      --disabled-bg-color: #3B4455;\n",
              "      --disabled-fill-color: #666;\n",
              "  }\n",
              "\n",
              "  .colab-df-quickchart {\n",
              "    background-color: var(--bg-color);\n",
              "    border: none;\n",
              "    border-radius: 50%;\n",
              "    cursor: pointer;\n",
              "    display: none;\n",
              "    fill: var(--fill-color);\n",
              "    height: 32px;\n",
              "    padding: 0;\n",
              "    width: 32px;\n",
              "  }\n",
              "\n",
              "  .colab-df-quickchart:hover {\n",
              "    background-color: var(--hover-bg-color);\n",
              "    box-shadow: 0 1px 2px rgba(60, 64, 67, 0.3), 0 1px 3px 1px rgba(60, 64, 67, 0.15);\n",
              "    fill: var(--button-hover-fill-color);\n",
              "  }\n",
              "\n",
              "  .colab-df-quickchart-complete:disabled,\n",
              "  .colab-df-quickchart-complete:disabled:hover {\n",
              "    background-color: var(--disabled-bg-color);\n",
              "    fill: var(--disabled-fill-color);\n",
              "    box-shadow: none;\n",
              "  }\n",
              "\n",
              "  .colab-df-spinner {\n",
              "    border: 2px solid var(--fill-color);\n",
              "    border-color: transparent;\n",
              "    border-bottom-color: var(--fill-color);\n",
              "    animation:\n",
              "      spin 1s steps(1) infinite;\n",
              "  }\n",
              "\n",
              "  @keyframes spin {\n",
              "    0% {\n",
              "      border-color: transparent;\n",
              "      border-bottom-color: var(--fill-color);\n",
              "      border-left-color: var(--fill-color);\n",
              "    }\n",
              "    20% {\n",
              "      border-color: transparent;\n",
              "      border-left-color: var(--fill-color);\n",
              "      border-top-color: var(--fill-color);\n",
              "    }\n",
              "    30% {\n",
              "      border-color: transparent;\n",
              "      border-left-color: var(--fill-color);\n",
              "      border-top-color: var(--fill-color);\n",
              "      border-right-color: var(--fill-color);\n",
              "    }\n",
              "    40% {\n",
              "      border-color: transparent;\n",
              "      border-right-color: var(--fill-color);\n",
              "      border-top-color: var(--fill-color);\n",
              "    }\n",
              "    60% {\n",
              "      border-color: transparent;\n",
              "      border-right-color: var(--fill-color);\n",
              "    }\n",
              "    80% {\n",
              "      border-color: transparent;\n",
              "      border-right-color: var(--fill-color);\n",
              "      border-bottom-color: var(--fill-color);\n",
              "    }\n",
              "    90% {\n",
              "      border-color: transparent;\n",
              "      border-bottom-color: var(--fill-color);\n",
              "    }\n",
              "  }\n",
              "</style>\n",
              "\n",
              "  <script>\n",
              "    async function quickchart(key) {\n",
              "      const quickchartButtonEl =\n",
              "        document.querySelector('#' + key + ' button');\n",
              "      quickchartButtonEl.disabled = true;  // To prevent multiple clicks.\n",
              "      quickchartButtonEl.classList.add('colab-df-spinner');\n",
              "      try {\n",
              "        const charts = await google.colab.kernel.invokeFunction(\n",
              "            'suggestCharts', [key], {});\n",
              "      } catch (error) {\n",
              "        console.error('Error during call to suggestCharts:', error);\n",
              "      }\n",
              "      quickchartButtonEl.classList.remove('colab-df-spinner');\n",
              "      quickchartButtonEl.classList.add('colab-df-quickchart-complete');\n",
              "    }\n",
              "    (() => {\n",
              "      let quickchartButtonEl =\n",
              "        document.querySelector('#df-9f9c925d-3d6c-4959-b8b1-b2f7e1638d0c button');\n",
              "      quickchartButtonEl.style.display =\n",
              "        google.colab.kernel.accessAllowed ? 'block' : 'none';\n",
              "    })();\n",
              "  </script>\n",
              "</div>\n",
              "    </div>\n",
              "  </div>\n"
            ],
            "application/vnd.google.colaboratory.intrinsic+json": {
              "type": "dataframe",
              "variable_name": "basketball"
            }
          },
          "metadata": {},
          "execution_count": 5
        }
      ],
      "source": [
        "#Full data set aka the RAW data\n",
        "basketball"
      ]
    },
    {
      "cell_type": "markdown",
      "metadata": {
        "id": "LNQhAH-0fpqd"
      },
      "source": [
        "I am going to display the players, position (Pos), total rebounds by team (TRB) and points (PTS), so I am cutting out the rest. I am goint to use the Pos and TRB columns as my data.\n",
        "\n",
        "Why these three columns?\n",
        "\n",
        "* With the raw data, there are many ways I can analyze the data but I just\n",
        "want it to keep it simple.\n",
        "\n",
        "* So, its easy to categorize Pos, and TRB and PTS is the data that falls into many of the Pos categories.\n",
        "\n",
        "* We are trying to recreate the soccer example but with basketball"
      ]
    },
    {
      "cell_type": "markdown",
      "metadata": {
        "id": "2PzBeSRPkjaA"
      },
      "source": [
        "My intentions is to analyze the relationship about position and the number of total rebounds by team and total points."
      ]
    },
    {
      "cell_type": "code",
      "execution_count": 6,
      "metadata": {
        "colab": {
          "base_uri": "https://localhost:8080/",
          "height": 424
        },
        "id": "pjJmZXbB5wcx",
        "outputId": "850671e9-d2a0-4582-a021-b459a9aac383"
      },
      "outputs": [
        {
          "output_type": "execute_result",
          "data": {
            "text/plain": [
              "      Pos  TRB   PTS\n",
              "0    PF-C  487   565\n",
              "1       C  737  1367\n",
              "2      SG  216   455\n",
              "3      PF  352   654\n",
              "4      SG  167   655\n",
              "..    ...  ...   ...\n",
              "567    PF  103   137\n",
              "568    PG  149  1389\n",
              "569     C  208   222\n",
              "570     C  112    76\n",
              "571     C  626   794\n",
              "\n",
              "[413 rows x 3 columns]"
            ],
            "text/html": [
              "\n",
              "  <div id=\"df-189cd98d-d337-4d41-b986-ddb510aabbed\" class=\"colab-df-container\">\n",
              "    <div>\n",
              "<style scoped>\n",
              "    .dataframe tbody tr th:only-of-type {\n",
              "        vertical-align: middle;\n",
              "    }\n",
              "\n",
              "    .dataframe tbody tr th {\n",
              "        vertical-align: top;\n",
              "    }\n",
              "\n",
              "    .dataframe thead th {\n",
              "        text-align: right;\n",
              "    }\n",
              "</style>\n",
              "<table border=\"1\" class=\"dataframe\">\n",
              "  <thead>\n",
              "    <tr style=\"text-align: right;\">\n",
              "      <th></th>\n",
              "      <th>Pos</th>\n",
              "      <th>TRB</th>\n",
              "      <th>PTS</th>\n",
              "    </tr>\n",
              "  </thead>\n",
              "  <tbody>\n",
              "    <tr>\n",
              "      <th>0</th>\n",
              "      <td>PF-C</td>\n",
              "      <td>487</td>\n",
              "      <td>565</td>\n",
              "    </tr>\n",
              "    <tr>\n",
              "      <th>1</th>\n",
              "      <td>C</td>\n",
              "      <td>737</td>\n",
              "      <td>1367</td>\n",
              "    </tr>\n",
              "    <tr>\n",
              "      <th>2</th>\n",
              "      <td>SG</td>\n",
              "      <td>216</td>\n",
              "      <td>455</td>\n",
              "    </tr>\n",
              "    <tr>\n",
              "      <th>3</th>\n",
              "      <td>PF</td>\n",
              "      <td>352</td>\n",
              "      <td>654</td>\n",
              "    </tr>\n",
              "    <tr>\n",
              "      <th>4</th>\n",
              "      <td>SG</td>\n",
              "      <td>167</td>\n",
              "      <td>655</td>\n",
              "    </tr>\n",
              "    <tr>\n",
              "      <th>...</th>\n",
              "      <td>...</td>\n",
              "      <td>...</td>\n",
              "      <td>...</td>\n",
              "    </tr>\n",
              "    <tr>\n",
              "      <th>567</th>\n",
              "      <td>PF</td>\n",
              "      <td>103</td>\n",
              "      <td>137</td>\n",
              "    </tr>\n",
              "    <tr>\n",
              "      <th>568</th>\n",
              "      <td>PG</td>\n",
              "      <td>149</td>\n",
              "      <td>1389</td>\n",
              "    </tr>\n",
              "    <tr>\n",
              "      <th>569</th>\n",
              "      <td>C</td>\n",
              "      <td>208</td>\n",
              "      <td>222</td>\n",
              "    </tr>\n",
              "    <tr>\n",
              "      <th>570</th>\n",
              "      <td>C</td>\n",
              "      <td>112</td>\n",
              "      <td>76</td>\n",
              "    </tr>\n",
              "    <tr>\n",
              "      <th>571</th>\n",
              "      <td>C</td>\n",
              "      <td>626</td>\n",
              "      <td>794</td>\n",
              "    </tr>\n",
              "  </tbody>\n",
              "</table>\n",
              "<p>413 rows × 3 columns</p>\n",
              "</div>\n",
              "    <div class=\"colab-df-buttons\">\n",
              "\n",
              "  <div class=\"colab-df-container\">\n",
              "    <button class=\"colab-df-convert\" onclick=\"convertToInteractive('df-189cd98d-d337-4d41-b986-ddb510aabbed')\"\n",
              "            title=\"Convert this dataframe to an interactive table.\"\n",
              "            style=\"display:none;\">\n",
              "\n",
              "  <svg xmlns=\"http://www.w3.org/2000/svg\" height=\"24px\" viewBox=\"0 -960 960 960\">\n",
              "    <path d=\"M120-120v-720h720v720H120Zm60-500h600v-160H180v160Zm220 220h160v-160H400v160Zm0 220h160v-160H400v160ZM180-400h160v-160H180v160Zm440 0h160v-160H620v160ZM180-180h160v-160H180v160Zm440 0h160v-160H620v160Z\"/>\n",
              "  </svg>\n",
              "    </button>\n",
              "\n",
              "  <style>\n",
              "    .colab-df-container {\n",
              "      display:flex;\n",
              "      gap: 12px;\n",
              "    }\n",
              "\n",
              "    .colab-df-convert {\n",
              "      background-color: #E8F0FE;\n",
              "      border: none;\n",
              "      border-radius: 50%;\n",
              "      cursor: pointer;\n",
              "      display: none;\n",
              "      fill: #1967D2;\n",
              "      height: 32px;\n",
              "      padding: 0 0 0 0;\n",
              "      width: 32px;\n",
              "    }\n",
              "\n",
              "    .colab-df-convert:hover {\n",
              "      background-color: #E2EBFA;\n",
              "      box-shadow: 0px 1px 2px rgba(60, 64, 67, 0.3), 0px 1px 3px 1px rgba(60, 64, 67, 0.15);\n",
              "      fill: #174EA6;\n",
              "    }\n",
              "\n",
              "    .colab-df-buttons div {\n",
              "      margin-bottom: 4px;\n",
              "    }\n",
              "\n",
              "    [theme=dark] .colab-df-convert {\n",
              "      background-color: #3B4455;\n",
              "      fill: #D2E3FC;\n",
              "    }\n",
              "\n",
              "    [theme=dark] .colab-df-convert:hover {\n",
              "      background-color: #434B5C;\n",
              "      box-shadow: 0px 1px 3px 1px rgba(0, 0, 0, 0.15);\n",
              "      filter: drop-shadow(0px 1px 2px rgba(0, 0, 0, 0.3));\n",
              "      fill: #FFFFFF;\n",
              "    }\n",
              "  </style>\n",
              "\n",
              "    <script>\n",
              "      const buttonEl =\n",
              "        document.querySelector('#df-189cd98d-d337-4d41-b986-ddb510aabbed button.colab-df-convert');\n",
              "      buttonEl.style.display =\n",
              "        google.colab.kernel.accessAllowed ? 'block' : 'none';\n",
              "\n",
              "      async function convertToInteractive(key) {\n",
              "        const element = document.querySelector('#df-189cd98d-d337-4d41-b986-ddb510aabbed');\n",
              "        const dataTable =\n",
              "          await google.colab.kernel.invokeFunction('convertToInteractive',\n",
              "                                                    [key], {});\n",
              "        if (!dataTable) return;\n",
              "\n",
              "        const docLinkHtml = 'Like what you see? Visit the ' +\n",
              "          '<a target=\"_blank\" href=https://colab.research.google.com/notebooks/data_table.ipynb>data table notebook</a>'\n",
              "          + ' to learn more about interactive tables.';\n",
              "        element.innerHTML = '';\n",
              "        dataTable['output_type'] = 'display_data';\n",
              "        await google.colab.output.renderOutput(dataTable, element);\n",
              "        const docLink = document.createElement('div');\n",
              "        docLink.innerHTML = docLinkHtml;\n",
              "        element.appendChild(docLink);\n",
              "      }\n",
              "    </script>\n",
              "  </div>\n",
              "\n",
              "\n",
              "<div id=\"df-0216cbf6-9c04-48fa-91eb-d3306a5b9e2c\">\n",
              "  <button class=\"colab-df-quickchart\" onclick=\"quickchart('df-0216cbf6-9c04-48fa-91eb-d3306a5b9e2c')\"\n",
              "            title=\"Suggest charts\"\n",
              "            style=\"display:none;\">\n",
              "\n",
              "<svg xmlns=\"http://www.w3.org/2000/svg\" height=\"24px\"viewBox=\"0 0 24 24\"\n",
              "     width=\"24px\">\n",
              "    <g>\n",
              "        <path d=\"M19 3H5c-1.1 0-2 .9-2 2v14c0 1.1.9 2 2 2h14c1.1 0 2-.9 2-2V5c0-1.1-.9-2-2-2zM9 17H7v-7h2v7zm4 0h-2V7h2v10zm4 0h-2v-4h2v4z\"/>\n",
              "    </g>\n",
              "</svg>\n",
              "  </button>\n",
              "\n",
              "<style>\n",
              "  .colab-df-quickchart {\n",
              "      --bg-color: #E8F0FE;\n",
              "      --fill-color: #1967D2;\n",
              "      --hover-bg-color: #E2EBFA;\n",
              "      --hover-fill-color: #174EA6;\n",
              "      --disabled-fill-color: #AAA;\n",
              "      --disabled-bg-color: #DDD;\n",
              "  }\n",
              "\n",
              "  [theme=dark] .colab-df-quickchart {\n",
              "      --bg-color: #3B4455;\n",
              "      --fill-color: #D2E3FC;\n",
              "      --hover-bg-color: #434B5C;\n",
              "      --hover-fill-color: #FFFFFF;\n",
              "      --disabled-bg-color: #3B4455;\n",
              "      --disabled-fill-color: #666;\n",
              "  }\n",
              "\n",
              "  .colab-df-quickchart {\n",
              "    background-color: var(--bg-color);\n",
              "    border: none;\n",
              "    border-radius: 50%;\n",
              "    cursor: pointer;\n",
              "    display: none;\n",
              "    fill: var(--fill-color);\n",
              "    height: 32px;\n",
              "    padding: 0;\n",
              "    width: 32px;\n",
              "  }\n",
              "\n",
              "  .colab-df-quickchart:hover {\n",
              "    background-color: var(--hover-bg-color);\n",
              "    box-shadow: 0 1px 2px rgba(60, 64, 67, 0.3), 0 1px 3px 1px rgba(60, 64, 67, 0.15);\n",
              "    fill: var(--button-hover-fill-color);\n",
              "  }\n",
              "\n",
              "  .colab-df-quickchart-complete:disabled,\n",
              "  .colab-df-quickchart-complete:disabled:hover {\n",
              "    background-color: var(--disabled-bg-color);\n",
              "    fill: var(--disabled-fill-color);\n",
              "    box-shadow: none;\n",
              "  }\n",
              "\n",
              "  .colab-df-spinner {\n",
              "    border: 2px solid var(--fill-color);\n",
              "    border-color: transparent;\n",
              "    border-bottom-color: var(--fill-color);\n",
              "    animation:\n",
              "      spin 1s steps(1) infinite;\n",
              "  }\n",
              "\n",
              "  @keyframes spin {\n",
              "    0% {\n",
              "      border-color: transparent;\n",
              "      border-bottom-color: var(--fill-color);\n",
              "      border-left-color: var(--fill-color);\n",
              "    }\n",
              "    20% {\n",
              "      border-color: transparent;\n",
              "      border-left-color: var(--fill-color);\n",
              "      border-top-color: var(--fill-color);\n",
              "    }\n",
              "    30% {\n",
              "      border-color: transparent;\n",
              "      border-left-color: var(--fill-color);\n",
              "      border-top-color: var(--fill-color);\n",
              "      border-right-color: var(--fill-color);\n",
              "    }\n",
              "    40% {\n",
              "      border-color: transparent;\n",
              "      border-right-color: var(--fill-color);\n",
              "      border-top-color: var(--fill-color);\n",
              "    }\n",
              "    60% {\n",
              "      border-color: transparent;\n",
              "      border-right-color: var(--fill-color);\n",
              "    }\n",
              "    80% {\n",
              "      border-color: transparent;\n",
              "      border-right-color: var(--fill-color);\n",
              "      border-bottom-color: var(--fill-color);\n",
              "    }\n",
              "    90% {\n",
              "      border-color: transparent;\n",
              "      border-bottom-color: var(--fill-color);\n",
              "    }\n",
              "  }\n",
              "</style>\n",
              "\n",
              "  <script>\n",
              "    async function quickchart(key) {\n",
              "      const quickchartButtonEl =\n",
              "        document.querySelector('#' + key + ' button');\n",
              "      quickchartButtonEl.disabled = true;  // To prevent multiple clicks.\n",
              "      quickchartButtonEl.classList.add('colab-df-spinner');\n",
              "      try {\n",
              "        const charts = await google.colab.kernel.invokeFunction(\n",
              "            'suggestCharts', [key], {});\n",
              "      } catch (error) {\n",
              "        console.error('Error during call to suggestCharts:', error);\n",
              "      }\n",
              "      quickchartButtonEl.classList.remove('colab-df-spinner');\n",
              "      quickchartButtonEl.classList.add('colab-df-quickchart-complete');\n",
              "    }\n",
              "    (() => {\n",
              "      let quickchartButtonEl =\n",
              "        document.querySelector('#df-0216cbf6-9c04-48fa-91eb-d3306a5b9e2c button');\n",
              "      quickchartButtonEl.style.display =\n",
              "        google.colab.kernel.accessAllowed ? 'block' : 'none';\n",
              "    })();\n",
              "  </script>\n",
              "</div>\n",
              "    </div>\n",
              "  </div>\n"
            ],
            "application/vnd.google.colaboratory.intrinsic+json": {
              "type": "dataframe",
              "summary": "{\n  \"name\": \"basketball[['Pos','TRB','PTS']]\",\n  \"rows\": 413,\n  \"fields\": [\n    {\n      \"column\": \"Pos\",\n      \"properties\": {\n        \"dtype\": \"category\",\n        \"num_unique_values\": 12,\n        \"samples\": [\n          \"SF-SG\",\n          \"PF-SF\",\n          \"PF-C\"\n        ],\n        \"semantic_type\": \"\",\n        \"description\": \"\"\n      }\n    },\n    {\n      \"column\": \"TRB\",\n      \"properties\": {\n        \"dtype\": \"number\",\n        \"std\": 179,\n        \"min\": 35,\n        \"max\": 1120,\n        \"num_unique_values\": 278,\n        \"samples\": [\n          239,\n          91,\n          65\n        ],\n        \"semantic_type\": \"\",\n        \"description\": \"\"\n      }\n    },\n    {\n      \"column\": \"PTS\",\n      \"properties\": {\n        \"dtype\": \"number\",\n        \"std\": 497,\n        \"min\": 33,\n        \"max\": 2370,\n        \"num_unique_values\": 352,\n        \"samples\": [\n          1110,\n          2254,\n          96\n        ],\n        \"semantic_type\": \"\",\n        \"description\": \"\"\n      }\n    }\n  ]\n}"
            }
          },
          "metadata": {},
          "execution_count": 6
        }
      ],
      "source": [
        "#Choosing which columns to show\n",
        "basketball[['Pos','TRB','PTS']]"
      ]
    },
    {
      "cell_type": "markdown",
      "metadata": {
        "id": "JzWZazsQEJMG"
      },
      "source": [
        "# Finding Prior and Likelihood"
      ]
    },
    {
      "cell_type": "markdown",
      "metadata": {
        "id": "K9Mf4yx9lHZ1"
      },
      "source": [
        "Now ... time to find the likelihood"
      ]
    },
    {
      "cell_type": "markdown",
      "metadata": {
        "id": "OPj_tu9bNKSI"
      },
      "source": [
        "*This is a personal note*\n",
        "\n",
        "*   *Likelihood is not the same as prior*\n",
        "  * *Prior are predictions*\n",
        "  * *Likelihood uses priors and data*\n",
        "*   *Likelihood is the main distribution*\n",
        "\n"
      ]
    },
    {
      "cell_type": "code",
      "execution_count": 7,
      "metadata": {
        "colab": {
          "base_uri": "https://localhost:8080/",
          "height": 428
        },
        "id": "ysoZigeTULK_",
        "outputId": "207c68ea-4774-48cd-d2f1-6a55c2f5a4e2"
      },
      "outputs": [
        {
          "output_type": "execute_result",
          "data": {
            "text/plain": [
              "<Axes: ylabel='Pos'>"
            ]
          },
          "metadata": {},
          "execution_count": 7
        },
        {
          "output_type": "display_data",
          "data": {
            "text/plain": [
              "<Figure size 640x480 with 1 Axes>"
            ],
            "image/png": "[encoded data removed]"
          },
          "metadata": {}
        }
      ],
      "source": [
        "#PTS Violin plot\n",
        "sns.violinplot(basketball.Pos,inner='quart')"
      ]
    },
    {
      "cell_type": "code",
      "execution_count": 8,
      "metadata": {
        "colab": {
          "base_uri": "https://localhost:8080/",
          "height": 482
        },
        "id": "YD477X1KSEZ0",
        "outputId": "cc57ceef-f165-463e-ecae-cc3e2ee5a82d"
      },
      "outputs": [
        {
          "output_type": "execute_result",
          "data": {
            "text/plain": [
              "(array([76., 84., 80., 75., 86.,  2.,  4.,  3.,  1.,  2.]),\n",
              " array([ 0. ,  1.1,  2.2,  3.3,  4.4,  5.5,  6.6,  7.7,  8.8,  9.9, 11. ]),\n",
              " <BarContainer object of 10 artists>)"
            ]
          },
          "metadata": {},
          "execution_count": 8
        },
        {
          "output_type": "display_data",
          "data": {
            "text/plain": [
              "<Figure size 640x480 with 1 Axes>"
            ],
            "image/png": "[encoded data removed]"
          },
          "metadata": {}
        }
      ],
      "source": [
        "#PTS histogram plot\n",
        "plt.hist(basketball.Pos)"
      ]
    },
    {
      "cell_type": "code",
      "execution_count": 9,
      "metadata": {
        "colab": {
          "base_uri": "https://localhost:8080/",
          "height": 428
        },
        "id": "-qBrP-T_UeJF",
        "outputId": "28c1c543-d0b4-4022-9ec2-858f1b5be893"
      },
      "outputs": [
        {
          "output_type": "execute_result",
          "data": {
            "text/plain": [
              "<Axes: ylabel='TRB'>"
            ]
          },
          "metadata": {},
          "execution_count": 9
        },
        {
          "output_type": "display_data",
          "data": {
            "text/plain": [
              "<Figure size 640x480 with 1 Axes>"
            ],
            "image/png": "[encoded data removed]"
          },
          "metadata": {}
        }
      ],
      "source": [
        "#TRB violin plot\n",
        "sns.violinplot(basketball.TRB,inner='quart')"
      ]
    },
    {
      "cell_type": "code",
      "execution_count": 10,
      "metadata": {
        "colab": {
          "base_uri": "https://localhost:8080/",
          "height": 499
        },
        "id": "y9uJaKKAS-GY",
        "outputId": "711d94c2-762e-4faf-934b-d4ec9aa0f2ba"
      },
      "outputs": [
        {
          "output_type": "execute_result",
          "data": {
            "text/plain": [
              "(array([132., 114.,  81.,  40.,  21.,  10.,   7.,   4.,   3.,   1.]),\n",
              " array([  35. ,  143.5,  252. ,  360.5,  469. ,  577.5,  686. ,  794.5,\n",
              "         903. , 1011.5, 1120. ]),\n",
              " <BarContainer object of 10 artists>)"
            ]
          },
          "metadata": {},
          "execution_count": 10
        },
        {
          "output_type": "display_data",
          "data": {
            "text/plain": [
              "<Figure size 640x480 with 1 Axes>"
            ],
            "image/png": "[encoded data removed]"
          },
          "metadata": {}
        }
      ],
      "source": [
        "#TRB Histogram plot\n",
        "plt.hist(basketball.TRB)"
      ]
    },
    {
      "cell_type": "markdown",
      "metadata": {
        "id": "IbzPogaMPwT-"
      },
      "source": [
        "Finished plotting"
      ]
    },
    {
      "cell_type": "markdown",
      "metadata": {
        "id": "DY7ELYe5QOsf"
      },
      "source": [
        "I didn't know how to interpret the violin plot for a distribution. Soooo.... I searched interned and found this [website](https://www.atlassian.com/data/charts/violin-plot-complete-guide)....\n",
        "\n",
        "I learned that violin plots were similar to histograms and are used for similar purposes. So I used the histogram to compare and understand how to read the violin plot.\n",
        "\n"
      ]
    },
    {
      "cell_type": "markdown",
      "metadata": {
        "id": "nNcPl-pYig9f"
      },
      "source": [
        "The TRB violin plot shows the density towards the bottom. So to view the shape of the data better, the histogram is there to help me vizualize the shape. The histogram shows that it is a positive skew.\n",
        "\n",
        "The Pos violin plot looks weird and the Pos histogram looks that there is more data in some positions than others."
      ]
    },
    {
      "cell_type": "markdown",
      "metadata": {
        "id": "ktjnCUQRurlx"
      },
      "source": [
        "*Note to self*\n",
        "*   *A left skew = negative skew = __/\\*\n",
        "*  *A right skew = positive skew = /\\\\__*"
      ]
    },
    {
      "cell_type": "markdown",
      "metadata": {
        "id": "n5asihpbig6e"
      },
      "source": [
        "Likelihood would be Gamma distribution and Normal distribution (based on Mr. Arredondo's recommendation). I will try both models.\n"
      ]
    },
    {
      "cell_type": "markdown",
      "metadata": {
        "id": "hCDag48S5McX"
      },
      "source": [
        "Im going to start with the gamma distribution since we are trying to see if it works."
      ]
    },
    {
      "cell_type": "markdown",
      "metadata": {
        "id": "kMHKTku5-vZa"
      },
      "source": [
        "Time to chooose sub priors based on the violin plot\n",
        "* On TRB data -------------> gamma distribution and lognormal distribution\n",
        "\n",
        "\n",
        "*These are the priors for the prior*"
      ]
    },
    {
      "cell_type": "code",
      "execution_count": 11,
      "metadata": {
        "id": "Zs4ZNhF_1XTf"
      },
      "outputs": [],
      "source": [
        "import preliz as pz"
      ]
    },
    {
      "cell_type": "markdown",
      "metadata": {
        "id": "dZFh1OZtQj43"
      },
      "source": [
        "*Personal Use*\n",
        "\n",
        "*These priors are here to help me where I get the numbers*"
      ]
    },
    {
      "cell_type": "code",
      "execution_count": 12,
      "metadata": {
        "colab": {
          "base_uri": "https://localhost:8080/",
          "height": 447
        },
        "id": "qojHyJW21mSO",
        "outputId": "d2f33c2c-91bc-4cf2-fbed-e03203823a7b"
      },
      "outputs": [
        {
          "output_type": "execute_result",
          "data": {
            "text/plain": [
              "<Axes: >"
            ]
          },
          "metadata": {},
          "execution_count": 12
        },
        {
          "output_type": "display_data",
          "data": {
            "text/plain": [
              "<Figure size 640x480 with 1 Axes>"
            ],
            "image/png": "[encoded data removed]"
          },
          "metadata": {}
        }
      ],
      "source": [
        "#Gamma dist for TRB\n",
        "pz.Gamma(alpha=2, beta=5).plot_pdf()"
      ]
    },
    {
      "cell_type": "code",
      "execution_count": 13,
      "metadata": {
        "colab": {
          "base_uri": "https://localhost:8080/",
          "height": 447
        },
        "id": "Jma7qJp94SjE",
        "outputId": "79f48bc9-dd5b-48db-ebb4-2c07944d9770"
      },
      "outputs": [
        {
          "output_type": "execute_result",
          "data": {
            "text/plain": [
              "<Axes: >"
            ]
          },
          "metadata": {},
          "execution_count": 13
        },
        {
          "output_type": "display_data",
          "data": {
            "text/plain": [
              "<Figure size 640x480 with 1 Axes>"
            ],
            "image/png": "[encoded data removed]"
          },
          "metadata": {}
        }
      ],
      "source": [
        "#LogNormal dist for PTS\n",
        "pz.LogNormal(mu = 5, sigma=.5).plot_pdf()"
      ]
    },
    {
      "cell_type": "markdown",
      "metadata": {
        "id": "uwXENmjX1WNY"
      },
      "source": [
        "Here are the priors:\n",
        "\n",
        "---> Lognormal distribution and gamma distribution"
      ]
    },
    {
      "cell_type": "code",
      "execution_count": 14,
      "metadata": {
        "colab": {
          "base_uri": "https://localhost:8080/",
          "height": 447
        },
        "id": "mv7brDiq82eq",
        "outputId": "704655af-d92b-4b4e-e443-b115934fa42f"
      },
      "outputs": [
        {
          "output_type": "execute_result",
          "data": {
            "text/plain": [
              "<Axes: >"
            ]
          },
          "metadata": {},
          "execution_count": 14
        },
        {
          "output_type": "display_data",
          "data": {
            "text/plain": [
              "<Figure size 640x480 with 1 Axes>"
            ],
            "image/png": "[encoded data removed]"
          },
          "metadata": {}
        }
      ],
      "source": [
        "#To vizualize log normal prior\n",
        "pz.LogNormal(mu=2, sigma=.5).plot_pdf()"
      ]
    },
    {
      "cell_type": "markdown",
      "metadata": {
        "id": "m8zgT2l3EVZZ"
      },
      "source": [
        "# Running the model"
      ]
    },
    {
      "cell_type": "markdown",
      "source": [
        "## Categorizing positions"
      ],
      "metadata": {
        "id": "8k9WxaGJybIF"
      }
    },
    {
      "cell_type": "markdown",
      "metadata": {
        "id": "QP6ore7E8a-Y"
      },
      "source": [
        "Now ... Categorizing and making pymc's life easier"
      ]
    },
    {
      "cell_type": "code",
      "execution_count": 15,
      "metadata": {
        "colab": {
          "base_uri": "https://localhost:8080/"
        },
        "id": "-SdhfE_VZ8xP",
        "outputId": "50234eb3-c576-47b2-8b52-6531c3d511f4"
      },
      "outputs": [
        {
          "output_type": "execute_result",
          "data": {
            "text/plain": [
              "['PF-C', 'C', 'SG', 'PF', 'SG', ..., 'PF', 'PG', 'C', 'C', 'C']\n",
              "Length: 413\n",
              "Categories (12, object): ['C', 'C-PF', 'PF', 'PF-C', ..., 'SF-PF', 'SF-SG', 'SG', 'SG-PG']"
            ]
          },
          "metadata": {},
          "execution_count": 15
        }
      ],
      "source": [
        "pos_encode = pd.Categorical(basketball['Pos'])\n",
        "pos_encode"
      ]
    },
    {
      "cell_type": "code",
      "execution_count": 16,
      "metadata": {
        "colab": {
          "base_uri": "https://localhost:8080/"
        },
        "id": "Hd05smu-f-W3",
        "outputId": "9739b87b-d2e6-47d8-d9f2-d4753e79f5e7"
      },
      "outputs": [
        {
          "output_type": "execute_result",
          "data": {
            "text/plain": [
              "array([ 3,  0, 10,  2, 10, 10,  0,  5,  2,  2,  5,  7,  7,  0,  0,  7,  5,\n",
              "        0,  2, 10,  5,  2,  2, 10, 10,  7,  2, 10, 10,  7,  2,  5,  7,  0,\n",
              "        0,  5, 10,  8,  2,  5,  7,  2,  5, 10,  7,  7,  7,  5,  7,  6,  7,\n",
              "        2,  7,  5,  0,  7, 10, 10,  2, 10,  2,  0,  5,  0, 10,  7, 10, 10,\n",
              "        0,  2,  7,  2,  0,  5,  7,  7,  8,  7,  2,  5, 10,  5,  5,  0, 10,\n",
              "        7, 10,  2,  5, 10,  5,  7, 10,  0,  7,  5,  2,  0,  2, 10, 10,  0,\n",
              "        0,  7,  5,  0,  2,  5,  7, 10, 10,  5,  5,  5,  1,  4,  5,  5,  2,\n",
              "       10,  5,  2,  5,  0,  5,  2, 10,  5,  2, 10,  2, 10,  2, 10, 10,  2,\n",
              "        5,  5,  7,  5, 10, 10,  2,  7,  0,  7, 10,  0,  5,  7,  5,  2, 10,\n",
              "        9,  2,  5,  5, 10,  1,  0,  0,  5,  7,  7, 10,  7,  5,  7,  7, 10,\n",
              "        2, 10, 10,  2,  0,  0,  5,  2,  2,  7,  0, 10,  2,  7,  7,  0,  7,\n",
              "        7,  5,  5,  0,  2, 10, 10,  0,  7,  0,  7,  7,  0,  5,  2,  2,  0,\n",
              "        2, 10, 10,  0,  7, 10,  5,  7,  0,  2,  0,  0,  2,  5,  2,  0, 10,\n",
              "        5,  2,  7,  7,  7,  7, 10,  7, 10,  5,  6,  5,  5,  5,  7,  7,  7,\n",
              "        0, 10,  5, 10,  0, 10,  0,  5,  7,  7,  5, 10,  7,  5, 10,  2, 10,\n",
              "       10,  5,  2,  5,  7, 10,  5,  7,  7,  0,  7,  0,  5,  7,  2,  2,  0,\n",
              "        7,  7,  7, 10,  0,  7,  0,  7,  7,  7,  5,  5, 10,  7,  5,  0, 10,\n",
              "        0,  2, 10,  5,  2,  7,  2,  0,  0, 10,  2,  5,  2,  0,  6, 10,  2,\n",
              "        0, 10,  7,  0,  0,  0, 10,  7,  0,  0,  2,  2,  5,  6, 10,  5,  7,\n",
              "        0,  2,  0,  5,  5,  0,  7, 10, 10,  0, 10, 10,  2,  5, 10,  0,  5,\n",
              "        5,  5,  2,  0, 10,  2, 11,  2,  2,  7,  7, 10,  7,  2, 10,  0, 10,\n",
              "        7,  7,  7,  0,  2,  7,  1,  2,  2, 10,  2,  0, 10,  0,  2,  5, 10,\n",
              "        2,  0,  2,  7,  0,  7,  2, 10, 10,  2,  7,  2,  7,  0, 10,  5,  5,\n",
              "       10,  7, 10,  7,  2,  2,  0,  2,  0,  2, 10,  7,  2,  2,  0,  2,  5,\n",
              "        2,  5,  0,  0,  0], dtype=int8)"
            ]
          },
          "metadata": {},
          "execution_count": 16
        }
      ],
      "source": [
        "pos_idx = pos_encode.codes\n",
        "pos_idx"
      ]
    },
    {
      "cell_type": "code",
      "execution_count": 17,
      "metadata": {
        "colab": {
          "base_uri": "https://localhost:8080/"
        },
        "id": "FOw4C_KRgGOa",
        "outputId": "882e9483-73cf-4aa2-ea23-ea13240063da"
      },
      "outputs": [
        {
          "output_type": "execute_result",
          "data": {
            "text/plain": [
              "{'Pos': Index(['C', 'C-PF', 'PF', 'PF-C', 'PF-SF', 'PG', 'PG-SG', 'SF', 'SF-PF',\n",
              "        'SF-SG', 'SG', 'SG-PG'],\n",
              "       dtype='object')}"
            ]
          },
          "metadata": {},
          "execution_count": 17
        }
      ],
      "source": [
        "pos_coords = {'Pos': pos_encode.categories}\n",
        "pos_coords"
      ]
    },
    {
      "cell_type": "markdown",
      "source": [
        "## Model with Gamma likelihood"
      ],
      "metadata": {
        "id": "qsNzhEecyojn"
      }
    },
    {
      "cell_type": "markdown",
      "metadata": {
        "id": "A8nSRO7KBxE7"
      },
      "source": [
        "Here comes pymc in the picture (sigh). :("
      ]
    },
    {
      "cell_type": "code",
      "execution_count": 18,
      "metadata": {
        "colab": {
          "base_uri": "https://localhost:8080/",
          "height": 74,
          "referenced_widgets": [
            "e24a909d208a438590116467eacaef81",
            "107e25c61c034ec9b481ac67aa640751",
            "c183d51b141c417881a791aff4b51c3d",
            "cbf82531b80b4314be7af625e81a16d7"
          ]
        },
        "id": "oQU_2UmhCJ02",
        "outputId": "a6c45d63-3008-4369-8b4b-fb47eb39ebae"
      },
      "outputs": [
        {
          "output_type": "display_data",
          "data": {
            "text/plain": [
              "Output()"
            ],
            "application/vnd.jupyter.widget-view+json": {
              "version_major": 2,
              "version_minor": 0,
              "model_id": "e24a909d208a438590116467eacaef81"
            }
          },
          "metadata": {}
        },
        {
          "output_type": "display_data",
          "data": {
            "text/plain": [],
            "text/html": [
              "<pre style=\"white-space:pre;overflow-x:auto;line-height:normal;font-family:Menlo,'DejaVu Sans Mono',consolas,'Courier New',monospace\"></pre>\n"
            ]
          },
          "metadata": {}
        },
        {
          "output_type": "display_data",
          "data": {
            "text/plain": [
              "Output()"
            ],
            "application/vnd.jupyter.widget-view+json": {
              "version_major": 2,
              "version_minor": 0,
              "model_id": "c183d51b141c417881a791aff4b51c3d"
            }
          },
          "metadata": {}
        },
        {
          "output_type": "display_data",
          "data": {
            "text/plain": [],
            "text/html": [
              "<pre style=\"white-space:pre;overflow-x:auto;line-height:normal;font-family:Menlo,'DejaVu Sans Mono',consolas,'Courier New',monospace\"></pre>\n"
            ]
          },
          "metadata": {}
        },
        {
          "output_type": "stream",
          "name": "stderr",
          "text": [
            "ERROR:pymc.stats.convergence:There were 1 divergences after tuning. Increase `target_accept` or reparameterize.\n"
          ]
        }
      ],
      "source": [
        "#This is model with the gamma likelihood\n",
        "with pm.Model(coords=pos_coords) as basketball_model:\n",
        "    #hyperpriors. Notice how there's no dims argument\n",
        "    #this means that the hyperprior is shared across\n",
        "    #μ_mu and μ_sd builds the μ prior.\n",
        "    μ_mu = pm.LogNormal('μ_mu', mu = 5, sigma = .5)\n",
        "    μ_sd = pm.Gamma('μ_sd', mu = 2, sigma=5)\n",
        "\n",
        "    #priors. There is a different prior,\n",
        "    #μ has hyperpriors\n",
        "    μ = pm.Gamma('μ',\n",
        "                  mu = μ_mu,\n",
        "                  sigma = μ_sd,\n",
        "                  dims = \"Pos\")\n",
        "\n",
        "    σ = pm.LogNormal('σ', mu=2,sigma=.5,\n",
        "                      dims = \"Pos\")\n",
        "\n",
        "\n",
        "    #likelihood\n",
        "    y = pm.Gamma('y',\n",
        "                  mu = μ[pos_idx],\n",
        "                  sigma = σ[pos_idx],\n",
        "                  observed = basketball.TRB)\n",
        "\n",
        "    #cs for chemshift, h for heirarchical\n",
        "    idata_bsktballG = pm.sample(target_accept=0.98)"
      ]
    },
    {
      "cell_type": "markdown",
      "metadata": {
        "id": "aX5G6-cJO5Wk"
      },
      "source": [
        "After a long while, pymc managed to compute the model. The model shows the priors build on each other to compute the likelihood.\n",
        "\n"
      ]
    },
    {
      "cell_type": "code",
      "execution_count": 19,
      "metadata": {
        "colab": {
          "base_uri": "https://localhost:8080/",
          "height": 495
        },
        "id": "bHe2YMwkOrDU",
        "outputId": "b792e48f-a354-4074-ef04-7cc2b26e6995"
      },
      "outputs": [
        {
          "output_type": "execute_result",
          "data": {
            "image/svg+xml": "<?xml version=\"1.0\" encoding=\"UTF-8\" standalone=\"no\"?>\n<!DOCTYPE svg PUBLIC \"-//W3C//DTD SVG 1.1//EN\"\n \"http://www.w3.org/Graphics/SVG/1.1/DTD/svg11.dtd\">\n<!-- Generated by graphviz version 2.43.0 (0)\n -->\n<!-- Title: %3 Pages: 1 -->\n<svg width=\"301pt\" height=\"355pt\"\n viewBox=\"0.00 0.00 301.13 354.86\" xmlns=\"http://www.w3.org/2000/svg\" xmlns:xlink=\"http://www.w3.org/1999/xlink\">\n<g id=\"graph0\" class=\"graph\" transform=\"scale(1 1) rotate(0) translate(4 350.86)\">\n<title>%3</title>\n<polygon fill=\"white\" stroke=\"transparent\" points=\"-4,4 -4,-350.86 297.13,-350.86 297.13,4 -4,4\"/>\n<g id=\"clust1\" class=\"cluster\">\n<title>clusterPos (12)</title>\n<path fill=\"none\" stroke=\"black\" d=\"M20,-129.95C20,-129.95 230,-129.95 230,-129.95 236,-129.95 242,-135.95 242,-141.95 242,-141.95 242,-231.91 242,-231.91 242,-237.91 236,-243.91 230,-243.91 230,-243.91 20,-243.91 20,-243.91 14,-243.91 8,-237.91 8,-231.91 8,-231.91 8,-141.95 8,-141.95 8,-135.95 14,-129.95 20,-129.95\"/>\n<text text-anchor=\"middle\" x=\"211\" y=\"-137.75\" font-family=\"Times,serif\" font-size=\"14.00\">Pos (12)</text>\n</g>\n<g id=\"clust2\" class=\"cluster\">\n<title>cluster413</title>\n<path fill=\"none\" stroke=\"black\" d=\"M93,-8C93,-8 171,-8 171,-8 177,-8 183,-14 183,-20 183,-20 183,-109.95 183,-109.95 183,-115.95 177,-121.95 171,-121.95 171,-121.95 93,-121.95 93,-121.95 87,-121.95 81,-115.95 81,-109.95 81,-109.95 81,-20 81,-20 81,-14 87,-8 93,-8\"/>\n<text text-anchor=\"middle\" x=\"164.5\" y=\"-15.8\" font-family=\"Times,serif\" font-size=\"14.00\">413</text>\n</g>\n<!-- μ_mu -->\n<g id=\"node1\" class=\"node\">\n<title>μ_mu</title>\n<ellipse fill=\"none\" stroke=\"black\" cx=\"132\" cy=\"-309.38\" rx=\"56.64\" ry=\"37.45\"/>\n<text text-anchor=\"middle\" x=\"132\" y=\"-320.68\" font-family=\"Times,serif\" font-size=\"14.00\">μ_mu</text>\n<text text-anchor=\"middle\" x=\"132\" y=\"-305.68\" font-family=\"Times,serif\" font-size=\"14.00\">~</text>\n<text text-anchor=\"middle\" x=\"132\" y=\"-290.68\" font-family=\"Times,serif\" font-size=\"14.00\">LogNormal</text>\n</g>\n<!-- μ -->\n<g id=\"node3\" class=\"node\">\n<title>μ</title>\n<ellipse fill=\"none\" stroke=\"black\" cx=\"191\" cy=\"-198.43\" rx=\"43.27\" ry=\"37.45\"/>\n<text text-anchor=\"middle\" x=\"191\" y=\"-209.73\" font-family=\"Times,serif\" font-size=\"14.00\">μ</text>\n<text text-anchor=\"middle\" x=\"191\" y=\"-194.73\" font-family=\"Times,serif\" font-size=\"14.00\">~</text>\n<text text-anchor=\"middle\" x=\"191\" y=\"-179.73\" font-family=\"Times,serif\" font-size=\"14.00\">Gamma</text>\n</g>\n<!-- μ_mu&#45;&gt;μ -->\n<g id=\"edge1\" class=\"edge\">\n<title>μ_mu&#45;&gt;μ</title>\n<path fill=\"none\" stroke=\"black\" d=\"M150.67,-273.91C156.26,-263.58 162.45,-252.15 168.28,-241.39\"/>\n<polygon fill=\"black\" stroke=\"black\" points=\"171.37,-243.02 173.06,-232.56 165.22,-239.69 171.37,-243.02\"/>\n</g>\n<!-- μ_sd -->\n<g id=\"node2\" class=\"node\">\n<title>μ_sd</title>\n<ellipse fill=\"none\" stroke=\"black\" cx=\"250\" cy=\"-309.38\" rx=\"43.27\" ry=\"37.45\"/>\n<text text-anchor=\"middle\" x=\"250\" y=\"-320.68\" font-family=\"Times,serif\" font-size=\"14.00\">μ_sd</text>\n<text text-anchor=\"middle\" x=\"250\" y=\"-305.68\" font-family=\"Times,serif\" font-size=\"14.00\">~</text>\n<text text-anchor=\"middle\" x=\"250\" y=\"-290.68\" font-family=\"Times,serif\" font-size=\"14.00\">Gamma</text>\n</g>\n<!-- μ_sd&#45;&gt;μ -->\n<g id=\"edge2\" class=\"edge\">\n<title>μ_sd&#45;&gt;μ</title>\n<path fill=\"none\" stroke=\"black\" d=\"M231.98,-275.1C226.31,-264.64 219.98,-252.94 214.01,-241.93\"/>\n<polygon fill=\"black\" stroke=\"black\" points=\"216.96,-240.01 209.12,-232.88 210.8,-243.34 216.96,-240.01\"/>\n</g>\n<!-- y -->\n<g id=\"node5\" class=\"node\">\n<title>y</title>\n<ellipse fill=\"lightgrey\" stroke=\"black\" cx=\"132\" cy=\"-76.48\" rx=\"43.27\" ry=\"37.45\"/>\n<text text-anchor=\"middle\" x=\"132\" y=\"-87.78\" font-family=\"Times,serif\" font-size=\"14.00\">y</text>\n<text text-anchor=\"middle\" x=\"132\" y=\"-72.78\" font-family=\"Times,serif\" font-size=\"14.00\">~</text>\n<text text-anchor=\"middle\" x=\"132\" y=\"-57.78\" font-family=\"Times,serif\" font-size=\"14.00\">Gamma</text>\n</g>\n<!-- μ&#45;&gt;y -->\n<g id=\"edge3\" class=\"edge\">\n<title>μ&#45;&gt;y</title>\n<path fill=\"none\" stroke=\"black\" d=\"M174.41,-163.7C167.81,-150.28 160.14,-134.68 153.15,-120.47\"/>\n<polygon fill=\"black\" stroke=\"black\" points=\"156.23,-118.8 148.67,-111.37 149.94,-121.89 156.23,-118.8\"/>\n</g>\n<!-- σ -->\n<g id=\"node4\" class=\"node\">\n<title>σ</title>\n<ellipse fill=\"none\" stroke=\"black\" cx=\"73\" cy=\"-198.43\" rx=\"56.64\" ry=\"37.45\"/>\n<text text-anchor=\"middle\" x=\"73\" y=\"-209.73\" font-family=\"Times,serif\" font-size=\"14.00\">σ</text>\n<text text-anchor=\"middle\" x=\"73\" y=\"-194.73\" font-family=\"Times,serif\" font-size=\"14.00\">~</text>\n<text text-anchor=\"middle\" x=\"73\" y=\"-179.73\" font-family=\"Times,serif\" font-size=\"14.00\">LogNormal</text>\n</g>\n<!-- σ&#45;&gt;y -->\n<g id=\"edge4\" class=\"edge\">\n<title>σ&#45;&gt;y</title>\n<path fill=\"none\" stroke=\"black\" d=\"M90.22,-162.41C96.69,-149.26 104.12,-134.17 110.89,-120.39\"/>\n<polygon fill=\"black\" stroke=\"black\" points=\"114.19,-121.61 115.47,-111.09 107.91,-118.52 114.19,-121.61\"/>\n</g>\n</g>\n</svg>\n",
            "text/plain": [
              "<graphviz.graphs.Digraph at 0x7e014f145270>"
            ]
          },
          "metadata": {},
          "execution_count": 19
        }
      ],
      "source": [
        "#Helps visualize the model\n",
        "pm.model_to_graphviz(basketball_model)"
      ]
    },
    {
      "cell_type": "code",
      "execution_count": 20,
      "metadata": {
        "colab": {
          "base_uri": "https://localhost:8080/",
          "height": 386
        },
        "id": "n50qHaGkT4ZY",
        "outputId": "f962fc09-7808-4b84-cd41-f0a6faad061a"
      },
      "outputs": [
        {
          "output_type": "execute_result",
          "data": {
            "text/plain": [
              "<xarray.Dataset> Size: 448B\n",
              "Dimensions:  (Pos: 12)\n",
              "Coordinates:\n",
              "  * Pos      (Pos) <U5 240B 'C' 'C-PF' 'PF' 'PF-C' ... 'SF-SG' 'SG' 'SG-PG'\n",
              "Data variables:\n",
              "    μ        (Pos) float64 96B 1.0 1.005 1.0 1.007 1.002 ... 1.002 1.003 1.0 1.0\n",
              "    μ_mu     float64 8B 1.0\n",
              "    μ_sd     float64 8B 1.003\n",
              "    σ        (Pos) float64 96B 0.9999 1.0 1.001 1.002 ... 1.003 1.001 1.001 1.0"
            ],
            "text/html": [
              "<div><svg style=\"position: absolute; width: 0; height: 0; overflow: hidden\">\n",
              "<defs>\n",
              "<symbol id=\"icon-database\" viewBox=\"0 0 32 32\">\n",
              "<path d=\"M16 0c-8.837 0-16 2.239-16 5v4c0 2.761 7.163 5 16 5s16-2.239 16-5v-4c0-2.761-7.163-5-16-5z\"></path>\n",
              "<path d=\"M16 17c-8.837 0-16-2.239-16-5v6c0 2.761 7.163 5 16 5s16-2.239 16-5v-6c0 2.761-7.163 5-16 5z\"></path>\n",
              "<path d=\"M16 26c-8.837 0-16-2.239-16-5v6c0 2.761 7.163 5 16 5s16-2.239 16-5v-6c0 2.761-7.163 5-16 5z\"></path>\n",
              "</symbol>\n",
              "<symbol id=\"icon-file-text2\" viewBox=\"0 0 32 32\">\n",
              "<path d=\"M28.681 7.159c-0.694-0.947-1.662-2.053-2.724-3.116s-2.169-2.030-3.116-2.724c-1.612-1.182-2.393-1.319-2.841-1.319h-15.5c-1.378 0-2.5 1.121-2.5 2.5v27c0 1.378 1.122 2.5 2.5 2.5h23c1.378 0 2.5-1.122 2.5-2.5v-19.5c0-0.448-0.137-1.23-1.319-2.841zM24.543 5.457c0.959 0.959 1.712 1.825 2.268 2.543h-4.811v-4.811c0.718 0.556 1.584 1.309 2.543 2.268zM28 29.5c0 0.271-0.229 0.5-0.5 0.5h-23c-0.271 0-0.5-0.229-0.5-0.5v-27c0-0.271 0.229-0.5 0.5-0.5 0 0 15.499-0 15.5 0v7c0 0.552 0.448 1 1 1h7v19.5z\"></path>\n",
              "<path d=\"M23 26h-14c-0.552 0-1-0.448-1-1s0.448-1 1-1h14c0.552 0 1 0.448 1 1s-0.448 1-1 1z\"></path>\n",
              "<path d=\"M23 22h-14c-0.552 0-1-0.448-1-1s0.448-1 1-1h14c0.552 0 1 0.448 1 1s-0.448 1-1 1z\"></path>\n",
              "<path d=\"M23 18h-14c-0.552 0-1-0.448-1-1s0.448-1 1-1h14c0.552 0 1 0.448 1 1s-0.448 1-1 1z\"></path>\n",
              "</symbol>\n",
              "</defs>\n",
              "</svg>\n",
              "<style>/* CSS stylesheet for displaying xarray objects in jupyterlab.\n",
              " *\n",
              " */\n",
              "\n",
              ":root {\n",
              "  --xr-font-color0: var(--jp-content-font-color0, rgba(0, 0, 0, 1));\n",
              "  --xr-font-color2: var(--jp-content-font-color2, rgba(0, 0, 0, 0.54));\n",
              "  --xr-font-color3: var(--jp-content-font-color3, rgba(0, 0, 0, 0.38));\n",
              "  --xr-border-color: var(--jp-border-color2, #e0e0e0);\n",
              "  --xr-disabled-color: var(--jp-layout-color3, #bdbdbd);\n",
              "  --xr-background-color: var(--jp-layout-color0, white);\n",
              "  --xr-background-color-row-even: var(--jp-layout-color1, white);\n",
              "  --xr-background-color-row-odd: var(--jp-layout-color2, #eeeeee);\n",
              "}\n",
              "\n",
              "html[theme=dark],\n",
              "html[data-theme=dark],\n",
              "body[data-theme=dark],\n",
              "body.vscode-dark {\n",
              "  --xr-font-color0: rgba(255, 255, 255, 1);\n",
              "  --xr-font-color2: rgba(255, 255, 255, 0.54);\n",
              "  --xr-font-color3: rgba(255, 255, 255, 0.38);\n",
              "  --xr-border-color: #1F1F1F;\n",
              "  --xr-disabled-color: #515151;\n",
              "  --xr-background-color: #111111;\n",
              "  --xr-background-color-row-even: #111111;\n",
              "  --xr-background-color-row-odd: #313131;\n",
              "}\n",
              "\n",
              ".xr-wrap {\n",
              "  display: block !important;\n",
              "  min-width: 300px;\n",
              "  max-width: 700px;\n",
              "}\n",
              "\n",
              ".xr-text-repr-fallback {\n",
              "  /* fallback to plain text repr when CSS is not injected (untrusted notebook) */\n",
              "  display: none;\n",
              "}\n",
              "\n",
              ".xr-header {\n",
              "  padding-top: 6px;\n",
              "  padding-bottom: 6px;\n",
              "  margin-bottom: 4px;\n",
              "  border-bottom: solid 1px var(--xr-border-color);\n",
              "}\n",
              "\n",
              ".xr-header > div,\n",
              ".xr-header > ul {\n",
              "  display: inline;\n",
              "  margin-top: 0;\n",
              "  margin-bottom: 0;\n",
              "}\n",
              "\n",
              ".xr-obj-type,\n",
              ".xr-array-name {\n",
              "  margin-left: 2px;\n",
              "  margin-right: 10px;\n",
              "}\n",
              "\n",
              ".xr-obj-type {\n",
              "  color: var(--xr-font-color2);\n",
              "}\n",
              "\n",
              ".xr-sections {\n",
              "  padding-left: 0 !important;\n",
              "  display: grid;\n",
              "  grid-template-columns: 150px auto auto 1fr 0 20px 0 20px;\n",
              "}\n",
              "\n",
              ".xr-section-item {\n",
              "  display: contents;\n",
              "}\n",
              "\n",
              ".xr-section-item input {\n",
              "  display: inline-block;\n",
              "  opacity: 0;\n",
              "}\n",
              "\n",
              ".xr-section-item input + label {\n",
              "  color: var(--xr-disabled-color);\n",
              "}\n",
              "\n",
              ".xr-section-item input:enabled + label {\n",
              "  cursor: pointer;\n",
              "  color: var(--xr-font-color2);\n",
              "}\n",
              "\n",
              ".xr-section-item input:focus + label {\n",
              "  border: 2px solid var(--xr-font-color0);\n",
              "}\n",
              "\n",
              ".xr-section-item input:enabled + label:hover {\n",
              "  color: var(--xr-font-color0);\n",
              "}\n",
              "\n",
              ".xr-section-summary {\n",
              "  grid-column: 1;\n",
              "  color: var(--xr-font-color2);\n",
              "  font-weight: 500;\n",
              "}\n",
              "\n",
              ".xr-section-summary > span {\n",
              "  display: inline-block;\n",
              "  padding-left: 0.5em;\n",
              "}\n",
              "\n",
              ".xr-section-summary-in:disabled + label {\n",
              "  color: var(--xr-font-color2);\n",
              "}\n",
              "\n",
              ".xr-section-summary-in + label:before {\n",
              "  display: inline-block;\n",
              "  content: '►';\n",
              "  font-size: 11px;\n",
              "  width: 15px;\n",
              "  text-align: center;\n",
              "}\n",
              "\n",
              ".xr-section-summary-in:disabled + label:before {\n",
              "  color: var(--xr-disabled-color);\n",
              "}\n",
              "\n",
              ".xr-section-summary-in:checked + label:before {\n",
              "  content: '▼';\n",
              "}\n",
              "\n",
              ".xr-section-summary-in:checked + label > span {\n",
              "  display: none;\n",
              "}\n",
              "\n",
              ".xr-section-summary,\n",
              ".xr-section-inline-details {\n",
              "  padding-top: 4px;\n",
              "  padding-bottom: 4px;\n",
              "}\n",
              "\n",
              ".xr-section-inline-details {\n",
              "  grid-column: 2 / -1;\n",
              "}\n",
              "\n",
              ".xr-section-details {\n",
              "  display: none;\n",
              "  grid-column: 1 / -1;\n",
              "  margin-bottom: 5px;\n",
              "}\n",
              "\n",
              ".xr-section-summary-in:checked ~ .xr-section-details {\n",
              "  display: contents;\n",
              "}\n",
              "\n",
              ".xr-array-wrap {\n",
              "  grid-column: 1 / -1;\n",
              "  display: grid;\n",
              "  grid-template-columns: 20px auto;\n",
              "}\n",
              "\n",
              ".xr-array-wrap > label {\n",
              "  grid-column: 1;\n",
              "  vertical-align: top;\n",
              "}\n",
              "\n",
              ".xr-preview {\n",
              "  color: var(--xr-font-color3);\n",
              "}\n",
              "\n",
              ".xr-array-preview,\n",
              ".xr-array-data {\n",
              "  padding: 0 5px !important;\n",
              "  grid-column: 2;\n",
              "}\n",
              "\n",
              ".xr-array-data,\n",
              ".xr-array-in:checked ~ .xr-array-preview {\n",
              "  display: none;\n",
              "}\n",
              "\n",
              ".xr-array-in:checked ~ .xr-array-data,\n",
              ".xr-array-preview {\n",
              "  display: inline-block;\n",
              "}\n",
              "\n",
              ".xr-dim-list {\n",
              "  display: inline-block !important;\n",
              "  list-style: none;\n",
              "  padding: 0 !important;\n",
              "  margin: 0;\n",
              "}\n",
              "\n",
              ".xr-dim-list li {\n",
              "  display: inline-block;\n",
              "  padding: 0;\n",
              "  margin: 0;\n",
              "}\n",
              "\n",
              ".xr-dim-list:before {\n",
              "  content: '(';\n",
              "}\n",
              "\n",
              ".xr-dim-list:after {\n",
              "  content: ')';\n",
              "}\n",
              "\n",
              ".xr-dim-list li:not(:last-child):after {\n",
              "  content: ',';\n",
              "  padding-right: 5px;\n",
              "}\n",
              "\n",
              ".xr-has-index {\n",
              "  font-weight: bold;\n",
              "}\n",
              "\n",
              ".xr-var-list,\n",
              ".xr-var-item {\n",
              "  display: contents;\n",
              "}\n",
              "\n",
              ".xr-var-item > div,\n",
              ".xr-var-item label,\n",
              ".xr-var-item > .xr-var-name span {\n",
              "  background-color: var(--xr-background-color-row-even);\n",
              "  margin-bottom: 0;\n",
              "}\n",
              "\n",
              ".xr-var-item > .xr-var-name:hover span {\n",
              "  padding-right: 5px;\n",
              "}\n",
              "\n",
              ".xr-var-list > li:nth-child(odd) > div,\n",
              ".xr-var-list > li:nth-child(odd) > label,\n",
              ".xr-var-list > li:nth-child(odd) > .xr-var-name span {\n",
              "  background-color: var(--xr-background-color-row-odd);\n",
              "}\n",
              "\n",
              ".xr-var-name {\n",
              "  grid-column: 1;\n",
              "}\n",
              "\n",
              ".xr-var-dims {\n",
              "  grid-column: 2;\n",
              "}\n",
              "\n",
              ".xr-var-dtype {\n",
              "  grid-column: 3;\n",
              "  text-align: right;\n",
              "  color: var(--xr-font-color2);\n",
              "}\n",
              "\n",
              ".xr-var-preview {\n",
              "  grid-column: 4;\n",
              "}\n",
              "\n",
              ".xr-index-preview {\n",
              "  grid-column: 2 / 5;\n",
              "  color: var(--xr-font-color2);\n",
              "}\n",
              "\n",
              ".xr-var-name,\n",
              ".xr-var-dims,\n",
              ".xr-var-dtype,\n",
              ".xr-preview,\n",
              ".xr-attrs dt {\n",
              "  white-space: nowrap;\n",
              "  overflow: hidden;\n",
              "  text-overflow: ellipsis;\n",
              "  padding-right: 10px;\n",
              "}\n",
              "\n",
              ".xr-var-name:hover,\n",
              ".xr-var-dims:hover,\n",
              ".xr-var-dtype:hover,\n",
              ".xr-attrs dt:hover {\n",
              "  overflow: visible;\n",
              "  width: auto;\n",
              "  z-index: 1;\n",
              "}\n",
              "\n",
              ".xr-var-attrs,\n",
              ".xr-var-data,\n",
              ".xr-index-data {\n",
              "  display: none;\n",
              "  background-color: var(--xr-background-color) !important;\n",
              "  padding-bottom: 5px !important;\n",
              "}\n",
              "\n",
              ".xr-var-attrs-in:checked ~ .xr-var-attrs,\n",
              ".xr-var-data-in:checked ~ .xr-var-data,\n",
              ".xr-index-data-in:checked ~ .xr-index-data {\n",
              "  display: block;\n",
              "}\n",
              "\n",
              ".xr-var-data > table {\n",
              "  float: right;\n",
              "}\n",
              "\n",
              ".xr-var-name span,\n",
              ".xr-var-data,\n",
              ".xr-index-name div,\n",
              ".xr-index-data,\n",
              ".xr-attrs {\n",
              "  padding-left: 25px !important;\n",
              "}\n",
              "\n",
              ".xr-attrs,\n",
              ".xr-var-attrs,\n",
              ".xr-var-data,\n",
              ".xr-index-data {\n",
              "  grid-column: 1 / -1;\n",
              "}\n",
              "\n",
              "dl.xr-attrs {\n",
              "  padding: 0;\n",
              "  margin: 0;\n",
              "  display: grid;\n",
              "  grid-template-columns: 125px auto;\n",
              "}\n",
              "\n",
              ".xr-attrs dt,\n",
              ".xr-attrs dd {\n",
              "  padding: 0;\n",
              "  margin: 0;\n",
              "  float: left;\n",
              "  padding-right: 10px;\n",
              "  width: auto;\n",
              "}\n",
              "\n",
              ".xr-attrs dt {\n",
              "  font-weight: normal;\n",
              "  grid-column: 1;\n",
              "}\n",
              "\n",
              ".xr-attrs dt:hover span {\n",
              "  display: inline-block;\n",
              "  background: var(--xr-background-color);\n",
              "  padding-right: 10px;\n",
              "}\n",
              "\n",
              ".xr-attrs dd {\n",
              "  grid-column: 2;\n",
              "  white-space: pre-wrap;\n",
              "  word-break: break-all;\n",
              "}\n",
              "\n",
              ".xr-icon-database,\n",
              ".xr-icon-file-text2,\n",
              ".xr-no-icon {\n",
              "  display: inline-block;\n",
              "  vertical-align: middle;\n",
              "  width: 1em;\n",
              "  height: 1.5em !important;\n",
              "  stroke-width: 0;\n",
              "  stroke: currentColor;\n",
              "  fill: currentColor;\n",
              "}\n",
              "</style><pre class='xr-text-repr-fallback'>&lt;xarray.Dataset&gt; Size: 448B\n",
              "Dimensions:  (Pos: 12)\n",
              "Coordinates:\n",
              "  * Pos      (Pos) &lt;U5 240B &#x27;C&#x27; &#x27;C-PF&#x27; &#x27;PF&#x27; &#x27;PF-C&#x27; ... &#x27;SF-SG&#x27; &#x27;SG&#x27; &#x27;SG-PG&#x27;\n",
              "Data variables:\n",
              "    μ        (Pos) float64 96B 1.0 1.005 1.0 1.007 1.002 ... 1.002 1.003 1.0 1.0\n",
              "    μ_mu     float64 8B 1.0\n",
              "    μ_sd     float64 8B 1.003\n",
              "    σ        (Pos) float64 96B 0.9999 1.0 1.001 1.002 ... 1.003 1.001 1.001 1.0</pre><div class='xr-wrap' style='display:none'><div class='xr-header'><div class='xr-obj-type'>xarray.Dataset</div></div><ul class='xr-sections'><li class='xr-section-item'><input id='section-0cb0d088-4261-4002-a500-c7b9a886e429' class='xr-section-summary-in' type='checkbox' disabled ><label for='section-0cb0d088-4261-4002-a500-c7b9a886e429' class='xr-section-summary'  title='Expand/collapse section'>Dimensions:</label><div class='xr-section-inline-details'><ul class='xr-dim-list'><li><span class='xr-has-index'>Pos</span>: 12</li></ul></div><div class='xr-section-details'></div></li><li class='xr-section-item'><input id='section-93000849-6c1f-4ab0-a384-1516522a5b19' class='xr-section-summary-in' type='checkbox'  checked><label for='section-93000849-6c1f-4ab0-a384-1516522a5b19' class='xr-section-summary' >Coordinates: <span>(1)</span></label><div class='xr-section-inline-details'></div><div class='xr-section-details'><ul class='xr-var-list'><li class='xr-var-item'><div class='xr-var-name'><span class='xr-has-index'>Pos</span></div><div class='xr-var-dims'>(Pos)</div><div class='xr-var-dtype'>&lt;U5</div><div class='xr-var-preview xr-preview'>&#x27;C&#x27; &#x27;C-PF&#x27; &#x27;PF&#x27; ... &#x27;SG&#x27; &#x27;SG-PG&#x27;</div><input id='attrs-dd7fd2fc-1633-4140-a39c-557f37f8074d' class='xr-var-attrs-in' type='checkbox' disabled><label for='attrs-dd7fd2fc-1633-4140-a39c-557f37f8074d' title='Show/Hide attributes'><svg class='icon xr-icon-file-text2'><use xlink:href='#icon-file-text2'></use></svg></label><input id='data-b3fa74ae-d82e-439f-a907-aa020a3fbc52' class='xr-var-data-in' type='checkbox'><label for='data-b3fa74ae-d82e-439f-a907-aa020a3fbc52' title='Show/Hide data repr'><svg class='icon xr-icon-database'><use xlink:href='#icon-database'></use></svg></label><div class='xr-var-attrs'><dl class='xr-attrs'></dl></div><div class='xr-var-data'><pre>array([&#x27;C&#x27;, &#x27;C-PF&#x27;, &#x27;PF&#x27;, &#x27;PF-C&#x27;, &#x27;PF-SF&#x27;, &#x27;PG&#x27;, &#x27;PG-SG&#x27;, &#x27;SF&#x27;, &#x27;SF-PF&#x27;,\n",
              "       &#x27;SF-SG&#x27;, &#x27;SG&#x27;, &#x27;SG-PG&#x27;], dtype=&#x27;&lt;U5&#x27;)</pre></div></li></ul></div></li><li class='xr-section-item'><input id='section-41908bf5-409e-42e4-a329-f03a71d36e14' class='xr-section-summary-in' type='checkbox'  checked><label for='section-41908bf5-409e-42e4-a329-f03a71d36e14' class='xr-section-summary' >Data variables: <span>(4)</span></label><div class='xr-section-inline-details'></div><div class='xr-section-details'><ul class='xr-var-list'><li class='xr-var-item'><div class='xr-var-name'><span>μ</span></div><div class='xr-var-dims'>(Pos)</div><div class='xr-var-dtype'>float64</div><div class='xr-var-preview xr-preview'>1.0 1.005 1.0 ... 1.003 1.0 1.0</div><input id='attrs-3c8cccf1-105a-4d53-8494-b9c99b0dc377' class='xr-var-attrs-in' type='checkbox' disabled><label for='attrs-3c8cccf1-105a-4d53-8494-b9c99b0dc377' title='Show/Hide attributes'><svg class='icon xr-icon-file-text2'><use xlink:href='#icon-file-text2'></use></svg></label><input id='data-7e812eb8-edf6-4c89-b2da-236ea2f147d2' class='xr-var-data-in' type='checkbox'><label for='data-7e812eb8-edf6-4c89-b2da-236ea2f147d2' title='Show/Hide data repr'><svg class='icon xr-icon-database'><use xlink:href='#icon-database'></use></svg></label><div class='xr-var-attrs'><dl class='xr-attrs'></dl></div><div class='xr-var-data'><pre>array([1.00012355, 1.00455651, 1.00016348, 1.00680436, 1.00197899,\n",
              "       1.00017452, 1.00243721, 0.99946814, 1.00201645, 1.00295029,\n",
              "       1.00013494, 1.00039978])</pre></div></li><li class='xr-var-item'><div class='xr-var-name'><span>μ_mu</span></div><div class='xr-var-dims'>()</div><div class='xr-var-dtype'>float64</div><div class='xr-var-preview xr-preview'>1.0</div><input id='attrs-5329ef41-7f1a-49ba-a2c3-c9437b246b2f' class='xr-var-attrs-in' type='checkbox' disabled><label for='attrs-5329ef41-7f1a-49ba-a2c3-c9437b246b2f' title='Show/Hide attributes'><svg class='icon xr-icon-file-text2'><use xlink:href='#icon-file-text2'></use></svg></label><input id='data-40ef569a-782a-4229-811f-bd34c35916fa' class='xr-var-data-in' type='checkbox'><label for='data-40ef569a-782a-4229-811f-bd34c35916fa' title='Show/Hide data repr'><svg class='icon xr-icon-database'><use xlink:href='#icon-database'></use></svg></label><div class='xr-var-attrs'><dl class='xr-attrs'></dl></div><div class='xr-var-data'><pre>array(1.00005329)</pre></div></li><li class='xr-var-item'><div class='xr-var-name'><span>μ_sd</span></div><div class='xr-var-dims'>()</div><div class='xr-var-dtype'>float64</div><div class='xr-var-preview xr-preview'>1.003</div><input id='attrs-e94a99a1-60f5-4ce4-817f-59e2034bd650' class='xr-var-attrs-in' type='checkbox' disabled><label for='attrs-e94a99a1-60f5-4ce4-817f-59e2034bd650' title='Show/Hide attributes'><svg class='icon xr-icon-file-text2'><use xlink:href='#icon-file-text2'></use></svg></label><input id='data-561a6387-93f8-4926-8e06-9b7fe6700335' class='xr-var-data-in' type='checkbox'><label for='data-561a6387-93f8-4926-8e06-9b7fe6700335' title='Show/Hide data repr'><svg class='icon xr-icon-database'><use xlink:href='#icon-database'></use></svg></label><div class='xr-var-attrs'><dl class='xr-attrs'></dl></div><div class='xr-var-data'><pre>array(1.00341227)</pre></div></li><li class='xr-var-item'><div class='xr-var-name'><span>σ</span></div><div class='xr-var-dims'>(Pos)</div><div class='xr-var-dtype'>float64</div><div class='xr-var-preview xr-preview'>0.9999 1.0 1.001 ... 1.001 1.0</div><input id='attrs-81a07927-e11e-454c-9c62-aaaf9a6e0198' class='xr-var-attrs-in' type='checkbox' disabled><label for='attrs-81a07927-e11e-454c-9c62-aaaf9a6e0198' title='Show/Hide attributes'><svg class='icon xr-icon-file-text2'><use xlink:href='#icon-file-text2'></use></svg></label><input id='data-07551ec1-c958-4e28-8de8-35fd593ec831' class='xr-var-data-in' type='checkbox'><label for='data-07551ec1-c958-4e28-8de8-35fd593ec831' title='Show/Hide data repr'><svg class='icon xr-icon-database'><use xlink:href='#icon-database'></use></svg></label><div class='xr-var-attrs'><dl class='xr-attrs'></dl></div><div class='xr-var-data'><pre>array([0.99987976, 1.00009648, 1.00101154, 1.00227113, 1.00433023,\n",
              "       1.00120182, 0.99994126, 1.00070171, 1.00282798, 1.00054642,\n",
              "       1.00148816, 0.99997592])</pre></div></li></ul></div></li><li class='xr-section-item'><input id='section-d05a9430-a772-4cce-8882-efb90d2e8155' class='xr-section-summary-in' type='checkbox'  ><label for='section-d05a9430-a772-4cce-8882-efb90d2e8155' class='xr-section-summary' >Indexes: <span>(1)</span></label><div class='xr-section-inline-details'></div><div class='xr-section-details'><ul class='xr-var-list'><li class='xr-var-item'><div class='xr-index-name'><div>Pos</div></div><div class='xr-index-preview'>PandasIndex</div><div></div><input id='index-65dcb2a3-18ef-45d0-bb54-38b297bba236' class='xr-index-data-in' type='checkbox'/><label for='index-65dcb2a3-18ef-45d0-bb54-38b297bba236' title='Show/Hide index repr'><svg class='icon xr-icon-database'><use xlink:href='#icon-database'></use></svg></label><div class='xr-index-data'><pre>PandasIndex(Index([&#x27;C&#x27;, &#x27;C-PF&#x27;, &#x27;PF&#x27;, &#x27;PF-C&#x27;, &#x27;PF-SF&#x27;, &#x27;PG&#x27;, &#x27;PG-SG&#x27;, &#x27;SF&#x27;, &#x27;SF-PF&#x27;,\n",
              "       &#x27;SF-SG&#x27;, &#x27;SG&#x27;, &#x27;SG-PG&#x27;],\n",
              "      dtype=&#x27;object&#x27;, name=&#x27;Pos&#x27;))</pre></div></li></ul></div></li><li class='xr-section-item'><input id='section-6266a313-0c15-47e5-a33b-acd858a05ebf' class='xr-section-summary-in' type='checkbox' disabled ><label for='section-6266a313-0c15-47e5-a33b-acd858a05ebf' class='xr-section-summary'  title='Expand/collapse section'>Attributes: <span>(0)</span></label><div class='xr-section-inline-details'></div><div class='xr-section-details'><dl class='xr-attrs'></dl></div></li></ul></div></div>"
            ]
          },
          "metadata": {},
          "execution_count": 20
        }
      ],
      "source": [
        "#Using arviZ to find the rhat values\n",
        "az.rhat(idata_bsktballG)"
      ]
    },
    {
      "cell_type": "code",
      "execution_count": 21,
      "metadata": {
        "colab": {
          "base_uri": "https://localhost:8080/",
          "height": 308
        },
        "id": "0v8IfjurUOL1",
        "outputId": "7fd39a95-27d3-4531-c6ad-045a70973eb3"
      },
      "outputs": [
        {
          "output_type": "execute_result",
          "data": {
            "text/plain": [
              "array([<Axes: >], dtype=object)"
            ]
          },
          "metadata": {},
          "execution_count": 21
        },
        {
          "output_type": "display_data",
          "data": {
            "text/plain": [
              "<Figure size 1200x300 with 1 Axes>"
            ],
            "image/png": "[encoded data removed]"
          },
          "metadata": {}
        }
      ],
      "source": [
        "#plots a 99.8% HDI for the positions TRB\n",
        "az.plot_forest(idata_bsktballG, var_names=['μ'], combined=True, figsize=(12, 3), kind = 'ridgeplot', hdi_prob=0.998)\n"
      ]
    },
    {
      "cell_type": "markdown",
      "metadata": {
        "id": "OaozhbY4VaSw"
      },
      "source": [
        "Here is the forest plot model using the gamma likelihood. There was no divergences in the pymc model which means there was no issues. It looks that C-PF and PG-SG position have a very broad range of values and doesn't have a very noticeble median. Other than that, it looks like the others have a a median of the amount of TRB each position has done. I just assume the x-axis is the median of the TRB each position has done."
      ]
    },
    {
      "cell_type": "markdown",
      "source": [
        "## Model with Normal Likelihood"
      ],
      "metadata": {
        "id": "EfMl4IUF6cRJ"
      }
    },
    {
      "cell_type": "code",
      "source": [
        "#This is model with the Normal likelihood\n",
        "with pm.Model(coords=pos_coords) as basketball_modelN:\n",
        "    #hyperpriors. Notice how there's no dims argument\n",
        "    #this means that the hyperprior is shared across\n",
        "    #μ_mu and μ_sd builds the μ prior.\n",
        "    μ_mu = pm.LogNormal('μ_mu', mu = 5, sigma = .5)\n",
        "    μ_sd = pm.Gamma('μ_sd', mu = 2, sigma=5)\n",
        "\n",
        "    #priors. There is a different prior,\n",
        "    #μ has hyperpriors\n",
        "    μ = pm.Normal('μ',\n",
        "                  mu = μ_mu,\n",
        "                  sigma = μ_sd,\n",
        "                  dims = \"Pos\")\n",
        "\n",
        "    σ = pm.LogNormal('σ', mu=2,sigma=.5,\n",
        "                      dims = \"Pos\")\n",
        "\n",
        "\n",
        "    #likelihood\n",
        "    y = pm.Normal('y',\n",
        "                  mu = μ[pos_idx],\n",
        "                  sigma = σ[pos_idx],\n",
        "                  observed = basketball.TRB)\n",
        "\n",
        "    #cs for chemshift, h for heirarchical\n",
        "    idata_bsktballN = pm.sample(target_accept=0.98)"
      ],
      "metadata": {
        "colab": {
          "base_uri": "https://localhost:8080/",
          "height": 57,
          "referenced_widgets": [
            "040cad43310945929ec93f6fee7dd568",
            "aefebbbcaf8f4995974dd69a768a8960",
            "9829d10572024ae1b318e62c905cf222",
            "ee4eb6098dec445cbecf1d0eaa929a23"
          ]
        },
        "id": "fU-PF2pF6mW-",
        "outputId": "b33c61d6-5b25-4c48-fc9e-18d4330d3cf7"
      },
      "execution_count": 26,
      "outputs": [
        {
          "output_type": "display_data",
          "data": {
            "text/plain": [
              "Output()"
            ],
            "application/vnd.jupyter.widget-view+json": {
              "version_major": 2,
              "version_minor": 0,
              "model_id": "040cad43310945929ec93f6fee7dd568"
            }
          },
          "metadata": {}
        },
        {
          "output_type": "display_data",
          "data": {
            "text/plain": [],
            "text/html": [
              "<pre style=\"white-space:pre;overflow-x:auto;line-height:normal;font-family:Menlo,'DejaVu Sans Mono',consolas,'Courier New',monospace\"></pre>\n"
            ]
          },
          "metadata": {}
        },
        {
          "output_type": "display_data",
          "data": {
            "text/plain": [
              "Output()"
            ],
            "application/vnd.jupyter.widget-view+json": {
              "version_major": 2,
              "version_minor": 0,
              "model_id": "9829d10572024ae1b318e62c905cf222"
            }
          },
          "metadata": {}
        },
        {
          "output_type": "display_data",
          "data": {
            "text/plain": [],
            "text/html": [
              "<pre style=\"white-space:pre;overflow-x:auto;line-height:normal;font-family:Menlo,'DejaVu Sans Mono',consolas,'Courier New',monospace\"></pre>\n"
            ]
          },
          "metadata": {}
        }
      ]
    },
    {
      "cell_type": "code",
      "source": [
        "#Helps visualize the model\n",
        "pm.model_to_graphviz(basketball_modelN)"
      ],
      "metadata": {
        "colab": {
          "base_uri": "https://localhost:8080/",
          "height": 495
        },
        "id": "2UTw398F6uf3",
        "outputId": "a597c42b-6c63-4af5-8964-dd42d5789210"
      },
      "execution_count": 27,
      "outputs": [
        {
          "output_type": "execute_result",
          "data": {
            "image/svg+xml": "<?xml version=\"1.0\" encoding=\"UTF-8\" standalone=\"no\"?>\n<!DOCTYPE svg PUBLIC \"-//W3C//DTD SVG 1.1//EN\"\n \"http://www.w3.org/Graphics/SVG/1.1/DTD/svg11.dtd\">\n<!-- Generated by graphviz version 2.43.0 (0)\n -->\n<!-- Title: %3 Pages: 1 -->\n<svg width=\"299pt\" height=\"355pt\"\n viewBox=\"0.00 0.00 299.13 354.86\" xmlns=\"http://www.w3.org/2000/svg\" xmlns:xlink=\"http://www.w3.org/1999/xlink\">\n<g id=\"graph0\" class=\"graph\" transform=\"scale(1 1) rotate(0) translate(4 350.86)\">\n<title>%3</title>\n<polygon fill=\"white\" stroke=\"transparent\" points=\"-4,4 -4,-350.86 295.13,-350.86 295.13,4 -4,4\"/>\n<g id=\"clust1\" class=\"cluster\">\n<title>clusterPos (12)</title>\n<path fill=\"none\" stroke=\"black\" d=\"M20,-129.95C20,-129.95 227,-129.95 227,-129.95 233,-129.95 239,-135.95 239,-141.95 239,-141.95 239,-231.91 239,-231.91 239,-237.91 233,-243.91 227,-243.91 227,-243.91 20,-243.91 20,-243.91 14,-243.91 8,-237.91 8,-231.91 8,-231.91 8,-141.95 8,-141.95 8,-135.95 14,-129.95 20,-129.95\"/>\n<text text-anchor=\"middle\" x=\"208\" y=\"-137.75\" font-family=\"Times,serif\" font-size=\"14.00\">Pos (12)</text>\n</g>\n<g id=\"clust2\" class=\"cluster\">\n<title>cluster413</title>\n<path fill=\"none\" stroke=\"black\" d=\"M93,-8C93,-8 169,-8 169,-8 175,-8 181,-14 181,-20 181,-20 181,-109.95 181,-109.95 181,-115.95 175,-121.95 169,-121.95 169,-121.95 93,-121.95 93,-121.95 87,-121.95 81,-115.95 81,-109.95 81,-109.95 81,-20 81,-20 81,-14 87,-8 93,-8\"/>\n<text text-anchor=\"middle\" x=\"162.5\" y=\"-15.8\" font-family=\"Times,serif\" font-size=\"14.00\">413</text>\n</g>\n<!-- μ_mu -->\n<g id=\"node1\" class=\"node\">\n<title>μ_mu</title>\n<ellipse fill=\"none\" stroke=\"black\" cx=\"130\" cy=\"-309.38\" rx=\"56.64\" ry=\"37.45\"/>\n<text text-anchor=\"middle\" x=\"130\" y=\"-320.68\" font-family=\"Times,serif\" font-size=\"14.00\">μ_mu</text>\n<text text-anchor=\"middle\" x=\"130\" y=\"-305.68\" font-family=\"Times,serif\" font-size=\"14.00\">~</text>\n<text text-anchor=\"middle\" x=\"130\" y=\"-290.68\" font-family=\"Times,serif\" font-size=\"14.00\">LogNormal</text>\n</g>\n<!-- μ -->\n<g id=\"node3\" class=\"node\">\n<title>μ</title>\n<ellipse fill=\"none\" stroke=\"black\" cx=\"189\" cy=\"-198.43\" rx=\"41.94\" ry=\"37.45\"/>\n<text text-anchor=\"middle\" x=\"189\" y=\"-209.73\" font-family=\"Times,serif\" font-size=\"14.00\">μ</text>\n<text text-anchor=\"middle\" x=\"189\" y=\"-194.73\" font-family=\"Times,serif\" font-size=\"14.00\">~</text>\n<text text-anchor=\"middle\" x=\"189\" y=\"-179.73\" font-family=\"Times,serif\" font-size=\"14.00\">Normal</text>\n</g>\n<!-- μ_mu&#45;&gt;μ -->\n<g id=\"edge1\" class=\"edge\">\n<title>μ_mu&#45;&gt;μ</title>\n<path fill=\"none\" stroke=\"black\" d=\"M148.67,-273.91C154.26,-263.58 160.45,-252.15 166.28,-241.39\"/>\n<polygon fill=\"black\" stroke=\"black\" points=\"169.37,-243.02 171.06,-232.56 163.22,-239.69 169.37,-243.02\"/>\n</g>\n<!-- μ_sd -->\n<g id=\"node2\" class=\"node\">\n<title>μ_sd</title>\n<ellipse fill=\"none\" stroke=\"black\" cx=\"248\" cy=\"-309.38\" rx=\"43.27\" ry=\"37.45\"/>\n<text text-anchor=\"middle\" x=\"248\" y=\"-320.68\" font-family=\"Times,serif\" font-size=\"14.00\">μ_sd</text>\n<text text-anchor=\"middle\" x=\"248\" y=\"-305.68\" font-family=\"Times,serif\" font-size=\"14.00\">~</text>\n<text text-anchor=\"middle\" x=\"248\" y=\"-290.68\" font-family=\"Times,serif\" font-size=\"14.00\">Gamma</text>\n</g>\n<!-- μ_sd&#45;&gt;μ -->\n<g id=\"edge2\" class=\"edge\">\n<title>μ_sd&#45;&gt;μ</title>\n<path fill=\"none\" stroke=\"black\" d=\"M229.98,-275.1C224.26,-264.54 217.86,-252.72 211.85,-241.62\"/>\n<polygon fill=\"black\" stroke=\"black\" points=\"214.75,-239.63 206.91,-232.51 208.6,-242.97 214.75,-239.63\"/>\n</g>\n<!-- y -->\n<g id=\"node5\" class=\"node\">\n<title>y</title>\n<ellipse fill=\"lightgrey\" stroke=\"black\" cx=\"131\" cy=\"-76.48\" rx=\"41.94\" ry=\"37.45\"/>\n<text text-anchor=\"middle\" x=\"131\" y=\"-87.78\" font-family=\"Times,serif\" font-size=\"14.00\">y</text>\n<text text-anchor=\"middle\" x=\"131\" y=\"-72.78\" font-family=\"Times,serif\" font-size=\"14.00\">~</text>\n<text text-anchor=\"middle\" x=\"131\" y=\"-57.78\" font-family=\"Times,serif\" font-size=\"14.00\">Normal</text>\n</g>\n<!-- μ&#45;&gt;y -->\n<g id=\"edge3\" class=\"edge\">\n<title>μ&#45;&gt;y</title>\n<path fill=\"none\" stroke=\"black\" d=\"M172.69,-163.7C166.2,-150.28 158.66,-134.68 151.79,-120.47\"/>\n<polygon fill=\"black\" stroke=\"black\" points=\"154.89,-118.85 147.39,-111.37 148.59,-121.9 154.89,-118.85\"/>\n</g>\n<!-- σ -->\n<g id=\"node4\" class=\"node\">\n<title>σ</title>\n<ellipse fill=\"none\" stroke=\"black\" cx=\"73\" cy=\"-198.43\" rx=\"56.64\" ry=\"37.45\"/>\n<text text-anchor=\"middle\" x=\"73\" y=\"-209.73\" font-family=\"Times,serif\" font-size=\"14.00\">σ</text>\n<text text-anchor=\"middle\" x=\"73\" y=\"-194.73\" font-family=\"Times,serif\" font-size=\"14.00\">~</text>\n<text text-anchor=\"middle\" x=\"73\" y=\"-179.73\" font-family=\"Times,serif\" font-size=\"14.00\">LogNormal</text>\n</g>\n<!-- σ&#45;&gt;y -->\n<g id=\"edge4\" class=\"edge\">\n<title>σ&#45;&gt;y</title>\n<path fill=\"none\" stroke=\"black\" d=\"M89.93,-162.41C96.29,-149.26 103.59,-134.17 110.25,-120.39\"/>\n<polygon fill=\"black\" stroke=\"black\" points=\"113.54,-121.62 114.75,-111.09 107.24,-118.57 113.54,-121.62\"/>\n</g>\n</g>\n</svg>\n",
            "text/plain": [
              "<graphviz.graphs.Digraph at 0x7e014db365f0>"
            ]
          },
          "metadata": {},
          "execution_count": 27
        }
      ]
    },
    {
      "cell_type": "code",
      "source": [
        "#Using arviZ to find the rhat values\n",
        "az.rhat(idata_bsktballN)"
      ],
      "metadata": {
        "colab": {
          "base_uri": "https://localhost:8080/",
          "height": 386
        },
        "id": "JN3kfCMf6vi7",
        "outputId": "a091b985-de01-470c-9fb8-a555cb547335"
      },
      "execution_count": 28,
      "outputs": [
        {
          "output_type": "execute_result",
          "data": {
            "text/plain": [
              "<xarray.Dataset> Size: 448B\n",
              "Dimensions:  (Pos: 12)\n",
              "Coordinates:\n",
              "  * Pos      (Pos) <U5 240B 'C' 'C-PF' 'PF' 'PF-C' ... 'SF-SG' 'SG' 'SG-PG'\n",
              "Data variables:\n",
              "    μ        (Pos) float64 96B 1.001 1.002 0.9994 1.003 ... 1.001 1.0 1.0 1.002\n",
              "    μ_mu     float64 8B 0.9995\n",
              "    μ_sd     float64 8B 1.001\n",
              "    σ        (Pos) float64 96B 1.002 1.001 1.003 1.001 ... 1.001 0.9995 1.0 1.0"
            ],
            "text/html": [
              "<div><svg style=\"position: absolute; width: 0; height: 0; overflow: hidden\">\n",
              "<defs>\n",
              "<symbol id=\"icon-database\" viewBox=\"0 0 32 32\">\n",
              "<path d=\"M16 0c-8.837 0-16 2.239-16 5v4c0 2.761 7.163 5 16 5s16-2.239 16-5v-4c0-2.761-7.163-5-16-5z\"></path>\n",
              "<path d=\"M16 17c-8.837 0-16-2.239-16-5v6c0 2.761 7.163 5 16 5s16-2.239 16-5v-6c0 2.761-7.163 5-16 5z\"></path>\n",
              "<path d=\"M16 26c-8.837 0-16-2.239-16-5v6c0 2.761 7.163 5 16 5s16-2.239 16-5v-6c0 2.761-7.163 5-16 5z\"></path>\n",
              "</symbol>\n",
              "<symbol id=\"icon-file-text2\" viewBox=\"0 0 32 32\">\n",
              "<path d=\"M28.681 7.159c-0.694-0.947-1.662-2.053-2.724-3.116s-2.169-2.030-3.116-2.724c-1.612-1.182-2.393-1.319-2.841-1.319h-15.5c-1.378 0-2.5 1.121-2.5 2.5v27c0 1.378 1.122 2.5 2.5 2.5h23c1.378 0 2.5-1.122 2.5-2.5v-19.5c0-0.448-0.137-1.23-1.319-2.841zM24.543 5.457c0.959 0.959 1.712 1.825 2.268 2.543h-4.811v-4.811c0.718 0.556 1.584 1.309 2.543 2.268zM28 29.5c0 0.271-0.229 0.5-0.5 0.5h-23c-0.271 0-0.5-0.229-0.5-0.5v-27c0-0.271 0.229-0.5 0.5-0.5 0 0 15.499-0 15.5 0v7c0 0.552 0.448 1 1 1h7v19.5z\"></path>\n",
              "<path d=\"M23 26h-14c-0.552 0-1-0.448-1-1s0.448-1 1-1h14c0.552 0 1 0.448 1 1s-0.448 1-1 1z\"></path>\n",
              "<path d=\"M23 22h-14c-0.552 0-1-0.448-1-1s0.448-1 1-1h14c0.552 0 1 0.448 1 1s-0.448 1-1 1z\"></path>\n",
              "<path d=\"M23 18h-14c-0.552 0-1-0.448-1-1s0.448-1 1-1h14c0.552 0 1 0.448 1 1s-0.448 1-1 1z\"></path>\n",
              "</symbol>\n",
              "</defs>\n",
              "</svg>\n",
              "<style>/* CSS stylesheet for displaying xarray objects in jupyterlab.\n",
              " *\n",
              " */\n",
              "\n",
              ":root {\n",
              "  --xr-font-color0: var(--jp-content-font-color0, rgba(0, 0, 0, 1));\n",
              "  --xr-font-color2: var(--jp-content-font-color2, rgba(0, 0, 0, 0.54));\n",
              "  --xr-font-color3: var(--jp-content-font-color3, rgba(0, 0, 0, 0.38));\n",
              "  --xr-border-color: var(--jp-border-color2, #e0e0e0);\n",
              "  --xr-disabled-color: var(--jp-layout-color3, #bdbdbd);\n",
              "  --xr-background-color: var(--jp-layout-color0, white);\n",
              "  --xr-background-color-row-even: var(--jp-layout-color1, white);\n",
              "  --xr-background-color-row-odd: var(--jp-layout-color2, #eeeeee);\n",
              "}\n",
              "\n",
              "html[theme=dark],\n",
              "html[data-theme=dark],\n",
              "body[data-theme=dark],\n",
              "body.vscode-dark {\n",
              "  --xr-font-color0: rgba(255, 255, 255, 1);\n",
              "  --xr-font-color2: rgba(255, 255, 255, 0.54);\n",
              "  --xr-font-color3: rgba(255, 255, 255, 0.38);\n",
              "  --xr-border-color: #1F1F1F;\n",
              "  --xr-disabled-color: #515151;\n",
              "  --xr-background-color: #111111;\n",
              "  --xr-background-color-row-even: #111111;\n",
              "  --xr-background-color-row-odd: #313131;\n",
              "}\n",
              "\n",
              ".xr-wrap {\n",
              "  display: block !important;\n",
              "  min-width: 300px;\n",
              "  max-width: 700px;\n",
              "}\n",
              "\n",
              ".xr-text-repr-fallback {\n",
              "  /* fallback to plain text repr when CSS is not injected (untrusted notebook) */\n",
              "  display: none;\n",
              "}\n",
              "\n",
              ".xr-header {\n",
              "  padding-top: 6px;\n",
              "  padding-bottom: 6px;\n",
              "  margin-bottom: 4px;\n",
              "  border-bottom: solid 1px var(--xr-border-color);\n",
              "}\n",
              "\n",
              ".xr-header > div,\n",
              ".xr-header > ul {\n",
              "  display: inline;\n",
              "  margin-top: 0;\n",
              "  margin-bottom: 0;\n",
              "}\n",
              "\n",
              ".xr-obj-type,\n",
              ".xr-array-name {\n",
              "  margin-left: 2px;\n",
              "  margin-right: 10px;\n",
              "}\n",
              "\n",
              ".xr-obj-type {\n",
              "  color: var(--xr-font-color2);\n",
              "}\n",
              "\n",
              ".xr-sections {\n",
              "  padding-left: 0 !important;\n",
              "  display: grid;\n",
              "  grid-template-columns: 150px auto auto 1fr 0 20px 0 20px;\n",
              "}\n",
              "\n",
              ".xr-section-item {\n",
              "  display: contents;\n",
              "}\n",
              "\n",
              ".xr-section-item input {\n",
              "  display: inline-block;\n",
              "  opacity: 0;\n",
              "}\n",
              "\n",
              ".xr-section-item input + label {\n",
              "  color: var(--xr-disabled-color);\n",
              "}\n",
              "\n",
              ".xr-section-item input:enabled + label {\n",
              "  cursor: pointer;\n",
              "  color: var(--xr-font-color2);\n",
              "}\n",
              "\n",
              ".xr-section-item input:focus + label {\n",
              "  border: 2px solid var(--xr-font-color0);\n",
              "}\n",
              "\n",
              ".xr-section-item input:enabled + label:hover {\n",
              "  color: var(--xr-font-color0);\n",
              "}\n",
              "\n",
              ".xr-section-summary {\n",
              "  grid-column: 1;\n",
              "  color: var(--xr-font-color2);\n",
              "  font-weight: 500;\n",
              "}\n",
              "\n",
              ".xr-section-summary > span {\n",
              "  display: inline-block;\n",
              "  padding-left: 0.5em;\n",
              "}\n",
              "\n",
              ".xr-section-summary-in:disabled + label {\n",
              "  color: var(--xr-font-color2);\n",
              "}\n",
              "\n",
              ".xr-section-summary-in + label:before {\n",
              "  display: inline-block;\n",
              "  content: '►';\n",
              "  font-size: 11px;\n",
              "  width: 15px;\n",
              "  text-align: center;\n",
              "}\n",
              "\n",
              ".xr-section-summary-in:disabled + label:before {\n",
              "  color: var(--xr-disabled-color);\n",
              "}\n",
              "\n",
              ".xr-section-summary-in:checked + label:before {\n",
              "  content: '▼';\n",
              "}\n",
              "\n",
              ".xr-section-summary-in:checked + label > span {\n",
              "  display: none;\n",
              "}\n",
              "\n",
              ".xr-section-summary,\n",
              ".xr-section-inline-details {\n",
              "  padding-top: 4px;\n",
              "  padding-bottom: 4px;\n",
              "}\n",
              "\n",
              ".xr-section-inline-details {\n",
              "  grid-column: 2 / -1;\n",
              "}\n",
              "\n",
              ".xr-section-details {\n",
              "  display: none;\n",
              "  grid-column: 1 / -1;\n",
              "  margin-bottom: 5px;\n",
              "}\n",
              "\n",
              ".xr-section-summary-in:checked ~ .xr-section-details {\n",
              "  display: contents;\n",
              "}\n",
              "\n",
              ".xr-array-wrap {\n",
              "  grid-column: 1 / -1;\n",
              "  display: grid;\n",
              "  grid-template-columns: 20px auto;\n",
              "}\n",
              "\n",
              ".xr-array-wrap > label {\n",
              "  grid-column: 1;\n",
              "  vertical-align: top;\n",
              "}\n",
              "\n",
              ".xr-preview {\n",
              "  color: var(--xr-font-color3);\n",
              "}\n",
              "\n",
              ".xr-array-preview,\n",
              ".xr-array-data {\n",
              "  padding: 0 5px !important;\n",
              "  grid-column: 2;\n",
              "}\n",
              "\n",
              ".xr-array-data,\n",
              ".xr-array-in:checked ~ .xr-array-preview {\n",
              "  display: none;\n",
              "}\n",
              "\n",
              ".xr-array-in:checked ~ .xr-array-data,\n",
              ".xr-array-preview {\n",
              "  display: inline-block;\n",
              "}\n",
              "\n",
              ".xr-dim-list {\n",
              "  display: inline-block !important;\n",
              "  list-style: none;\n",
              "  padding: 0 !important;\n",
              "  margin: 0;\n",
              "}\n",
              "\n",
              ".xr-dim-list li {\n",
              "  display: inline-block;\n",
              "  padding: 0;\n",
              "  margin: 0;\n",
              "}\n",
              "\n",
              ".xr-dim-list:before {\n",
              "  content: '(';\n",
              "}\n",
              "\n",
              ".xr-dim-list:after {\n",
              "  content: ')';\n",
              "}\n",
              "\n",
              ".xr-dim-list li:not(:last-child):after {\n",
              "  content: ',';\n",
              "  padding-right: 5px;\n",
              "}\n",
              "\n",
              ".xr-has-index {\n",
              "  font-weight: bold;\n",
              "}\n",
              "\n",
              ".xr-var-list,\n",
              ".xr-var-item {\n",
              "  display: contents;\n",
              "}\n",
              "\n",
              ".xr-var-item > div,\n",
              ".xr-var-item label,\n",
              ".xr-var-item > .xr-var-name span {\n",
              "  background-color: var(--xr-background-color-row-even);\n",
              "  margin-bottom: 0;\n",
              "}\n",
              "\n",
              ".xr-var-item > .xr-var-name:hover span {\n",
              "  padding-right: 5px;\n",
              "}\n",
              "\n",
              ".xr-var-list > li:nth-child(odd) > div,\n",
              ".xr-var-list > li:nth-child(odd) > label,\n",
              ".xr-var-list > li:nth-child(odd) > .xr-var-name span {\n",
              "  background-color: var(--xr-background-color-row-odd);\n",
              "}\n",
              "\n",
              ".xr-var-name {\n",
              "  grid-column: 1;\n",
              "}\n",
              "\n",
              ".xr-var-dims {\n",
              "  grid-column: 2;\n",
              "}\n",
              "\n",
              ".xr-var-dtype {\n",
              "  grid-column: 3;\n",
              "  text-align: right;\n",
              "  color: var(--xr-font-color2);\n",
              "}\n",
              "\n",
              ".xr-var-preview {\n",
              "  grid-column: 4;\n",
              "}\n",
              "\n",
              ".xr-index-preview {\n",
              "  grid-column: 2 / 5;\n",
              "  color: var(--xr-font-color2);\n",
              "}\n",
              "\n",
              ".xr-var-name,\n",
              ".xr-var-dims,\n",
              ".xr-var-dtype,\n",
              ".xr-preview,\n",
              ".xr-attrs dt {\n",
              "  white-space: nowrap;\n",
              "  overflow: hidden;\n",
              "  text-overflow: ellipsis;\n",
              "  padding-right: 10px;\n",
              "}\n",
              "\n",
              ".xr-var-name:hover,\n",
              ".xr-var-dims:hover,\n",
              ".xr-var-dtype:hover,\n",
              ".xr-attrs dt:hover {\n",
              "  overflow: visible;\n",
              "  width: auto;\n",
              "  z-index: 1;\n",
              "}\n",
              "\n",
              ".xr-var-attrs,\n",
              ".xr-var-data,\n",
              ".xr-index-data {\n",
              "  display: none;\n",
              "  background-color: var(--xr-background-color) !important;\n",
              "  padding-bottom: 5px !important;\n",
              "}\n",
              "\n",
              ".xr-var-attrs-in:checked ~ .xr-var-attrs,\n",
              ".xr-var-data-in:checked ~ .xr-var-data,\n",
              ".xr-index-data-in:checked ~ .xr-index-data {\n",
              "  display: block;\n",
              "}\n",
              "\n",
              ".xr-var-data > table {\n",
              "  float: right;\n",
              "}\n",
              "\n",
              ".xr-var-name span,\n",
              ".xr-var-data,\n",
              ".xr-index-name div,\n",
              ".xr-index-data,\n",
              ".xr-attrs {\n",
              "  padding-left: 25px !important;\n",
              "}\n",
              "\n",
              ".xr-attrs,\n",
              ".xr-var-attrs,\n",
              ".xr-var-data,\n",
              ".xr-index-data {\n",
              "  grid-column: 1 / -1;\n",
              "}\n",
              "\n",
              "dl.xr-attrs {\n",
              "  padding: 0;\n",
              "  margin: 0;\n",
              "  display: grid;\n",
              "  grid-template-columns: 125px auto;\n",
              "}\n",
              "\n",
              ".xr-attrs dt,\n",
              ".xr-attrs dd {\n",
              "  padding: 0;\n",
              "  margin: 0;\n",
              "  float: left;\n",
              "  padding-right: 10px;\n",
              "  width: auto;\n",
              "}\n",
              "\n",
              ".xr-attrs dt {\n",
              "  font-weight: normal;\n",
              "  grid-column: 1;\n",
              "}\n",
              "\n",
              ".xr-attrs dt:hover span {\n",
              "  display: inline-block;\n",
              "  background: var(--xr-background-color);\n",
              "  padding-right: 10px;\n",
              "}\n",
              "\n",
              ".xr-attrs dd {\n",
              "  grid-column: 2;\n",
              "  white-space: pre-wrap;\n",
              "  word-break: break-all;\n",
              "}\n",
              "\n",
              ".xr-icon-database,\n",
              ".xr-icon-file-text2,\n",
              ".xr-no-icon {\n",
              "  display: inline-block;\n",
              "  vertical-align: middle;\n",
              "  width: 1em;\n",
              "  height: 1.5em !important;\n",
              "  stroke-width: 0;\n",
              "  stroke: currentColor;\n",
              "  fill: currentColor;\n",
              "}\n",
              "</style><pre class='xr-text-repr-fallback'>&lt;xarray.Dataset&gt; Size: 448B\n",
              "Dimensions:  (Pos: 12)\n",
              "Coordinates:\n",
              "  * Pos      (Pos) &lt;U5 240B &#x27;C&#x27; &#x27;C-PF&#x27; &#x27;PF&#x27; &#x27;PF-C&#x27; ... &#x27;SF-SG&#x27; &#x27;SG&#x27; &#x27;SG-PG&#x27;\n",
              "Data variables:\n",
              "    μ        (Pos) float64 96B 1.001 1.002 0.9994 1.003 ... 1.001 1.0 1.0 1.002\n",
              "    μ_mu     float64 8B 0.9995\n",
              "    μ_sd     float64 8B 1.001\n",
              "    σ        (Pos) float64 96B 1.002 1.001 1.003 1.001 ... 1.001 0.9995 1.0 1.0</pre><div class='xr-wrap' style='display:none'><div class='xr-header'><div class='xr-obj-type'>xarray.Dataset</div></div><ul class='xr-sections'><li class='xr-section-item'><input id='section-c002a257-3cd6-4168-a7a7-500f3f6c601d' class='xr-section-summary-in' type='checkbox' disabled ><label for='section-c002a257-3cd6-4168-a7a7-500f3f6c601d' class='xr-section-summary'  title='Expand/collapse section'>Dimensions:</label><div class='xr-section-inline-details'><ul class='xr-dim-list'><li><span class='xr-has-index'>Pos</span>: 12</li></ul></div><div class='xr-section-details'></div></li><li class='xr-section-item'><input id='section-b1eb39ee-7d72-49a8-aae4-2a118a0271b1' class='xr-section-summary-in' type='checkbox'  checked><label for='section-b1eb39ee-7d72-49a8-aae4-2a118a0271b1' class='xr-section-summary' >Coordinates: <span>(1)</span></label><div class='xr-section-inline-details'></div><div class='xr-section-details'><ul class='xr-var-list'><li class='xr-var-item'><div class='xr-var-name'><span class='xr-has-index'>Pos</span></div><div class='xr-var-dims'>(Pos)</div><div class='xr-var-dtype'>&lt;U5</div><div class='xr-var-preview xr-preview'>&#x27;C&#x27; &#x27;C-PF&#x27; &#x27;PF&#x27; ... &#x27;SG&#x27; &#x27;SG-PG&#x27;</div><input id='attrs-7bb1e73d-1832-48be-848f-3236680c61be' class='xr-var-attrs-in' type='checkbox' disabled><label for='attrs-7bb1e73d-1832-48be-848f-3236680c61be' title='Show/Hide attributes'><svg class='icon xr-icon-file-text2'><use xlink:href='#icon-file-text2'></use></svg></label><input id='data-07517e46-a75d-4d91-9833-8012da7c84d5' class='xr-var-data-in' type='checkbox'><label for='data-07517e46-a75d-4d91-9833-8012da7c84d5' title='Show/Hide data repr'><svg class='icon xr-icon-database'><use xlink:href='#icon-database'></use></svg></label><div class='xr-var-attrs'><dl class='xr-attrs'></dl></div><div class='xr-var-data'><pre>array([&#x27;C&#x27;, &#x27;C-PF&#x27;, &#x27;PF&#x27;, &#x27;PF-C&#x27;, &#x27;PF-SF&#x27;, &#x27;PG&#x27;, &#x27;PG-SG&#x27;, &#x27;SF&#x27;, &#x27;SF-PF&#x27;,\n",
              "       &#x27;SF-SG&#x27;, &#x27;SG&#x27;, &#x27;SG-PG&#x27;], dtype=&#x27;&lt;U5&#x27;)</pre></div></li></ul></div></li><li class='xr-section-item'><input id='section-7a36e6b6-dc29-4582-b1f7-1c89f928efa7' class='xr-section-summary-in' type='checkbox'  checked><label for='section-7a36e6b6-dc29-4582-b1f7-1c89f928efa7' class='xr-section-summary' >Data variables: <span>(4)</span></label><div class='xr-section-inline-details'></div><div class='xr-section-details'><ul class='xr-var-list'><li class='xr-var-item'><div class='xr-var-name'><span>μ</span></div><div class='xr-var-dims'>(Pos)</div><div class='xr-var-dtype'>float64</div><div class='xr-var-preview xr-preview'>1.001 1.002 0.9994 ... 1.0 1.002</div><input id='attrs-1c816551-dc7a-42ce-8739-d866a8542cf3' class='xr-var-attrs-in' type='checkbox' disabled><label for='attrs-1c816551-dc7a-42ce-8739-d866a8542cf3' title='Show/Hide attributes'><svg class='icon xr-icon-file-text2'><use xlink:href='#icon-file-text2'></use></svg></label><input id='data-871ec03b-b6f0-4285-83ea-dc33abec034a' class='xr-var-data-in' type='checkbox'><label for='data-871ec03b-b6f0-4285-83ea-dc33abec034a' title='Show/Hide data repr'><svg class='icon xr-icon-database'><use xlink:href='#icon-database'></use></svg></label><div class='xr-var-attrs'><dl class='xr-attrs'></dl></div><div class='xr-var-data'><pre>array([1.00142039, 1.00186556, 0.99939022, 1.00292083, 1.00721362,\n",
              "       1.0031591 , 1.00051659, 1.00194581, 1.00099064, 1.00015957,\n",
              "       1.00043479, 1.00177883])</pre></div></li><li class='xr-var-item'><div class='xr-var-name'><span>μ_mu</span></div><div class='xr-var-dims'>()</div><div class='xr-var-dtype'>float64</div><div class='xr-var-preview xr-preview'>0.9995</div><input id='attrs-7efc10f9-74ec-4e7d-ac54-9290b35711a5' class='xr-var-attrs-in' type='checkbox' disabled><label for='attrs-7efc10f9-74ec-4e7d-ac54-9290b35711a5' title='Show/Hide attributes'><svg class='icon xr-icon-file-text2'><use xlink:href='#icon-file-text2'></use></svg></label><input id='data-b37ab55f-ca07-4e92-a976-0e39c5dc2fff' class='xr-var-data-in' type='checkbox'><label for='data-b37ab55f-ca07-4e92-a976-0e39c5dc2fff' title='Show/Hide data repr'><svg class='icon xr-icon-database'><use xlink:href='#icon-database'></use></svg></label><div class='xr-var-attrs'><dl class='xr-attrs'></dl></div><div class='xr-var-data'><pre>array(0.9994787)</pre></div></li><li class='xr-var-item'><div class='xr-var-name'><span>μ_sd</span></div><div class='xr-var-dims'>()</div><div class='xr-var-dtype'>float64</div><div class='xr-var-preview xr-preview'>1.001</div><input id='attrs-4cfe97be-a0fa-4b6a-90a1-c8befb11584c' class='xr-var-attrs-in' type='checkbox' disabled><label for='attrs-4cfe97be-a0fa-4b6a-90a1-c8befb11584c' title='Show/Hide attributes'><svg class='icon xr-icon-file-text2'><use xlink:href='#icon-file-text2'></use></svg></label><input id='data-f7e729fe-9298-4997-8c28-12f25df4f541' class='xr-var-data-in' type='checkbox'><label for='data-f7e729fe-9298-4997-8c28-12f25df4f541' title='Show/Hide data repr'><svg class='icon xr-icon-database'><use xlink:href='#icon-database'></use></svg></label><div class='xr-var-attrs'><dl class='xr-attrs'></dl></div><div class='xr-var-data'><pre>array(1.00133246)</pre></div></li><li class='xr-var-item'><div class='xr-var-name'><span>σ</span></div><div class='xr-var-dims'>(Pos)</div><div class='xr-var-dtype'>float64</div><div class='xr-var-preview xr-preview'>1.002 1.001 1.003 ... 1.0 1.0</div><input id='attrs-8bb52361-c8f1-428c-8dd3-b38b08017490' class='xr-var-attrs-in' type='checkbox' disabled><label for='attrs-8bb52361-c8f1-428c-8dd3-b38b08017490' title='Show/Hide attributes'><svg class='icon xr-icon-file-text2'><use xlink:href='#icon-file-text2'></use></svg></label><input id='data-7eacf4fd-aceb-4046-a763-46c486d65b6c' class='xr-var-data-in' type='checkbox'><label for='data-7eacf4fd-aceb-4046-a763-46c486d65b6c' title='Show/Hide data repr'><svg class='icon xr-icon-database'><use xlink:href='#icon-database'></use></svg></label><div class='xr-var-attrs'><dl class='xr-attrs'></dl></div><div class='xr-var-data'><pre>array([1.00195829, 1.0007741 , 1.00303892, 1.00068055, 1.00308285,\n",
              "       1.00219772, 0.99973679, 0.99971506, 1.00085188, 0.99952385,\n",
              "       1.00001564, 1.00027311])</pre></div></li></ul></div></li><li class='xr-section-item'><input id='section-6136d78a-0578-48f8-bf5e-3958c65b6092' class='xr-section-summary-in' type='checkbox'  ><label for='section-6136d78a-0578-48f8-bf5e-3958c65b6092' class='xr-section-summary' >Indexes: <span>(1)</span></label><div class='xr-section-inline-details'></div><div class='xr-section-details'><ul class='xr-var-list'><li class='xr-var-item'><div class='xr-index-name'><div>Pos</div></div><div class='xr-index-preview'>PandasIndex</div><div></div><input id='index-6e9a1bef-5673-4961-ba15-e21ddc6b9f37' class='xr-index-data-in' type='checkbox'/><label for='index-6e9a1bef-5673-4961-ba15-e21ddc6b9f37' title='Show/Hide index repr'><svg class='icon xr-icon-database'><use xlink:href='#icon-database'></use></svg></label><div class='xr-index-data'><pre>PandasIndex(Index([&#x27;C&#x27;, &#x27;C-PF&#x27;, &#x27;PF&#x27;, &#x27;PF-C&#x27;, &#x27;PF-SF&#x27;, &#x27;PG&#x27;, &#x27;PG-SG&#x27;, &#x27;SF&#x27;, &#x27;SF-PF&#x27;,\n",
              "       &#x27;SF-SG&#x27;, &#x27;SG&#x27;, &#x27;SG-PG&#x27;],\n",
              "      dtype=&#x27;object&#x27;, name=&#x27;Pos&#x27;))</pre></div></li></ul></div></li><li class='xr-section-item'><input id='section-5ab15e7b-85a2-4ecb-b00a-fcbae8bdf04a' class='xr-section-summary-in' type='checkbox' disabled ><label for='section-5ab15e7b-85a2-4ecb-b00a-fcbae8bdf04a' class='xr-section-summary'  title='Expand/collapse section'>Attributes: <span>(0)</span></label><div class='xr-section-inline-details'></div><div class='xr-section-details'><dl class='xr-attrs'></dl></div></li></ul></div></div>"
            ]
          },
          "metadata": {},
          "execution_count": 28
        }
      ]
    },
    {
      "cell_type": "code",
      "source": [
        "#plots a 99.8% HDI for the positions TRB\n",
        "az.plot_forest(idata_bsktballN, var_names=['μ'], combined=True, figsize=(12, 3), kind = 'ridgeplot', hdi_prob=0.998)"
      ],
      "metadata": {
        "colab": {
          "base_uri": "https://localhost:8080/",
          "height": 308
        },
        "id": "ib6nX4xL6zZZ",
        "outputId": "2bc145da-d41a-4973-8d68-1bbcf3dd0607"
      },
      "execution_count": 29,
      "outputs": [
        {
          "output_type": "execute_result",
          "data": {
            "text/plain": [
              "array([<Axes: >], dtype=object)"
            ]
          },
          "metadata": {},
          "execution_count": 29
        },
        {
          "output_type": "display_data",
          "data": {
            "text/plain": [
              "<Figure size 1200x300 with 1 Axes>"
            ],
            "image/png": "[encoded data removed]"
          },
          "metadata": {}
        }
      ]
    },
    {
      "cell_type": "markdown",
      "source": [
        "Fortunately, there were no divergences while running the model. I changed the gamma prior to a normal prior and used a normal likelihood. Comparing both forest plots, overall they look the similar in shape and length but there are few differences like a difference like slight difference in length or the height of the curve or the curve is shifted slightly to the left or right, like PF-C."
      ],
      "metadata": {
        "id": "9n-uJsPSTuwr"
      }
    },
    {
      "cell_type": "markdown",
      "source": [
        "---\n",
        "Conclusion\n",
        "\n",
        "* The PF-C position have done more TRB than the other positions. PG-SG and C-PF have an unclear number of TRB done. On the other hand, PF, PG, SF, and SF-PF have a clear range but doesn't have a clear median. Then PF-C,PF-SF, SF-SG,SG and SG-PG positions have a clear median of TRB.\n",
        "*   I sort of understand how hyperpriors work but I know that priors can be built from priors\n",
        "  * I don't understand how the hyperpriors affect a prior\n",
        "*   I don't know how to read or analyze graphs other than linear graphs, scatterplots and bar graphs. It's harder when they don't have labels on the axis.\n",
        "\n"
      ],
      "metadata": {
        "id": "RS7TAgVJUl3K"
      }
    }
  ],
  "metadata": {
    "colab": {
      "provenance": [],
      "authorship_tag": "ABX9TyMFypmC7lgoxIbjihjH68h0",
      "include_colab_link": true
    },
    "kernelspec": {
      "display_name": "Python 3",
      "name": "python3"
    },
    "language_info": {
      "name": "python"
    },
    "widgets": {
      "application/vnd.jupyter.widget-state+json": {
        "e24a909d208a438590116467eacaef81": {
          "model_module": "@jupyter-widgets/output",
          "model_name": "OutputModel",
          "model_module_version": "1.0.0",
          "state": {
            "_dom_classes": [],
            "_model_module": "@jupyter-widgets/output",
            "_model_module_version": "1.0.0",
            "_model_name": "OutputModel",
            "_view_count": null,
            "_view_module": "@jupyter-widgets/output",
            "_view_module_version": "1.0.0",
            "_view_name": "OutputView",
            "layout": "IPY_MODEL_107e25c61c034ec9b481ac67aa640751",
            "msg_id": "",
            "outputs": [
              {
                "output_type": "display_data",
                "data": {
                  "text/plain": "Sampling chain 0, 1 divergences \u001b[32m━━━━━━━━━━━━━━━━━━━━━━━━━━━━━━━━━━━━━━━━\u001b[0m \u001b[35m100%\u001b[0m \u001b[36m0:00:00\u001b[0m / \u001b[33m0:00:46\u001b[0m\n",
                  "text/html": "<pre style=\"white-space:pre;overflow-x:auto;line-height:normal;font-family:Menlo,'DejaVu Sans Mono',consolas,'Courier New',monospace\">Sampling chain 0, 1 divergences <span style=\"color: #008000; text-decoration-color: #008000\">━━━━━━━━━━━━━━━━━━━━━━━━━━━━━━━━━━━━━━━━</span> <span style=\"color: #800080; text-decoration-color: #800080\">100%</span> <span style=\"color: #008080; text-decoration-color: #008080\">0:00:00</span> / <span style=\"color: #808000; text-decoration-color: #808000\">0:00:46</span>\n</pre>\n"
                },
                "metadata": {}
              }
            ]
          }
        },
        "107e25c61c034ec9b481ac67aa640751": {
          "model_module": "@jupyter-widgets/base",
          "model_name": "LayoutModel",
          "model_module_version": "1.2.0",
          "state": {
            "_model_module": "@jupyter-widgets/base",
            "_model_module_version": "1.2.0",
            "_model_name": "LayoutModel",
            "_view_count": null,
            "_view_module": "@jupyter-widgets/base",
            "_view_module_version": "1.2.0",
            "_view_name": "LayoutView",
            "align_content": null,
            "align_items": null,
            "align_self": null,
            "border": null,
            "bottom": null,
            "display": null,
            "flex": null,
            "flex_flow": null,
            "grid_area": null,
            "grid_auto_columns": null,
            "grid_auto_flow": null,
            "grid_auto_rows": null,
            "grid_column": null,
            "grid_gap": null,
            "grid_row": null,
            "grid_template_areas": null,
            "grid_template_columns": null,
            "grid_template_rows": null,
            "height": null,
            "justify_content": null,
            "justify_items": null,
            "left": null,
            "margin": null,
            "max_height": null,
            "max_width": null,
            "min_height": null,
            "min_width": null,
            "object_fit": null,
            "object_position": null,
            "order": null,
            "overflow": null,
            "overflow_x": null,
            "overflow_y": null,
            "padding": null,
            "right": null,
            "top": null,
            "visibility": null,
            "width": null
          }
        },
        "c183d51b141c417881a791aff4b51c3d": {
          "model_module": "@jupyter-widgets/output",
          "model_name": "OutputModel",
          "model_module_version": "1.0.0",
          "state": {
            "_dom_classes": [],
            "_model_module": "@jupyter-widgets/output",
            "_model_module_version": "1.0.0",
            "_model_name": "OutputModel",
            "_view_count": null,
            "_view_module": "@jupyter-widgets/output",
            "_view_module_version": "1.0.0",
            "_view_name": "OutputView",
            "layout": "IPY_MODEL_cbf82531b80b4314be7af625e81a16d7",
            "msg_id": "",
            "outputs": [
              {
                "output_type": "display_data",
                "data": {
                  "text/plain": "Sampling chain 1, 0 divergences \u001b[32m━━━━━━━━━━━━━━━━━━━━━━━━━━━━━━━━━━━━━━━━\u001b[0m \u001b[35m100%\u001b[0m \u001b[36m0:00:00\u001b[0m / \u001b[33m0:00:34\u001b[0m\n",
                  "text/html": "<pre style=\"white-space:pre;overflow-x:auto;line-height:normal;font-family:Menlo,'DejaVu Sans Mono',consolas,'Courier New',monospace\">Sampling chain 1, 0 divergences <span style=\"color: #008000; text-decoration-color: #008000\">━━━━━━━━━━━━━━━━━━━━━━━━━━━━━━━━━━━━━━━━</span> <span style=\"color: #800080; text-decoration-color: #800080\">100%</span> <span style=\"color: #008080; text-decoration-color: #008080\">0:00:00</span> / <span style=\"color: #808000; text-decoration-color: #808000\">0:00:34</span>\n</pre>\n"
                },
                "metadata": {}
              }
            ]
          }
        },
        "cbf82531b80b4314be7af625e81a16d7": {
          "model_module": "@jupyter-widgets/base",
          "model_name": "LayoutModel",
          "model_module_version": "1.2.0",
          "state": {
            "_model_module": "@jupyter-widgets/base",
            "_model_module_version": "1.2.0",
            "_model_name": "LayoutModel",
            "_view_count": null,
            "_view_module": "@jupyter-widgets/base",
            "_view_module_version": "1.2.0",
            "_view_name": "LayoutView",
            "align_content": null,
            "align_items": null,
            "align_self": null,
            "border": null,
            "bottom": null,
            "display": null,
            "flex": null,
            "flex_flow": null,
            "grid_area": null,
            "grid_auto_columns": null,
            "grid_auto_flow": null,
            "grid_auto_rows": null,
            "grid_column": null,
            "grid_gap": null,
            "grid_row": null,
            "grid_template_areas": null,
            "grid_template_columns": null,
            "grid_template_rows": null,
            "height": null,
            "justify_content": null,
            "justify_items": null,
            "left": null,
            "margin": null,
            "max_height": null,
            "max_width": null,
            "min_height": null,
            "min_width": null,
            "object_fit": null,
            "object_position": null,
            "order": null,
            "overflow": null,
            "overflow_x": null,
            "overflow_y": null,
            "padding": null,
            "right": null,
            "top": null,
            "visibility": null,
            "width": null
          }
        },
        "040cad43310945929ec93f6fee7dd568": {
          "model_module": "@jupyter-widgets/output",
          "model_name": "OutputModel",
          "model_module_version": "1.0.0",
          "state": {
            "_dom_classes": [],
            "_model_module": "@jupyter-widgets/output",
            "_model_module_version": "1.0.0",
            "_model_name": "OutputModel",
            "_view_count": null,
            "_view_module": "@jupyter-widgets/output",
            "_view_module_version": "1.0.0",
            "_view_name": "OutputView",
            "layout": "IPY_MODEL_aefebbbcaf8f4995974dd69a768a8960",
            "msg_id": "",
            "outputs": [
              {
                "output_type": "display_data",
                "data": {
                  "text/plain": "Sampling chain 0, 0 divergences \u001b[32m━━━━━━━━━━━━━━━━━━━━━━━━━━━━━━━━━━━━━━━━\u001b[0m \u001b[35m100%\u001b[0m \u001b[36m0:00:00\u001b[0m / \u001b[33m0:00:29\u001b[0m\n",
                  "text/html": "<pre style=\"white-space:pre;overflow-x:auto;line-height:normal;font-family:Menlo,'DejaVu Sans Mono',consolas,'Courier New',monospace\">Sampling chain 0, 0 divergences <span style=\"color: #008000; text-decoration-color: #008000\">━━━━━━━━━━━━━━━━━━━━━━━━━━━━━━━━━━━━━━━━</span> <span style=\"color: #800080; text-decoration-color: #800080\">100%</span> <span style=\"color: #008080; text-decoration-color: #008080\">0:00:00</span> / <span style=\"color: #808000; text-decoration-color: #808000\">0:00:29</span>\n</pre>\n"
                },
                "metadata": {}
              }
            ]
          }
        },
        "aefebbbcaf8f4995974dd69a768a8960": {
          "model_module": "@jupyter-widgets/base",
          "model_name": "LayoutModel",
          "model_module_version": "1.2.0",
          "state": {
            "_model_module": "@jupyter-widgets/base",
            "_model_module_version": "1.2.0",
            "_model_name": "LayoutModel",
            "_view_count": null,
            "_view_module": "@jupyter-widgets/base",
            "_view_module_version": "1.2.0",
            "_view_name": "LayoutView",
            "align_content": null,
            "align_items": null,
            "align_self": null,
            "border": null,
            "bottom": null,
            "display": null,
            "flex": null,
            "flex_flow": null,
            "grid_area": null,
            "grid_auto_columns": null,
            "grid_auto_flow": null,
            "grid_auto_rows": null,
            "grid_column": null,
            "grid_gap": null,
            "grid_row": null,
            "grid_template_areas": null,
            "grid_template_columns": null,
            "grid_template_rows": null,
            "height": null,
            "justify_content": null,
            "justify_items": null,
            "left": null,
            "margin": null,
            "max_height": null,
            "max_width": null,
            "min_height": null,
            "min_width": null,
            "object_fit": null,
            "object_position": null,
            "order": null,
            "overflow": null,
            "overflow_x": null,
            "overflow_y": null,
            "padding": null,
            "right": null,
            "top": null,
            "visibility": null,
            "width": null
          }
        },
        "9829d10572024ae1b318e62c905cf222": {
          "model_module": "@jupyter-widgets/output",
          "model_name": "OutputModel",
          "model_module_version": "1.0.0",
          "state": {
            "_dom_classes": [],
            "_model_module": "@jupyter-widgets/output",
            "_model_module_version": "1.0.0",
            "_model_name": "OutputModel",
            "_view_count": null,
            "_view_module": "@jupyter-widgets/output",
            "_view_module_version": "1.0.0",
            "_view_name": "OutputView",
            "layout": "IPY_MODEL_ee4eb6098dec445cbecf1d0eaa929a23",
            "msg_id": "",
            "outputs": [
              {
                "output_type": "display_data",
                "data": {
                  "text/plain": "Sampling chain 1, 0 divergences \u001b[32m━━━━━━━━━━━━━━━━━━━━━━━━━━━━━━━━━━━━━━━━\u001b[0m \u001b[35m100%\u001b[0m \u001b[36m0:00:00\u001b[0m / \u001b[33m0:00:34\u001b[0m\n",
                  "text/html": "<pre style=\"white-space:pre;overflow-x:auto;line-height:normal;font-family:Menlo,'DejaVu Sans Mono',consolas,'Courier New',monospace\">Sampling chain 1, 0 divergences <span style=\"color: #008000; text-decoration-color: #008000\">━━━━━━━━━━━━━━━━━━━━━━━━━━━━━━━━━━━━━━━━</span> <span style=\"color: #800080; text-decoration-color: #800080\">100%</span> <span style=\"color: #008080; text-decoration-color: #008080\">0:00:00</span> / <span style=\"color: #808000; text-decoration-color: #808000\">0:00:34</span>\n</pre>\n"
                },
                "metadata": {}
              }
            ]
          }
        },
        "ee4eb6098dec445cbecf1d0eaa929a23": {
          "model_module": "@jupyter-widgets/base",
          "model_name": "LayoutModel",
          "model_module_version": "1.2.0",
          "state": {
            "_model_module": "@jupyter-widgets/base",
            "_model_module_version": "1.2.0",
            "_model_name": "LayoutModel",
            "_view_count": null,
            "_view_module": "@jupyter-widgets/base",
            "_view_module_version": "1.2.0",
            "_view_name": "LayoutView",
            "align_content": null,
            "align_items": null,
            "align_self": null,
            "border": null,
            "bottom": null,
            "display": null,
            "flex": null,
            "flex_flow": null,
            "grid_area": null,
            "grid_auto_columns": null,
            "grid_auto_flow": null,
            "grid_auto_rows": null,
            "grid_column": null,
            "grid_gap": null,
            "grid_row": null,
            "grid_template_areas": null,
            "grid_template_columns": null,
            "grid_template_rows": null,
            "height": null,
            "justify_content": null,
            "justify_items": null,
            "left": null,
            "margin": null,
            "max_height": null,
            "max_width": null,
            "min_height": null,
            "min_width": null,
            "object_fit": null,
            "object_position": null,
            "order": null,
            "overflow": null,
            "overflow_x": null,
            "overflow_y": null,
            "padding": null,
            "right": null,
            "top": null,
            "visibility": null,
            "width": null
          }
        }
      }
    }
  },
  "nbformat": 4,
  "nbformat_minor": 0
}