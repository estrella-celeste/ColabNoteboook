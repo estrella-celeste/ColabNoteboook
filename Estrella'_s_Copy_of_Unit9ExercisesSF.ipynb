{
  "nbformat": 4,
  "nbformat_minor": 0,
  "metadata": {
    "colab": {
      "provenance": [],
      "include_colab_link": true
    },
    "kernelspec": {
      "name": "python3",
      "display_name": "Python 3"
    },
    "language_info": {
      "name": "python"
    }
  },
  "cells": [
    {
      "cell_type": "markdown",
      "metadata": {
        "id": "view-in-github",
        "colab_type": "text"
      },
      "source": [
        "<a href=\"https://colab.research.google.com/github/estrella-celeste/ColabNoteboook/blob/main/Estrella'_s_Copy_of_Unit9ExercisesSF.ipynb\" target=\"_parent\"><img src=\"https://colab.research.google.com/assets/colab-badge.svg\" alt=\"Open In Colab\"/></a>"
      ]
    },
    {
      "cell_type": "markdown",
      "source": [
        "# Unit 9 Exercises: Matrix Multiplication is all you need?\n",
        "\n",
        "We won't just talk about matrix multiplication in these exercises: we'll also play with a neuarl network visualization in order to get some intuition on how to properly parameratize neural networks."
      ],
      "metadata": {
        "id": "_AryvPXMCLY0"
      }
    },
    {
      "cell_type": "markdown",
      "source": [
        "**Task1**:\n",
        "\n",
        "Play with the web app at this [link](http://matrixmultiplication.xyz/).\n",
        "\n",
        "Explain what happens when we do matrix multiplication.\n",
        "\n",
        "Yes, I know I basically already asked you to do this in the notes. Don't copy and paste your anwser from before; honestly do the exercise again."
      ],
      "metadata": {
        "id": "p1alkQDKCfg8"
      }
    },
    {
      "cell_type": "markdown",
      "source": [
        "*In the matrix, there are two grids and the column of the second grid should match the number of rows of the first grid. After pressing the button multiply, the second grid is brought and flipped to the right where the second grid rows becomes columns and the columns become rows. Then, the second grid starts to slide down towards the first grid. When the first row of the second grid meets the numbers of the top row of the first grid, they multiply each other and all the products are added together. The sum of the products becomes the first number of the top row of the output. Then, the grid slides another row down, and it multiplies the next row and adds the products to make the first number of the next row of the product. Simultoneously, if there is another row in the second grid, the second row of numbers in the second grid is multiplied to the top row of the numbers of the first grid. Then they are added to make the next number of the output. This number is the next number of the row. The second grid is multiply a row of number with each row of numbers in the first grid. This is how matrix multiplication does.*"
      ],
      "metadata": {
        "id": "nuK_zzUJod9i"
      }
    },
    {
      "cell_type": "markdown",
      "source": [
        "**Task2**:\n",
        "\n",
        "Look at code for any neural network, such as my notes, or any other source.\n",
        "\n",
        "1. Point out where in the code the neural network is multiplying matricies.\n",
        "\n",
        "2. Conceptually, what part of a neural network is that matrix multiplication that you pointed out?\n",
        "In other words, what does matrix multiplication do for a neural network?"
      ],
      "metadata": {
        "id": "JK1wkGSwC7nW"
      }
    },
    {
      "cell_type": "markdown",
      "source": [
        "*In the notes, under the heading of 'Matrix Multiplication, Linear Modles, and Neural Networks' and 'How to get our model to guess better.', the code that the neural network is multiplying matrices is this:*\n",
        "\n",
        "```\n",
        "# y_pred = linear(X_train)\n",
        "```\n",
        "\n",
        "*I think that the 'linear' part is the function that does the action of multiplying and the 'X' is the matrices that is going to multiply with. So the function is just given two matrices and it just multiplies. The matrix multiplication helps the neural network learn and find a pattern in the data, so it would predict according through the data.*\n"
      ],
      "metadata": {
        "id": "nJZ5SdXfMKes"
      }
    },
    {
      "cell_type": "markdown",
      "source": [
        "**Task3**:\n",
        "\n",
        "Go to the [TensorFlow Playground website](https://playground.tensorflow.org/#activation=tanh&batchSize=10&dataset=circle&regDataset=reg-plane&learningRate=0.03&regularizationRate=0&noise=0&networkShape=4,2&seed=0.16540&showTestData=false&discretize=false&percTrainData=50&x=true&y=true&xTimesY=false&xSquared=false&ySquared=false&cosX=false&sinX=false&cosY=false&sinY=false&collectStats=false&problem=classification&initZero=false&hideText=false).\n",
        "\n",
        "Explain what part of the neural network visualization is matrix multiplication."
      ],
      "metadata": {
        "id": "cUQQ_t5wEtD0"
      }
    },
    {
      "cell_type": "markdown",
      "source": [
        "*The column where the features and the columns of layers is where the matrix multiplication is happening in the neural network. Like matrix multiplication, the feature column is the input and the each layer column has neurons. So each parent function is inputted into each neuron in the hidden layers. Then the first column of the hidden layer multiplies again with the next hidden layer column and it goes on until it reveals an output.*"
      ],
      "metadata": {
        "id": "IacwG3GCEdFu"
      }
    },
    {
      "cell_type": "markdown",
      "source": [
        "**Task4**:\n",
        "\n",
        "Go to the [TensorFlow Playground website](https://playground.tensorflow.org/#activation=tanh&batchSize=10&dataset=circle&regDataset=reg-plane&learningRate=0.03&regularizationRate=0&noise=0&networkShape=4,2&seed=0.16540&showTestData=false&discretize=false&percTrainData=50&x=true&y=true&xTimesY=false&xSquared=false&ySquared=false&cosX=false&sinX=false&cosY=false&sinY=false&collectStats=false&problem=classification&initZero=false&hideText=false).\n",
        "\n",
        "Set up the scenario with the following characteristics:\n",
        "\n",
        "- problem type: regression\n",
        "- Data: multi guassian\n",
        "- Ratio: 80% training\n",
        "- Noise: 20\n",
        "- Batch size: 15\n",
        "- Discretize output: start with it checked on\n",
        "\n",
        "You may turn discretize output on or off once you get an idea of what to do, so you can see what each node is doing.\n",
        "\n",
        "Goal: get your test loss to under **0.03**.\n",
        "\n",
        "You may change any of the other parameters that I didn't explicitly tell you to set up. Remember to use the back/restart button inbetween model adjustments.\n",
        "\n",
        "Your answer will be a link to the model you created. How do you get that link? Once you've achieved the appropriate test loss, copy and paste the url."
      ],
      "metadata": {
        "id": "8sYleMUZDKDg"
      }
    },
    {
      "cell_type": "markdown",
      "source": [
        "Answer for Task 4:\n",
        "\n",
        "[link text](https://playground.tensorflow.org/#activation=tanh&batchSize=15&dataset=circle&regDataset=reg-gauss&learningRate=0.03&regularizationRate=0&noise=20&networkShape=3,3&seed=0.61217&showTestData=false&discretize=true&percTrainData=80&x=true&y=true&xTimesY=false&xSquared=false&ySquared=false&cosX=false&sinX=false&cosY=false&sinY=false&collectStats=false&problem=regression&initZero=false&hideText=false)- Just let it run for a bit. [link text](https://)*"
      ],
      "metadata": {
        "id": "VwSbO6llxxvj"
      }
    },
    {
      "cell_type": "markdown",
      "source": [
        "**Task5**:\n",
        "\n",
        "Go to the [TensorFlow Playground website](https://playground.tensorflow.org/#activation=tanh&batchSize=10&dataset=circle&regDataset=reg-plane&learningRate=0.03&regularizationRate=0&noise=0&networkShape=4,2&seed=0.16540&showTestData=false&discretize=false&percTrainData=50&x=true&y=true&xTimesY=false&xSquared=false&ySquared=false&cosX=false&sinX=false&cosY=false&sinY=false&collectStats=false&problem=classification&initZero=false&hideText=false).\n",
        "\n",
        "Set up the scenario with the following characteristics:\n",
        "\n",
        "- problem type: classification\n",
        "- Data: circle\n",
        "- Ratio: 80% training\n",
        "- Noise: 0\n",
        "- Batch size: 15\n",
        "\n",
        "Goal: get your test loss to under **0.005**.\n",
        "\n",
        "You may change any of the other parameters that I didn't explicitly tell you to set up. Remember to use the back/restart button inbetween model adjustments.\n",
        "\n",
        "Your answer will be a link to the model you created. How do you get that link? Once you've achieved the appropriate test loss, copy and paste the url."
      ],
      "metadata": {
        "id": "4Pan5Q-XJDpe"
      }
    },
    {
      "cell_type": "markdown",
      "source": [
        "Answer for Task5:\n",
        "\n",
        "[link text](https://playground.tensorflow.org/#activation=tanh&batchSize=15&dataset=circle&regDataset=reg-gauss&learningRate=0.03&regularizationRate=0&noise=0&networkShape=4,3,2&seed=0.58897&showTestData=false&discretize=false&percTrainData=80&x=true&y=true&xTimesY=false&xSquared=false&ySquared=false&cosX=false&sinX=false&cosY=false&sinY=false&collectStats=false&problem=classification&initZero=false&hideText=false)"
      ],
      "metadata": {
        "id": "9zTrwMTnyUOE"
      }
    },
    {
      "cell_type": "markdown",
      "source": [
        "**Task6**:\n",
        "\n",
        "Go to the [TensorFlow Playground website](https://playground.tensorflow.org/#activation=tanh&batchSize=10&dataset=circle&regDataset=reg-plane&learningRate=0.03&regularizationRate=0&noise=0&networkShape=4,2&seed=0.16540&showTestData=false&discretize=false&percTrainData=50&x=true&y=true&xTimesY=false&xSquared=false&ySquared=false&cosX=false&sinX=false&cosY=false&sinY=false&collectStats=false&problem=classification&initZero=false&hideText=false).\n",
        "\n",
        "Set up the scenario with the following characteristics:\n",
        "\n",
        "- problem type: classification\n",
        "- Data: spiral\n",
        "- Ratio: 80% training\n",
        "- Noise: 20\n",
        "- Batch size: 15\n",
        "\n",
        "Goal: get your test loss to under **0.05**.\n",
        "\n",
        "You may change any of the other parameters that I didn't explicitly tell you to set up. Remember to use the back/restart button inbetween model adjustments.\n",
        "\n",
        "Your answer will be a link to the model you created. How do you get that link? Once you've achieved the appropriate test loss, copy and paste the url."
      ],
      "metadata": {
        "id": "AKuSgkjWLlwL"
      }
    },
    {
      "cell_type": "markdown",
      "source": [
        "Answer for Task6:\n",
        "\n",
        "[link text](https://playground.tensorflow.org/#activation=tanh&batchSize=15&dataset=spiral&regDataset=reg-plane&learningRate=0.03&regularizationRate=0.001&noise=20&networkShape=6,4&seed=0.34226&showTestData=false&discretize=false&percTrainData=80&x=true&y=true&xTimesY=false&xSquared=false&ySquared=false&cosX=false&sinX=true&cosY=false&sinY=true&collectStats=false&problem=classification&initZero=false&hideText=true)"
      ],
      "metadata": {
        "id": "umJqhVSj0xwP"
      }
    }
  ]
}